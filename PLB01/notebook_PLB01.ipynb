{
 "cells": [
  {
   "cell_type": "markdown",
   "id": "d4be88b4",
   "metadata": {},
   "source": [
    "# Cálculo de Energia Livre em Catálise usando VASP e ASE\n",
    "\n",
    "Autor: [Arthur Hardiagon](https://github.com/ahardiag) \n",
    "\n",
    "Contato: [ahardiagon@eq.ufrj.br](mailto:ahardiagon@eq.ufrj.br) - [Programa de Engenharia Química, PEQ/COPPE, UFRJ, Brasil](https://www.peq.coppe.ufrj.br/)\n",
    "\n",
    "---"
   ]
  },
  {
   "cell_type": "markdown",
   "id": "bc2d5987-e500-43a6-b717-d86aecb2b9d9",
   "metadata": {},
   "source": [
    "**Chemical reaction**\n",
    "\n",
    "$ COOH (ads)+ OH (ads) \\to CO_2 (ads) + H_2O (ads)$ \n",
    "\n",
    "We want to access the difference of free energy of this reaction on the surface of Platinum 111n (\"ads\" state).\n",
    "\n",
    "We assume low concentrations of gas, so that we can use ideal gas theory to compute thermodynamic properties.\n",
    "\n",
    "Only the thermodynamic properties are computed, the mechanism and the kinetics of the reaction are not treated in this notebook."
   ]
  },
  {
   "cell_type": "code",
   "execution_count": 1,
   "id": "fbb4801e",
   "metadata": {},
   "outputs": [],
   "source": [
    "import os\n",
    "# Definindo o path para os arquivos de potencial de pseudopotenciais do VASP\n",
    "# Certifique-se de que o caminho esteja correto para o seu sistema\n",
    "os.environ['VASP_PP_PATH'] = '/home/public/Programs/vasp.6.5.1/pp'\n",
    "os.environ['ASE_VASP_COMMAND'] = 'mpirun -np 1 vasp_std'\n",
    "os.environ['NO_STOP_MESSAGE'] = '1' # to avoid warning from mpirun\n",
    "\n",
    "# Importando o VASP calculator do ASE\n",
    "from ase.calculators.vasp import Vasp\n",
    "\n",
    "from ase import Atoms\n",
    "from ase.io import write, read\n",
    "from ase.visualize import view\n",
    "\n",
    "import numpy as np"
   ]
  },
  {
   "cell_type": "markdown",
   "id": "1b2c81e2-e8f7-40e3-adc8-0f3322e1c9a7",
   "metadata": {},
   "source": [
    "## Relaxation of free molecules "
   ]
  },
  {
   "cell_type": "markdown",
   "id": "3b3f201f-225a-4297-9dce-c56896b2a952",
   "metadata": {},
   "source": [
    "### Building COOH compound from formic acid"
   ]
  },
  {
   "cell_type": "markdown",
   "id": "59dfeeac-88ec-4ecc-97ce-8a2eca779da8",
   "metadata": {},
   "source": [
    "The structure of a close molecule, the acid formic, has been downloaded SDF format in the [Pubchem](https://pubchem.ncbi.nlm.nih.gov/compound/Formic-Acid) database:"
   ]
  },
  {
   "cell_type": "code",
   "execution_count": 2,
   "id": "db038a1c-7a73-4f9e-a9a8-e062d396fc42",
   "metadata": {},
   "outputs": [],
   "source": [
    "o2ch2 = read(\"inputs/Conformer3D_COMPOUND_CID_284.sdf\")"
   ]
  },
  {
   "cell_type": "code",
   "execution_count": 3,
   "id": "e9e449b6-e8e4-4ed4-8323-62d4a31dae2e",
   "metadata": {},
   "outputs": [
    {
     "data": {
      "text/html": [
       "<html>\n",
       "    <head>\n",
       "        <title>ASE atomic visualization</title>\n",
       "        <link rel=\"stylesheet\" type=\"text/css\"             href=\"https://www.x3dom.org/release/x3dom.css\"></link>\n",
       "        <script type=\"text/javascript\"             src=\"https://www.x3dom.org/release/x3dom.js\"></script>\n",
       "    </head>\n",
       "    <body>\n",
       "        <X3D width=\"400px\"; height=\"300px\";>\n",
       "\n",
       "<!--Inserting Generated X3D Scene-->\n",
       "<scene>\n",
       "  <viewpoint position=\"0 0 5.2989999999999995\">\n",
       "    <group/>\n",
       "  </viewpoint>\n",
       "  <transform translation=\"-0.0 -0.0 -0.0\">\n",
       "    <group>\n",
       "      <group>\n",
       "        <transform translation=\"0 0 0\">\n",
       "          <shape>\n",
       "            <appearance>\n",
       "              <material diffuseColor=\"0 0 0\"/>\n",
       "            </appearance>\n",
       "            <lineset vertexCount=\"5\">\n",
       "              <coordinate point=\"0 0 0 0.0 0.0 0.0 0.0 0.0 0.0 0.0 0.0 0.0 0 0 0\"/>\n",
       "            </lineset>\n",
       "          </shape>\n",
       "        </transform>\n",
       "        <transform translation=\"0.0 0.0 0.0\">\n",
       "          <shape>\n",
       "            <appearance>\n",
       "              <material diffuseColor=\"0 0 0\"/>\n",
       "            </appearance>\n",
       "            <lineset vertexCount=\"5\">\n",
       "              <coordinate point=\"0 0 0 0.0 0.0 0.0 0.0 0.0 0.0 0.0 0.0 0.0 0 0 0\"/>\n",
       "            </lineset>\n",
       "          </shape>\n",
       "        </transform>\n",
       "        <transform translation=\"0 0 0\">\n",
       "          <shape>\n",
       "            <appearance>\n",
       "              <material diffuseColor=\"0 0 0\"/>\n",
       "            </appearance>\n",
       "            <lineset vertexCount=\"5\">\n",
       "              <coordinate point=\"0 0 0 0.0 0.0 0.0 0.0 0.0 0.0 0.0 0.0 0.0 0 0 0\"/>\n",
       "            </lineset>\n",
       "          </shape>\n",
       "        </transform>\n",
       "        <transform translation=\"0.0 0.0 0.0\">\n",
       "          <shape>\n",
       "            <appearance>\n",
       "              <material diffuseColor=\"0 0 0\"/>\n",
       "            </appearance>\n",
       "            <lineset vertexCount=\"5\">\n",
       "              <coordinate point=\"0 0 0 0.0 0.0 0.0 0.0 0.0 0.0 0.0 0.0 0.0 0 0 0\"/>\n",
       "            </lineset>\n",
       "          </shape>\n",
       "        </transform>\n",
       "      </group>\n",
       "      <group>\n",
       "        <transform translation=\"-1.1685 0.1825 0.0\">\n",
       "          <shape>\n",
       "            <appearance>\n",
       "              <material diffuseColor=\"1.0 0.051 0.051\"/>\n",
       "            </appearance>\n",
       "            <sphere radius=\"0.66\"/>\n",
       "          </shape>\n",
       "        </transform>\n",
       "        <transform translation=\"1.1146 0.2103 0.0\">\n",
       "          <shape>\n",
       "            <appearance>\n",
       "              <material diffuseColor=\"1.0 0.051 0.051\"/>\n",
       "            </appearance>\n",
       "            <sphere radius=\"0.66\"/>\n",
       "          </shape>\n",
       "        </transform>\n",
       "        <transform translation=\"0.0538 -0.3927 0.0\">\n",
       "          <shape>\n",
       "            <appearance>\n",
       "              <material diffuseColor=\"0.565 0.565 0.565\"/>\n",
       "            </appearance>\n",
       "            <sphere radius=\"0.76\"/>\n",
       "          </shape>\n",
       "        </transform>\n",
       "        <transform translation=\"-0.0511 -1.4875 0.0002\">\n",
       "          <shape>\n",
       "            <appearance>\n",
       "              <material diffuseColor=\"1.0 1.0 1.0\"/>\n",
       "            </appearance>\n",
       "            <sphere radius=\"0.31\"/>\n",
       "          </shape>\n",
       "        </transform>\n",
       "        <transform translation=\"-1.1142 1.162 0.0\">\n",
       "          <shape>\n",
       "            <appearance>\n",
       "              <material diffuseColor=\"1.0 1.0 1.0\"/>\n",
       "            </appearance>\n",
       "            <sphere radius=\"0.31\"/>\n",
       "          </shape>\n",
       "        </transform>\n",
       "      </group>\n",
       "    </group>\n",
       "  </transform>\n",
       "</scene>\n",
       "<!--End of Inserted Scene-->\n",
       "\n",
       "        </X3D>\n",
       "    </body>\n",
       "</html>\n",
       "\n"
      ],
      "text/plain": [
       "<IPython.core.display.HTML object>"
      ]
     },
     "execution_count": 3,
     "metadata": {},
     "output_type": "execute_result"
    }
   ],
   "source": [
    "view(o2ch2,viewer='x3d')"
   ]
  },
  {
   "cell_type": "code",
   "execution_count": 4,
   "id": "ef4f30a3-c88f-43dd-b1c7-d557750715a7",
   "metadata": {},
   "outputs": [
    {
     "data": {
      "text/plain": [
       "(array([8, 8, 6, 1, 1]),\n",
       " array([[-1.1685e+00,  1.8250e-01,  0.0000e+00],\n",
       "        [ 1.1146e+00,  2.1030e-01,  0.0000e+00],\n",
       "        [ 5.3800e-02, -3.9270e-01,  0.0000e+00],\n",
       "        [-5.1100e-02, -1.4875e+00,  2.0000e-04],\n",
       "        [-1.1142e+00,  1.1620e+00,  0.0000e+00]]))"
      ]
     },
     "execution_count": 4,
     "metadata": {},
     "output_type": "execute_result"
    }
   ],
   "source": [
    "cooh = o2ch2.copy()\n",
    "cooh.get_atomic_numbers(),cooh.get_positions()"
   ]
  },
  {
   "cell_type": "code",
   "execution_count": 5,
   "id": "e5cfdf46-bbda-495b-9c77-e13c6224790e",
   "metadata": {},
   "outputs": [
    {
     "name": "stderr",
     "output_type": "stream",
     "text": [
      "/tmp/ipykernel_1337876/1006092051.py:2: FutureWarning: Please use len(self) or, if your atoms are distributed, self.get_global_number_of_atoms.\n",
      "  cooh.get_number_of_atoms()\n"
     ]
    },
    {
     "data": {
      "text/plain": [
       "4"
      ]
     },
     "execution_count": 5,
     "metadata": {},
     "output_type": "execute_result"
    }
   ],
   "source": [
    "cooh.pop(3)\n",
    "cooh.get_number_of_atoms()"
   ]
  },
  {
   "cell_type": "code",
   "execution_count": 6,
   "id": "73a1f802-5f06-4be1-80f4-0c1e77eba639",
   "metadata": {},
   "outputs": [
    {
     "data": {
      "text/html": [
       "<html>\n",
       "    <head>\n",
       "        <title>ASE atomic visualization</title>\n",
       "        <link rel=\"stylesheet\" type=\"text/css\"             href=\"https://www.x3dom.org/release/x3dom.css\"></link>\n",
       "        <script type=\"text/javascript\"             src=\"https://www.x3dom.org/release/x3dom.js\"></script>\n",
       "    </head>\n",
       "    <body>\n",
       "        <X3D width=\"400px\"; height=\"300px\";>\n",
       "\n",
       "<!--Inserting Generated X3D Scene-->\n",
       "<scene>\n",
       "  <viewpoint position=\"0 0 4.5662\">\n",
       "    <group/>\n",
       "  </viewpoint>\n",
       "  <transform translation=\"-0.0 -0.0 -0.0\">\n",
       "    <group>\n",
       "      <group>\n",
       "        <transform translation=\"0 0 0\">\n",
       "          <shape>\n",
       "            <appearance>\n",
       "              <material diffuseColor=\"0 0 0\"/>\n",
       "            </appearance>\n",
       "            <lineset vertexCount=\"5\">\n",
       "              <coordinate point=\"0 0 0 0.0 0.0 0.0 0.0 0.0 0.0 0.0 0.0 0.0 0 0 0\"/>\n",
       "            </lineset>\n",
       "          </shape>\n",
       "        </transform>\n",
       "        <transform translation=\"0.0 0.0 0.0\">\n",
       "          <shape>\n",
       "            <appearance>\n",
       "              <material diffuseColor=\"0 0 0\"/>\n",
       "            </appearance>\n",
       "            <lineset vertexCount=\"5\">\n",
       "              <coordinate point=\"0 0 0 0.0 0.0 0.0 0.0 0.0 0.0 0.0 0.0 0.0 0 0 0\"/>\n",
       "            </lineset>\n",
       "          </shape>\n",
       "        </transform>\n",
       "        <transform translation=\"0 0 0\">\n",
       "          <shape>\n",
       "            <appearance>\n",
       "              <material diffuseColor=\"0 0 0\"/>\n",
       "            </appearance>\n",
       "            <lineset vertexCount=\"5\">\n",
       "              <coordinate point=\"0 0 0 0.0 0.0 0.0 0.0 0.0 0.0 0.0 0.0 0.0 0 0 0\"/>\n",
       "            </lineset>\n",
       "          </shape>\n",
       "        </transform>\n",
       "        <transform translation=\"0.0 0.0 0.0\">\n",
       "          <shape>\n",
       "            <appearance>\n",
       "              <material diffuseColor=\"0 0 0\"/>\n",
       "            </appearance>\n",
       "            <lineset vertexCount=\"5\">\n",
       "              <coordinate point=\"0 0 0 0.0 0.0 0.0 0.0 0.0 0.0 0.0 0.0 0.0 0 0 0\"/>\n",
       "            </lineset>\n",
       "          </shape>\n",
       "        </transform>\n",
       "      </group>\n",
       "      <group>\n",
       "        <transform translation=\"-1.1685 0.1825 0.0\">\n",
       "          <shape>\n",
       "            <appearance>\n",
       "              <material diffuseColor=\"1.0 0.051 0.051\"/>\n",
       "            </appearance>\n",
       "            <sphere radius=\"0.66\"/>\n",
       "          </shape>\n",
       "        </transform>\n",
       "        <transform translation=\"1.1146 0.2103 0.0\">\n",
       "          <shape>\n",
       "            <appearance>\n",
       "              <material diffuseColor=\"1.0 0.051 0.051\"/>\n",
       "            </appearance>\n",
       "            <sphere radius=\"0.66\"/>\n",
       "          </shape>\n",
       "        </transform>\n",
       "        <transform translation=\"0.0538 -0.3927 0.0\">\n",
       "          <shape>\n",
       "            <appearance>\n",
       "              <material diffuseColor=\"0.565 0.565 0.565\"/>\n",
       "            </appearance>\n",
       "            <sphere radius=\"0.76\"/>\n",
       "          </shape>\n",
       "        </transform>\n",
       "        <transform translation=\"-1.1142 1.162 0.0\">\n",
       "          <shape>\n",
       "            <appearance>\n",
       "              <material diffuseColor=\"1.0 1.0 1.0\"/>\n",
       "            </appearance>\n",
       "            <sphere radius=\"0.31\"/>\n",
       "          </shape>\n",
       "        </transform>\n",
       "      </group>\n",
       "    </group>\n",
       "  </transform>\n",
       "</scene>\n",
       "<!--End of Inserted Scene-->\n",
       "\n",
       "        </X3D>\n",
       "    </body>\n",
       "</html>\n",
       "\n"
      ],
      "text/plain": [
       "<IPython.core.display.HTML object>"
      ]
     },
     "execution_count": 6,
     "metadata": {},
     "output_type": "execute_result"
    }
   ],
   "source": [
    "view(cooh,viewer='x3d')"
   ]
  },
  {
   "cell_type": "code",
   "execution_count": 7,
   "id": "65010b05-8179-4b2d-aa12-94b849e152d4",
   "metadata": {},
   "outputs": [
    {
     "data": {
      "text/plain": [
       "array([-0.02975027,  0.06084331,  0.        ])"
      ]
     },
     "execution_count": 7,
     "metadata": {},
     "output_type": "execute_result"
    }
   ],
   "source": [
    "cooh.get_center_of_mass()"
   ]
  },
  {
   "cell_type": "code",
   "execution_count": 8,
   "id": "8c8c323f-3c27-4ab9-beeb-bd2dea582f2b",
   "metadata": {},
   "outputs": [
    {
     "data": {
      "text/plain": [
       "array([7.13874973, 6.45354331, 6.        ])"
      ]
     },
     "execution_count": 8,
     "metadata": {},
     "output_type": "execute_result"
    }
   ],
   "source": [
    "cooh.center(vacuum=6.0)\n",
    "cooh.pbc = True\n",
    "cooh.get_center_of_mass()"
   ]
  },
  {
   "cell_type": "markdown",
   "id": "80eaeab2-a767-42cc-96e8-0610bd558f2d",
   "metadata": {},
   "source": [
    "### Relaxation of COOH"
   ]
  },
  {
   "cell_type": "code",
   "execution_count": 9,
   "id": "3a1f75ab-a0dd-4f3b-8da7-e49ae73e1e94",
   "metadata": {},
   "outputs": [
    {
     "name": "stdout",
     "output_type": "stream",
     "text": [
      "Optimized energy of COOH: -23.932 eV\n",
      "CPU times: user 68 ms, sys: 27.3 ms, total: 95.3 ms\n",
      "Wall time: 1min 19s\n"
     ]
    }
   ],
   "source": [
    "%%time\n",
    "calc_relax = Vasp(\n",
    "    directory='cooh_relax',\n",
    "    xc='PBE',\n",
    "    encut=450,\n",
    "    ismear=0, sigma=0.05,  # smearing : smooth the heavidide function in evalutation of expectation, for numerical stability\n",
    "    ediff=1e-6, ediffg=-0.01, # related to stop criteria for gradient descent algorithm\n",
    "    isif=2, ibrion=2, nsw=100, # calculate stress and forces, update only positions\n",
    "    nelm=100, # max numebr of SCF steps\n",
    "    lwave=True, lcharg=True, lvtot=True, # output options\n",
    "    atoms=cooh\n",
    ")\n",
    "calc_relax.calculate(cooh) # demora por 3 minutos\n",
    "\n",
    "E_cooh = cooh.get_potential_energy()\n",
    "\n",
    "print(f'Optimized energy of COOH: {E_cooh:.3f} eV')"
   ]
  },
  {
   "cell_type": "code",
   "execution_count": 10,
   "id": "2d52a6c6-3982-43bd-bf1f-879a8c920d62",
   "metadata": {},
   "outputs": [
    {
     "name": "stdout",
     "output_type": "stream",
     "text": [
      "Vibrational frequencies of COOH (cm⁻¹):\n",
      "f_v: 554.116 cm⁻¹, E_v: 0.069 eV\n",
      "f_v: 563.956 cm⁻¹, E_v: 0.070 eV\n",
      "f_v: 1002.438 cm⁻¹, E_v: 0.124 eV\n",
      "f_v: 1243.773 cm⁻¹, E_v: 0.154 eV\n",
      "f_v: 1797.961 cm⁻¹, E_v: 0.223 eV\n",
      "f_v: 3360.826 cm⁻¹, E_v: 0.417 eV\n",
      "CPU times: user 114 ms, sys: 38.1 ms, total: 153 ms\n",
      "Wall time: 3min 6s\n"
     ]
    }
   ],
   "source": [
    "%%time\n",
    "# 5 min\n",
    "calc_vib = Vasp(\n",
    "    directory='cooh_vib',\n",
    "    xc='PBE',\n",
    "    encut=450,\n",
    "    ismear=0, sigma=0.05,\n",
    "    ediff=1e-8,\n",
    "    ibrion=6,           # finite differences with symmetry\n",
    "    lreal=False,\n",
    "    lwave=False, lcharg=False,\n",
    "    atoms=cooh\n",
    ")\n",
    "\n",
    "calc_vib.calculate(cooh)\n",
    "\n",
    "vib_cooh = calc_vib.get_vibrations()\n",
    "\n",
    "# Frequencies (cm⁻¹)\n",
    "freqs = vib_cooh.get_frequencies()\n",
    "\n",
    "print(f'Vibrational frequencies of COOH (cm⁻¹):')\n",
    "vib_energies_cooh = []\n",
    "for freq in freqs:\n",
    "    if freq.real > 200:\n",
    "        vib_energy = (freq.real * 1.23981e-4)  # Convert cm⁻¹ to eV\n",
    "        vib_energies_cooh.append(vib_energy)\n",
    "        print(f'f_v: {freq.real:.3f} cm⁻¹, E_v: {vib_energy:.3f} eV')"
   ]
  },
  {
   "cell_type": "markdown",
   "id": "1b43bb1c-cdfb-4a57-be74-dd009cb86218",
   "metadata": {},
   "source": [
    "### Relaxation of OH "
   ]
  },
  {
   "cell_type": "code",
   "execution_count": 11,
   "id": "512ff1fd-6f3b-4eff-91b9-47bc48e6c125",
   "metadata": {},
   "outputs": [
    {
     "name": "stdout",
     "output_type": "stream",
     "text": [
      "Optimized energy of HO: -7.095 eV\n",
      "CPU times: user 48.1 ms, sys: 15.9 ms, total: 63.9 ms\n",
      "Wall time: 20.7 s\n"
     ]
    }
   ],
   "source": [
    "%%time\n",
    "oh = Atoms('HO',\n",
    "            positions=[[0.768, 0.000, 0.595], # from water geometry\n",
    "                       [0.000, 0.000, 0.000]]) # geometria otimizada com PBE\n",
    "oh.center(vacuum=6.0)  \n",
    "oh.pbc = True\n",
    "\n",
    "calc_relax = Vasp(\n",
    "    directory='oh_relax',\n",
    "    xc='PBE',\n",
    "    encut=450,\n",
    "    ismear=0, sigma=0.05, # smearing : smooth the heavidide function in evalutation of expectation, for numerical stability\n",
    "    ediff=1e-6, ediffg=-0.01, # related to stop criteria for gradient descent algorithm\n",
    "    isif=2, ibrion=2, nsw=100, \n",
    "    nelm=100, # max number of SCF steps\n",
    "    lwave=True, lcharg=True, lvtot=True, \n",
    "    atoms=oh\n",
    ")\n",
    "calc_relax.calculate(oh) # demora por volta de 10 s\n",
    "\n",
    "E_oh = oh.get_potential_energy()\n",
    "\n",
    "print(f'Optimized energy of HO: {E_oh:.3f} eV')"
   ]
  },
  {
   "cell_type": "code",
   "execution_count": 12,
   "id": "c780eab9-710c-459e-8162-1a3416de6b9a",
   "metadata": {},
   "outputs": [
    {
     "name": "stdout",
     "output_type": "stream",
     "text": [
      "Vibrational frequencies of OH (cm⁻¹):\n",
      "f_v: 3616.048 cm⁻¹, E_v: 0.448 eV\n",
      "CPU times: user 91.3 ms, sys: 22.6 ms, total: 114 ms\n",
      "Wall time: 1min 13s\n"
     ]
    }
   ],
   "source": [
    "%%time\n",
    "calc_vib = Vasp(\n",
    "    directory='oh_vib',\n",
    "    xc='PBE',\n",
    "    encut=450,\n",
    "    ismear=0, sigma=0.05,\n",
    "    ediff=1e-8,\n",
    "    ibrion=6,           # finite differences with symmetry\n",
    "    lreal=False,\n",
    "    lwave=False, lcharg=False,\n",
    "    atoms=oh\n",
    ")\n",
    "\n",
    "calc_vib.calculate(oh)\n",
    "\n",
    "vib_oh = calc_vib.get_vibrations()\n",
    "\n",
    "# Frequencies (cm⁻¹)\n",
    "freqs = vib_oh.get_frequencies()\n",
    "\n",
    "print(f'Vibrational frequencies of OH (cm⁻¹):')\n",
    "vib_energies_oh = []\n",
    "for freq in freqs:\n",
    "    if freq.real > 200:\n",
    "        vib_energy = (freq.real * 1.23981e-4)  # Convert cm⁻¹ to eV\n",
    "        vib_energies_oh.append(vib_energy)\n",
    "        print(f'f_v: {freq.real:.3f} cm⁻¹, E_v: {vib_energy:.3f} eV')"
   ]
  },
  {
   "cell_type": "code",
   "execution_count": null,
   "id": "94cd737d-9a45-40b3-a56a-d578add582aa",
   "metadata": {},
   "outputs": [],
   "source": []
  },
  {
   "cell_type": "code",
   "execution_count": null,
   "id": "238ff11a-1563-4e4f-a676-a1bb9b6a4426",
   "metadata": {},
   "outputs": [],
   "source": []
  },
  {
   "cell_type": "markdown",
   "id": "7125e212-e91c-409b-b00f-249f47f7a25b",
   "metadata": {},
   "source": [
    "### Relaxation of water molecule"
   ]
  },
  {
   "cell_type": "code",
   "execution_count": 13,
   "id": "b922b828",
   "metadata": {},
   "outputs": [
    {
     "name": "stdout",
     "output_type": "stream",
     "text": [
      "Optimized energy of H2O: -14.219 eV\n",
      "CPU times: user 31.8 ms, sys: 15 ms, total: 46.8 ms\n",
      "Wall time: 15.6 s\n"
     ]
    }
   ],
   "source": [
    "%%time\n",
    "h2o = Atoms('H2O',\n",
    "            positions=[[-0.768, 0.000, 0.595],\n",
    "                       [0.768, 0.000, 0.595],\n",
    "                       [0.000, 0.000, 0.000]]) # geometria otimizada com PBE\n",
    "h2o.center(vacuum=6.0)  \n",
    "h2o.pbc = True\n",
    "\n",
    "calc_relax = Vasp(\n",
    "    directory='h2o_relax',\n",
    "    xc='PBE',\n",
    "    encut=450,\n",
    "    ismear=0, sigma=0.05,\n",
    "    ediff=1e-6, ediffg=-0.01,\n",
    "    isif=2, ibrion=2, nsw=100,\n",
    "    nelm=100,\n",
    "    lwave=True, lcharg=True, lvtot=True,\n",
    "    atoms=h2o\n",
    ")\n",
    "calc_relax.calculate(h2o) # demora por volta de 10 s\n",
    "\n",
    "E_h2o = h2o.get_potential_energy()\n",
    "\n",
    "print(f'Optimized energy of H2O: {E_h2o:.3f} eV')"
   ]
  },
  {
   "cell_type": "markdown",
   "id": "67b3a363-5ee7-4719-8e72-205b6ee0c9ff",
   "metadata": {},
   "source": [
    "Calculo dos modos vibracionais"
   ]
  },
  {
   "cell_type": "code",
   "execution_count": 14,
   "id": "bf7cf56f",
   "metadata": {},
   "outputs": [
    {
     "name": "stdout",
     "output_type": "stream",
     "text": [
      "Vibrational frequencies of H2O (cm⁻¹):\n",
      "f_v: 1584.762 cm⁻¹, E_v: 0.196 eV\n",
      "f_v: 3728.000 cm⁻¹, E_v: 0.462 eV\n",
      "f_v: 3840.056 cm⁻¹, E_v: 0.476 eV\n",
      "CPU times: user 79.2 ms, sys: 30.1 ms, total: 109 ms\n",
      "Wall time: 1min 14s\n"
     ]
    }
   ],
   "source": [
    "%%time\n",
    "calc_vib = Vasp(\n",
    "    directory='h2o_vib',\n",
    "    xc='PBE',\n",
    "    encut=450,\n",
    "    ismear=0, sigma=0.05,\n",
    "    ediff=1e-8,\n",
    "    ibrion=6,           # finite differences with symmetry\n",
    "    lreal=False,\n",
    "    lwave=False, lcharg=False,\n",
    "    atoms=h2o\n",
    ")\n",
    "\n",
    "calc_vib.calculate(h2o)\n",
    "\n",
    "vib_water = calc_vib.get_vibrations()\n",
    "\n",
    "# Frequencies (cm⁻¹)\n",
    "freqs = vib_water.get_frequencies()\n",
    "\n",
    "print(f'Vibrational frequencies of H2O (cm⁻¹):')\n",
    "vib_energies_h2o = []\n",
    "for freq in freqs:\n",
    "    if freq.real > 200:\n",
    "        vib_energy = (freq.real * 1.23981e-4)  # Convert cm⁻¹ to eV\n",
    "        vib_energies_h2o.append(vib_energy)\n",
    "        print(f'f_v: {freq.real:.3f} cm⁻¹, E_v: {vib_energy:.3f} eV')"
   ]
  },
  {
   "cell_type": "code",
   "execution_count": null,
   "id": "1531eab8-0106-4494-b2c7-f1fc60a8169a",
   "metadata": {},
   "outputs": [],
   "source": []
  },
  {
   "attachments": {},
   "cell_type": "markdown",
   "id": "8aaaae2e-8102-4b70-9637-52bfa3fcb77d",
   "metadata": {},
   "source": [
    "### Relaxation of CO2\n"
   ]
  },
  {
   "cell_type": "code",
   "execution_count": 15,
   "id": "85d8dc17-0906-43d8-94ed-ce8f91fd27a2",
   "metadata": {},
   "outputs": [
    {
     "name": "stdout",
     "output_type": "stream",
     "text": [
      "Optimized energy of CO2: -22.960 eV\n",
      "CPU times: user 116 ms, sys: 31.6 ms, total: 147 ms\n",
      "Wall time: 15.1 s\n"
     ]
    }
   ],
   "source": [
    "%%time\n",
    "co2 = Atoms('CO2',\n",
    "            positions=[[0.000, 0.000, 0.000],\n",
    "                       [0.000, 0.000, 1.177],\n",
    "                       [0.000, 0.000, -1.177]]) # geometria otimizada com PBE\n",
    "co2.center(vacuum=6.0)  \n",
    "co2.pbc = True\n",
    "\n",
    "calc_relax = Vasp(\n",
    "    directory='co2_relax',\n",
    "    xc='PBE',\n",
    "    encut=450,\n",
    "    ismear=0, sigma=0.05,\n",
    "    ediff=1e-6, ediffg=-0.01,\n",
    "    isif=2, ibrion=2, nsw=100,\n",
    "    nelm=100,\n",
    "    lwave=True, lcharg=True, lvtot=True,\n",
    "    atoms=co2\n",
    ")\n",
    "calc_relax.calculate(co2) # demora por volta de .. ?? s\n",
    "\n",
    "E_co2 = co2.get_potential_energy()\n",
    "\n",
    "print(f'Optimized energy of CO2: {E_co2:.3f} eV')"
   ]
  },
  {
   "cell_type": "code",
   "execution_count": 16,
   "id": "4dfa02ce-cc9e-4248-80c7-f3fa0c66ffe2",
   "metadata": {},
   "outputs": [
    {
     "name": "stdout",
     "output_type": "stream",
     "text": [
      "Vibrational frequencies of CO2 (cm⁻¹):\n",
      "f_v: 631.428 cm⁻¹, E_v: 0.078 eV\n",
      "f_v: 631.428 cm⁻¹, E_v: 0.078 eV\n",
      "f_v: 1317.718 cm⁻¹, E_v: 0.163 eV\n",
      "f_v: 2366.073 cm⁻¹, E_v: 0.293 eV\n",
      "CPU times: user 56.3 ms, sys: 23.3 ms, total: 79.6 ms\n",
      "Wall time: 1min 2s\n"
     ]
    }
   ],
   "source": [
    "%%time\n",
    "calc_vib = Vasp(\n",
    "    directory='co2_vib',\n",
    "    xc='PBE',\n",
    "    encut=450,\n",
    "    ismear=0, sigma=0.05,\n",
    "    ediff=1e-8,\n",
    "    ibrion=6,           # finite differences with symmetry\n",
    "    lreal=False,\n",
    "    lwave=False, lcharg=False,\n",
    "    atoms=co2\n",
    ")\n",
    "\n",
    "calc_vib.calculate(co2)\n",
    "\n",
    "vib_co2 = calc_vib.get_vibrations()\n",
    "\n",
    "# Frequencies (cm⁻¹)\n",
    "freqs = vib_co2.get_frequencies()\n",
    "\n",
    "print(f'Vibrational frequencies of CO2 (cm⁻¹):')\n",
    "vib_energies_co2 = []\n",
    "for freq in freqs:\n",
    "    if freq.real > 200:\n",
    "        vib_energy = (freq.real * 1.23981e-4)  # Convert cm⁻¹ to eV\n",
    "        vib_energies_co2.append(vib_energy)\n",
    "        print(f'f_v: {freq.real:.3f} cm⁻¹, E_v: {vib_energy:.3f} eV')"
   ]
  },
  {
   "cell_type": "code",
   "execution_count": null,
   "id": "0071b342-0345-4d75-b16c-369f1c1fe792",
   "metadata": {},
   "outputs": [],
   "source": []
  },
  {
   "cell_type": "code",
   "execution_count": null,
   "id": "605a1ce8-78ff-412f-b57a-8076da3d5906",
   "metadata": {},
   "outputs": [],
   "source": []
  },
  {
   "cell_type": "markdown",
   "id": "61f47463-be0d-4e66-9a24-a698e1844e0c",
   "metadata": {},
   "source": [
    "### Relaxation of the Pt surface"
   ]
  },
  {
   "cell_type": "code",
   "execution_count": 17,
   "id": "266c32ac-7698-4b53-ae49-999b399d4f77",
   "metadata": {},
   "outputs": [],
   "source": [
    "from ase.lattice.cubic import FaceCenteredCubic\n",
    "from ase.build import fcc111"
   ]
  },
  {
   "cell_type": "code",
   "execution_count": 18,
   "id": "a57f1677-53d5-44f7-8449-0e705b164b1c",
   "metadata": {},
   "outputs": [
    {
     "name": "stdout",
     "output_type": "stream",
     "text": [
      "Optimized energy of Pt: -24.458 eV\n",
      "Lattice length: 3.967 Å\n",
      "CPU times: user 56.4 ms, sys: 11.3 ms, total: 67.7 ms\n",
      "Wall time: 3.9 s\n"
     ]
    }
   ],
   "source": [
    "%%time\n",
    "# bulk system\n",
    "Pt_crystal = FaceCenteredCubic(size=(1, 1, 1), symbol='Pt', latticeconstant=3.967, pbc=True)\n",
    "\n",
    "calc_relax = Vasp(directory='Pt_relax',\n",
    "                xc='PBE',\n",
    "                kpts=[6, 6, 6],  # specifies k-points\n",
    "                encut=450,\n",
    "                ismear=0, sigma=0.05,\n",
    "                ediff=1e-6, ediffg=-0.01,\n",
    "                isif=7, ibrion=2, nsw=100, # ionic relaxation (ISIF=7: relax cell volume only)\n",
    "                atoms=Pt_crystal\n",
    "                )\n",
    "calc_relax.calculate(Pt_crystal) # demora por volta de 2 s\n",
    "\n",
    "E_Pt = Pt_crystal.get_potential_energy()\n",
    "\n",
    "a0_Pt = Pt_crystal.cell.cellpar()[0]\n",
    "\n",
    "print(f'Optimized energy of Pt: {E_Pt:.3f} eV')\n",
    "print(f\"Lattice length: {a0_Pt:.3f} Å\")"
   ]
  },
  {
   "cell_type": "code",
   "execution_count": 19,
   "id": "b9c9907c-c2b4-423b-ba2c-b1b2cf6f6cbe",
   "metadata": {},
   "outputs": [
    {
     "name": "stdout",
     "output_type": "stream",
     "text": [
      "Optimized energy of Pt111: -67.924 eV\n",
      "CPU times: user 53.9 ms, sys: 11.7 ms, total: 65.6 ms\n",
      "Wall time: 11.9 s\n"
     ]
    }
   ],
   "source": [
    "%%time\n",
    "\n",
    "# Superfície Pt111\n",
    "Pt111_slab = fcc111(\"Pt\", size=(2,2,3), a=a0_Pt)\n",
    "Pt111_slab.center(vacuum=5.0, axis=2) # adicionar vacuo pela direção z\n",
    "Pt111_slab.pbc = True\n",
    "\n",
    "calc_relax = Vasp(directory='Pt111_slab_relax',\n",
    "                xc='PBE',\n",
    "                kpts=[6, 6, 1],  # specifies k-points\n",
    "                encut=450,\n",
    "                ismear=0, sigma=0.05,\n",
    "                ediff=1e-6, ediffg=-0.01,\n",
    "                ibrion=-1, # just SCF (no ionic relaxation)\n",
    "                atoms=Pt111_slab\n",
    "                )\n",
    "calc_relax.calculate(Pt111_slab) # demora por volta de 12 s\n",
    "\n",
    "E_Pt111 = Pt111_slab.get_potential_energy()\n",
    "\n",
    "print(f'Optimized energy of Pt111: {E_Pt111:.3f} eV')"
   ]
  },
  {
   "cell_type": "markdown",
   "id": "7d967b4b-8d62-413c-a539-d09af086a492",
   "metadata": {},
   "source": [
    "## Thermodynamic properties in ideal gas"
   ]
  },
  {
   "cell_type": "code",
   "execution_count": 20,
   "id": "01bba7c1-4ce9-4085-8094-23577244841c",
   "metadata": {},
   "outputs": [
    {
     "name": "stdout",
     "output_type": "stream",
     "text": [
      "Reaction: COOH + OH -> CO2 + H2O\n",
      "at T=298.15 K and P=101325.0 Pa:\n",
      "ΔG = -5.949 eV = -573.960 kJ/mol\n",
      "ΔH = -6.034 eV = -582.199 kJ/mol\n"
     ]
    }
   ],
   "source": [
    "from ase.thermochemistry import IdealGasThermo\n",
    "\n",
    "# Reagents\n",
    "cooh_thermo = IdealGasThermo(vib_energies=vib_energies_cooh,\n",
    "                        potentialenergy=E_cooh, atoms=cooh,\n",
    "                        geometry='nonlinear', # no axial symetry around the principal axis\n",
    "                        symmetrynumber=1,     # only one planar symmetry\n",
    "                        spin = 0.5)           # a free radical due to the loss of CH bond\n",
    "                                                                        \n",
    "\n",
    "oh_thermo = IdealGasThermo(vib_energies=vib_energies_oh,\n",
    "                        potentialenergy=E_oh, atoms=oh,\n",
    "                        geometry='linear', # like CO2\n",
    "                        symmetrynumber=1,  # like CO2\n",
    "                        spin=0.5)          # a free radical due to the loss of one hydrogen atom\n",
    "\n",
    "# Products\n",
    "h2o_thermo = IdealGasThermo(vib_energies=vib_energies_h2o,\n",
    "                        potentialenergy=E_h2o, atoms=h2o,\n",
    "                        geometry='nonlinear', symmetrynumber=2, spin=0)\n",
    "\n",
    "co2_thermo = IdealGasThermo(vib_energies=vib_energies_co2,\n",
    "                        potentialenergy=E_co2, atoms=co2,\n",
    "                        geometry='linear', symmetrynumber=2, spin=0)\n",
    "\n",
    "\n",
    "P = 101325. # Pa\n",
    "T = 298.15 # K\n",
    "\n",
    "G_cooh = cooh_thermo.get_gibbs_energy(temperature=T, pressure=P, verbose=False)\n",
    "H_cooh = cooh_thermo.get_enthalpy(temperature=T, verbose=False)\n",
    "\n",
    "G_oh = oh_thermo.get_gibbs_energy(temperature=T, pressure=P, verbose=False)\n",
    "H_oh = oh_thermo.get_enthalpy(temperature=T, verbose=False)\n",
    "\n",
    "G_h2o = h2o_thermo.get_gibbs_energy(temperature=T, pressure=P, verbose=False)\n",
    "H_h2o = h2o_thermo.get_enthalpy(temperature=T, verbose=False)\n",
    "\n",
    "G_co2 = co2_thermo.get_gibbs_energy(temperature=T, pressure=P, verbose=False)\n",
    "H_co2 = co2_thermo.get_enthalpy(temperature=T, verbose=False)\n",
    "\n",
    "# Enthalpy and Free energy variations during reaction; it is likely a theoretical result\n",
    "# this reaction does not occur in the gas phase (unless maybe under powerful radiation to obtain radicals)\n",
    "# COOH + HO -> CO2 + OH\n",
    "\n",
    "Gwgs = G_co2 + G_h2o - (G_cooh + G_oh)\n",
    "Hwgs = H_co2 + H_h2o - (H_cooh + H_oh)\n",
    "\n",
    "print('Reaction: COOH + OH -> CO2 + H2O')\n",
    "print(f'at T={T} K and P={P} Pa:')\n",
    "print(f'ΔG = {Gwgs:.3f} eV = {Gwgs*96.485:.3f} kJ/mol')\n",
    "print(f'ΔH = {Hwgs:.3f} eV = {Hwgs*96.485:.3f} kJ/mol')\n"
   ]
  },
  {
   "cell_type": "markdown",
   "id": "cd22a6ac-53be-4c68-8bc1-d3a2976e4f5d",
   "metadata": {},
   "source": [
    "## Adsorption of chemical species"
   ]
  },
  {
   "cell_type": "code",
   "execution_count": 21,
   "id": "920b977c-9c9d-404c-84c9-618878a6b133",
   "metadata": {},
   "outputs": [],
   "source": [
    "from ase.constraints import FixAtoms\n",
    "from ase.build import add_adsorbate"
   ]
  },
  {
   "cell_type": "markdown",
   "id": "2a5eb01f-1527-4cfc-acc1-abba33b9ad63",
   "metadata": {},
   "source": [
    "### Adsorption of COOH on the top Pt111 \n",
    "\n",
    "$ COOH + * \\to COOH*$ "
   ]
  },
  {
   "cell_type": "markdown",
   "id": "2e1a3e4b-b29d-4051-8e85-11b7b147dc94",
   "metadata": {},
   "source": [
    "This [article](https://iopscience.iop.org/article/10.1088/1742-6596/1494/1/012040) suggest a stable position for COOH compound adsorbed in Pt111 : the fragment is aligned with platinum atoms with the carbon atom at a distance $d=2.04$Å of the Pt atoms (in top position), and the hydrogen atom pointing towards the Pt surface."
   ]
  },
  {
   "cell_type": "code",
   "execution_count": 22,
   "id": "440185dd-584c-4c5d-9ddd-31a171d02c75",
   "metadata": {},
   "outputs": [
    {
     "data": {
      "text/html": [
       "<html>\n",
       "    <head>\n",
       "        <title>ASE atomic visualization</title>\n",
       "        <link rel=\"stylesheet\" type=\"text/css\"             href=\"https://www.x3dom.org/release/x3dom.css\"></link>\n",
       "        <script type=\"text/javascript\"             src=\"https://www.x3dom.org/release/x3dom.js\"></script>\n",
       "    </head>\n",
       "    <body>\n",
       "        <X3D width=\"400px\"; height=\"300px\";>\n",
       "\n",
       "<!--Inserting Generated X3D Scene-->\n",
       "<scene>\n",
       "  <viewpoint position=\"0 0 6.006463456090652\">\n",
       "    <group/>\n",
       "  </viewpoint>\n",
       "  <transform translation=\"-0.0 -0.0 -0.0\">\n",
       "    <group>\n",
       "      <group>\n",
       "        <transform translation=\"0 0 0\">\n",
       "          <shape>\n",
       "            <appearance>\n",
       "              <material diffuseColor=\"0 0 0\"/>\n",
       "            </appearance>\n",
       "            <lineset vertexCount=\"5\">\n",
       "              <coordinate point=\"0 0 0 0.0 0.0 0.0 0.0 0.0 0.0 0.0 0.0 0.0 0 0 0\"/>\n",
       "            </lineset>\n",
       "          </shape>\n",
       "        </transform>\n",
       "        <transform translation=\"0.0 0.0 0.0\">\n",
       "          <shape>\n",
       "            <appearance>\n",
       "              <material diffuseColor=\"0 0 0\"/>\n",
       "            </appearance>\n",
       "            <lineset vertexCount=\"5\">\n",
       "              <coordinate point=\"0 0 0 0.0 0.0 0.0 0.0 0.0 0.0 0.0 0.0 0.0 0 0 0\"/>\n",
       "            </lineset>\n",
       "          </shape>\n",
       "        </transform>\n",
       "        <transform translation=\"0 0 0\">\n",
       "          <shape>\n",
       "            <appearance>\n",
       "              <material diffuseColor=\"0 0 0\"/>\n",
       "            </appearance>\n",
       "            <lineset vertexCount=\"5\">\n",
       "              <coordinate point=\"0 0 0 0.0 0.0 0.0 0.0 0.0 0.0 0.0 0.0 0.0 0 0 0\"/>\n",
       "            </lineset>\n",
       "          </shape>\n",
       "        </transform>\n",
       "        <transform translation=\"0.0 0.0 0.0\">\n",
       "          <shape>\n",
       "            <appearance>\n",
       "              <material diffuseColor=\"0 0 0\"/>\n",
       "            </appearance>\n",
       "            <lineset vertexCount=\"5\">\n",
       "              <coordinate point=\"0 0 0 0.0 0.0 0.0 0.0 0.0 0.0 0.0 0.0 0.0 0 0 0\"/>\n",
       "            </lineset>\n",
       "          </shape>\n",
       "        </transform>\n",
       "      </group>\n",
       "      <group>\n",
       "        <transform translation=\"-1.1685 0.18249999999999994 0.0\">\n",
       "          <shape>\n",
       "            <appearance>\n",
       "              <material diffuseColor=\"1.0 0.051 0.051\"/>\n",
       "            </appearance>\n",
       "            <sphere radius=\"0.66\"/>\n",
       "          </shape>\n",
       "        </transform>\n",
       "        <transform translation=\"0.0538 -0.3927 0.0\">\n",
       "          <shape>\n",
       "            <appearance>\n",
       "              <material diffuseColor=\"0.565 0.565 0.565\"/>\n",
       "            </appearance>\n",
       "            <sphere radius=\"0.76\"/>\n",
       "          </shape>\n",
       "        </transform>\n",
       "        <transform translation=\"-1.8886317280453258 -0.48366742209631747 -1.1136824073313885e-16\">\n",
       "          <shape>\n",
       "            <appearance>\n",
       "              <material diffuseColor=\"1.0 1.0 1.0\"/>\n",
       "            </appearance>\n",
       "            <sphere radius=\"0.31\"/>\n",
       "          </shape>\n",
       "        </transform>\n",
       "        <transform translation=\"1.1146 0.2103 0.0\">\n",
       "          <shape>\n",
       "            <appearance>\n",
       "              <material diffuseColor=\"1.0 0.051 0.051\"/>\n",
       "            </appearance>\n",
       "            <sphere radius=\"0.66\"/>\n",
       "          </shape>\n",
       "        </transform>\n",
       "      </group>\n",
       "    </group>\n",
       "  </transform>\n",
       "</scene>\n",
       "<!--End of Inserted Scene-->\n",
       "\n",
       "        </X3D>\n",
       "    </body>\n",
       "</html>\n",
       "\n"
      ],
      "text/plain": [
       "<IPython.core.display.HTML object>"
      ]
     },
     "execution_count": 22,
     "metadata": {},
     "output_type": "execute_result"
    }
   ],
   "source": [
    "cooh = Atoms('OCH',\n",
    "            positions=[[-1.1685e+00,  1.8250e-01,  0.0000e+00], # from formic acid, see above\n",
    "                        #[ 1.1146e+00,  2.1030e-01,  0.0000e+00],\n",
    "                        [ 5.3800e-02, -3.9270e-01,  0.0000e+00],\n",
    "                        #[-5.1100e-02, -1.4875e+00,  2.0000e-04]]#,\n",
    "                        [-1.1142e+00,  1.1620e+00,  0.0000e+00]]\n",
    "            )\n",
    "\n",
    "# --- indices ---\n",
    "iO,iC,iH = 0,1,3\n",
    "\n",
    "# --- rotation axis (C–O bond) ---\n",
    "axis = cooh[iO].position - cooh[iC].position\n",
    "axis /= np.linalg.norm(axis)\n",
    "\n",
    "# --- rotation center = carbon atom ---\n",
    "center = cooh[iC].position\n",
    "\n",
    "# --- rotate only the hydrogen atom by 180° ---\n",
    "cooh.rotate(a=180, v=axis, center=center, rotate_cell=False)\n",
    "\n",
    "# Add the missing oxygen atom from the original structure of formic acid\n",
    "cooh.extend(Atoms('O',positions=[[ 1.1146e+00,  2.1030e-01,  0.0000e+00]]))\n",
    "\n",
    "# Add a rotation \n",
    "\n",
    "# visualize\n",
    "view(cooh, viewer='x3d')"
   ]
  },
  {
   "cell_type": "code",
   "execution_count": 23,
   "id": "ccbf777e-d7fe-4e9d-8ce5-a055182063cb",
   "metadata": {},
   "outputs": [
    {
     "data": {
      "text/plain": [
       "array([8, 6, 1, 8])"
      ]
     },
     "execution_count": 23,
     "metadata": {},
     "output_type": "execute_result"
    }
   ],
   "source": [
    "cooh.get_atomic_numbers()"
   ]
  },
  {
   "cell_type": "code",
   "execution_count": 24,
   "id": "02bb286f-a073-4c77-b639-13fabaeb570f",
   "metadata": {},
   "outputs": [],
   "source": [
    "COOHads_slab = fcc111(\"Pt\", size=(2,2,3), a=a0_Pt)\n",
    "COOHads_slab.center(vacuum=5.0, axis=2)\n",
    "COOHads_slab.pbc = True\n",
    "\n",
    "cooh.rotate('x',90)       # Rotate the molecule around its main axis (x) to 90°\n",
    "                          # so that the hydrogen points towards the Pt atom\n",
    "add_adsorbate(COOHads_slab,  adsorbate=cooh, height=2.04, position = (4.20, 2.42), mol_index=1)"
   ]
  },
  {
   "cell_type": "code",
   "execution_count": 25,
   "id": "00afab68-806b-4a48-acd6-02e980275a99",
   "metadata": {},
   "outputs": [
    {
     "data": {
      "text/html": [
       "<html>\n",
       "    <head>\n",
       "        <title>ASE atomic visualization</title>\n",
       "        <link rel=\"stylesheet\" type=\"text/css\"             href=\"https://www.x3dom.org/release/x3dom.css\"></link>\n",
       "        <script type=\"text/javascript\"             src=\"https://www.x3dom.org/release/x3dom.js\"></script>\n",
       "    </head>\n",
       "    <body>\n",
       "        <X3D width=\"400px\"; height=\"300px\";>\n",
       "\n",
       "<!--Inserting Generated X3D Scene-->\n",
       "<scene>\n",
       "  <viewpoint position=\"0 0 29.161394071500983\">\n",
       "    <group/>\n",
       "  </viewpoint>\n",
       "  <transform translation=\"-2.8050926009670345 -2.429281452405217 -7.290348517875246\">\n",
       "    <group>\n",
       "      <group>\n",
       "        <transform translation=\"0 0 0\">\n",
       "          <shape>\n",
       "            <appearance>\n",
       "              <material diffuseColor=\"0 0 0\"/>\n",
       "            </appearance>\n",
       "            <lineset vertexCount=\"5\">\n",
       "              <coordinate point=\"0 0 0 5.610185201934069 0.0 0.0 8.415277802901103 4.858562904810434 0.0 2.8050926009670345 4.858562904810434 0.0 0 0 0\"/>\n",
       "            </lineset>\n",
       "          </shape>\n",
       "        </transform>\n",
       "        <transform translation=\"0.0 0.0 14.580697035750491\">\n",
       "          <shape>\n",
       "            <appearance>\n",
       "              <material diffuseColor=\"0 0 0\"/>\n",
       "            </appearance>\n",
       "            <lineset vertexCount=\"5\">\n",
       "              <coordinate point=\"0 0 0 5.610185201934069 0.0 0.0 8.415277802901103 4.858562904810434 0.0 2.8050926009670345 4.858562904810434 0.0 0 0 0\"/>\n",
       "            </lineset>\n",
       "          </shape>\n",
       "        </transform>\n",
       "        <transform translation=\"0 0 0\">\n",
       "          <shape>\n",
       "            <appearance>\n",
       "              <material diffuseColor=\"0 0 0\"/>\n",
       "            </appearance>\n",
       "            <lineset vertexCount=\"5\">\n",
       "              <coordinate point=\"0 0 0 5.610185201934069 0.0 0.0 5.610185201934069 0.0 14.580697035750491 0.0 0.0 14.580697035750491 0 0 0\"/>\n",
       "            </lineset>\n",
       "          </shape>\n",
       "        </transform>\n",
       "        <transform translation=\"2.8050926009670345 4.858562904810434 0.0\">\n",
       "          <shape>\n",
       "            <appearance>\n",
       "              <material diffuseColor=\"0 0 0\"/>\n",
       "            </appearance>\n",
       "            <lineset vertexCount=\"5\">\n",
       "              <coordinate point=\"0 0 0 5.610185201934069 0.0 0.0 5.610185201934069 0.0 14.580697035750491 0.0 0.0 14.580697035750491 0 0 0\"/>\n",
       "            </lineset>\n",
       "          </shape>\n",
       "        </transform>\n",
       "      </group>\n",
       "      <group>\n",
       "        <transform translation=\"1.4025463004835172 0.8097604841350723 5.0\">\n",
       "          <shape>\n",
       "            <appearance>\n",
       "              <material diffuseColor=\"0.816 0.816 0.878\"/>\n",
       "            </appearance>\n",
       "            <sphere radius=\"1.36\"/>\n",
       "          </shape>\n",
       "        </transform>\n",
       "        <transform translation=\"4.207638901450552 0.8097604841350723 5.0\">\n",
       "          <shape>\n",
       "            <appearance>\n",
       "              <material diffuseColor=\"0.816 0.816 0.878\"/>\n",
       "            </appearance>\n",
       "            <sphere radius=\"1.36\"/>\n",
       "          </shape>\n",
       "        </transform>\n",
       "        <transform translation=\"2.8050926009670345 3.239041936540289 5.0\">\n",
       "          <shape>\n",
       "            <appearance>\n",
       "              <material diffuseColor=\"0.816 0.816 0.878\"/>\n",
       "            </appearance>\n",
       "            <sphere radius=\"1.36\"/>\n",
       "          </shape>\n",
       "        </transform>\n",
       "        <transform translation=\"5.610185201934069 3.239041936540289 5.0\">\n",
       "          <shape>\n",
       "            <appearance>\n",
       "              <material diffuseColor=\"0.816 0.816 0.878\"/>\n",
       "            </appearance>\n",
       "            <sphere radius=\"1.36\"/>\n",
       "          </shape>\n",
       "        </transform>\n",
       "        <transform translation=\"-5.190463986332114e-17 1.6195209682701446 7.290348517875246\">\n",
       "          <shape>\n",
       "            <appearance>\n",
       "              <material diffuseColor=\"0.816 0.816 0.878\"/>\n",
       "            </appearance>\n",
       "            <sphere radius=\"1.36\"/>\n",
       "          </shape>\n",
       "        </transform>\n",
       "        <transform translation=\"2.8050926009670345 1.6195209682701446 7.290348517875246\">\n",
       "          <shape>\n",
       "            <appearance>\n",
       "              <material diffuseColor=\"0.816 0.816 0.878\"/>\n",
       "            </appearance>\n",
       "            <sphere radius=\"1.36\"/>\n",
       "          </shape>\n",
       "        </transform>\n",
       "        <transform translation=\"1.402546300483517 4.0488024206753614 7.290348517875246\">\n",
       "          <shape>\n",
       "            <appearance>\n",
       "              <material diffuseColor=\"0.816 0.816 0.878\"/>\n",
       "            </appearance>\n",
       "            <sphere radius=\"1.36\"/>\n",
       "          </shape>\n",
       "        </transform>\n",
       "        <transform translation=\"4.207638901450552 4.0488024206753614 7.290348517875246\">\n",
       "          <shape>\n",
       "            <appearance>\n",
       "              <material diffuseColor=\"0.816 0.816 0.878\"/>\n",
       "            </appearance>\n",
       "            <sphere radius=\"1.36\"/>\n",
       "          </shape>\n",
       "        </transform>\n",
       "        <transform translation=\"0.0 0.0 9.580697035750491\">\n",
       "          <shape>\n",
       "            <appearance>\n",
       "              <material diffuseColor=\"0.816 0.816 0.878\"/>\n",
       "            </appearance>\n",
       "            <sphere radius=\"1.36\"/>\n",
       "          </shape>\n",
       "        </transform>\n",
       "        <transform translation=\"2.8050926009670345 0.0 9.580697035750491\">\n",
       "          <shape>\n",
       "            <appearance>\n",
       "              <material diffuseColor=\"0.816 0.816 0.878\"/>\n",
       "            </appearance>\n",
       "            <sphere radius=\"1.36\"/>\n",
       "          </shape>\n",
       "        </transform>\n",
       "        <transform translation=\"1.4025463004835172 2.429281452405217 9.580697035750491\">\n",
       "          <shape>\n",
       "            <appearance>\n",
       "              <material diffuseColor=\"0.816 0.816 0.878\"/>\n",
       "            </appearance>\n",
       "            <sphere radius=\"1.36\"/>\n",
       "          </shape>\n",
       "        </transform>\n",
       "        <transform translation=\"4.207638901450552 2.429281452405217 9.580697035750491\">\n",
       "          <shape>\n",
       "            <appearance>\n",
       "              <material diffuseColor=\"0.816 0.816 0.878\"/>\n",
       "            </appearance>\n",
       "            <sphere radius=\"1.36\"/>\n",
       "          </shape>\n",
       "        </transform>\n",
       "        <transform translation=\"2.9777000000000005 2.42 12.195897035750491\">\n",
       "          <shape>\n",
       "            <appearance>\n",
       "              <material diffuseColor=\"1.0 0.051 0.051\"/>\n",
       "            </appearance>\n",
       "            <sphere radius=\"0.66\"/>\n",
       "          </shape>\n",
       "        </transform>\n",
       "        <transform translation=\"4.2 2.42 11.620697035750492\">\n",
       "          <shape>\n",
       "            <appearance>\n",
       "              <material diffuseColor=\"0.565 0.565 0.565\"/>\n",
       "            </appearance>\n",
       "            <sphere radius=\"0.76\"/>\n",
       "          </shape>\n",
       "        </transform>\n",
       "        <transform translation=\"2.257568271954675 2.42 11.529729613654174\">\n",
       "          <shape>\n",
       "            <appearance>\n",
       "              <material diffuseColor=\"1.0 1.0 1.0\"/>\n",
       "            </appearance>\n",
       "            <sphere radius=\"0.31\"/>\n",
       "          </shape>\n",
       "        </transform>\n",
       "        <transform translation=\"5.2608 2.42 12.223697035750492\">\n",
       "          <shape>\n",
       "            <appearance>\n",
       "              <material diffuseColor=\"1.0 0.051 0.051\"/>\n",
       "            </appearance>\n",
       "            <sphere radius=\"0.66\"/>\n",
       "          </shape>\n",
       "        </transform>\n",
       "      </group>\n",
       "    </group>\n",
       "  </transform>\n",
       "</scene>\n",
       "<!--End of Inserted Scene-->\n",
       "\n",
       "        </X3D>\n",
       "    </body>\n",
       "</html>\n",
       "\n"
      ],
      "text/plain": [
       "<IPython.core.display.HTML object>"
      ]
     },
     "execution_count": 25,
     "metadata": {},
     "output_type": "execute_result"
    }
   ],
   "source": [
    "view(COOHads_slab,viewer='x3d')"
   ]
  },
  {
   "cell_type": "code",
   "execution_count": 26,
   "id": "85f3843b-bac5-4864-b3f3-fc8db4bf8a64",
   "metadata": {},
   "outputs": [
    {
     "name": "stdout",
     "output_type": "stream",
     "text": [
      "Optimized energy of OH in top position of Pt111: -94.696 eV\n",
      "CPU times: user 718 ms, sys: 302 ms, total: 1.02 s\n",
      "Wall time: 2h 12min 45s\n"
     ]
    }
   ],
   "source": [
    "%%time\n",
    "# DFT relaxation of the whole system Pt + COOH\n",
    "# fixando os átomos de Pt\n",
    "constraint = FixAtoms(mask=[atom.symbol=='Pt' for atom in COOHads_slab])\n",
    "COOHads_slab.set_constraint([constraint])\n",
    "\n",
    "calc_relax = Vasp(directory='Pt111_COOH_relax',\n",
    "                xc='PBE',\n",
    "                kpts=[6, 6, 1],  # specifies k-points\n",
    "                encut=450,\n",
    "                ismear=0, sigma=0.05,\n",
    "                ediff=1e-6, ediffg=-0.01,\n",
    "                isif=0, ibrion=2, nsw=100, # ionic relaxation (ISIF=2: relax atoms position only)\n",
    "                atoms=COOHads_slab\n",
    "                )\n",
    "calc_relax.calculate(COOHads_slab) # demora por volta de ??? min\n",
    "\n",
    "E_Pt111_COOH= COOHads_slab.get_potential_energy()\n",
    "\n",
    "print(f'Optimized energy of OH in top position of Pt111: {E_Pt111_COOH:.3f} eV')\n"
   ]
  },
  {
   "cell_type": "code",
   "execution_count": 27,
   "id": "db8ee117-a837-4633-a07c-349e6236de78",
   "metadata": {},
   "outputs": [
    {
     "name": "stdout",
     "output_type": "stream",
     "text": [
      "Vibrational frequencies of COOH on Pt111 (cm⁻¹):\n",
      "f_v: 270.431 cm⁻¹, E_v: 0.034 eV\n",
      "f_v: 289.263 cm⁻¹, E_v: 0.036 eV\n",
      "f_v: 511.133 cm⁻¹, E_v: 0.063 eV\n",
      "f_v: 618.995 cm⁻¹, E_v: 0.077 eV\n",
      "f_v: 659.449 cm⁻¹, E_v: 0.082 eV\n",
      "f_v: 1111.769 cm⁻¹, E_v: 0.138 eV\n",
      "f_v: 1197.658 cm⁻¹, E_v: 0.148 eV\n",
      "f_v: 1639.178 cm⁻¹, E_v: 0.203 eV\n",
      "f_v: 3425.082 cm⁻¹, E_v: 0.425 eV\n",
      "CPU times: user 455 ms, sys: 128 ms, total: 583 ms\n",
      "Wall time: 1h 20min 48s\n"
     ]
    }
   ],
   "source": [
    "%%time\n",
    "\n",
    "calc_vib = Vasp(\n",
    "    directory='Pt111_COOH_vib',\n",
    "    xc='PBE',\n",
    "    kpts=[6, 6, 1],\n",
    "    encut=450,\n",
    "    ismear=0, sigma=0.05,\n",
    "    ediff=1e-8,\n",
    "    ibrion=5,nfree=2, nsw=1,\n",
    "    lreal=False,lwave=False, lcharg=False,\n",
    "    atoms=COOHads_slab\n",
    ")\n",
    "\n",
    "calc_vib.calculate(COOHads_slab)\n",
    "\n",
    "vib_Pt111_cooh = calc_vib.get_vibrations()\n",
    "\n",
    "# Frequencies (cm⁻¹)\n",
    "freqs = vib_Pt111_cooh.get_frequencies()\n",
    "\n",
    "print(f'Vibrational frequencies of COOH on Pt111 (cm⁻¹):')\n",
    "\n",
    "vib_energie_Pt111_cooh = []\n",
    "for freq in freqs:\n",
    "    if freq.real > 200:\n",
    "        vib_energy = (freq.real * 1.23981e-4)  # Convert cm⁻¹ to eV\n",
    "        vib_energie_Pt111_cooh.append(vib_energy)\n",
    "        print(f'f_v: {freq.real:.3f} cm⁻¹, E_v: {vib_energy:.3f} eV')"
   ]
  },
  {
   "cell_type": "code",
   "execution_count": null,
   "id": "437bacbf-b7a2-4164-b647-cd825c1acc1b",
   "metadata": {},
   "outputs": [],
   "source": []
  },
  {
   "cell_type": "code",
   "execution_count": 28,
   "id": "8296b186-fd2c-48d1-8cba-2fe474e312f6",
   "metadata": {},
   "outputs": [],
   "source": [
    "cooh_Pt111_thermo = IdealGasThermo(vib_energies=vib_energie_Pt111_cooh,\n",
    "                        potentialenergy=E_Pt111_COOH, atoms=COOHads_slab,\n",
    "                        geometry='nonlinear', symmetrynumber=2, spin=0)\n",
    "\n",
    "G_cooh_Pt111 = cooh_Pt111_thermo.get_gibbs_energy(temperature=T, pressure=P, verbose=False)\n",
    "H_cooh_Pt111 = cooh_Pt111_thermo.get_enthalpy(temperature=T, verbose=False)"
   ]
  },
  {
   "cell_type": "code",
   "execution_count": 29,
   "id": "e0ec0f9e-37a2-46c3-b27b-5bcb83d67777",
   "metadata": {},
   "outputs": [
    {
     "name": "stdout",
     "output_type": "stream",
     "text": [
      "ΔH (OH) adsorption = -2.739 eV\n"
     ]
    }
   ],
   "source": [
    "Hads_cooh = H_cooh_Pt111 - H_cooh - E_Pt111\n",
    "      \n",
    "print(f'ΔH (OH) adsorption = {Hads_cooh:.3f} eV')"
   ]
  },
  {
   "cell_type": "code",
   "execution_count": null,
   "id": "c6029d03-e022-40a3-8d3a-e3a0dfbcbbf8",
   "metadata": {},
   "outputs": [],
   "source": []
  },
  {
   "cell_type": "code",
   "execution_count": null,
   "id": "71710631-8d14-4cce-984b-4c26c0f1bdfb",
   "metadata": {},
   "outputs": [],
   "source": []
  },
  {
   "cell_type": "markdown",
   "id": "a9e06998-0f50-46ea-8554-ad32f71a1515",
   "metadata": {},
   "source": [
    "### Adsorption of OH on the surface of Pt111\n",
    "\n",
    "$OH + *\\to OH*$"
   ]
  },
  {
   "cell_type": "markdown",
   "id": "226b57a5-a64f-44f3-b939-bcf9fa2b24ca",
   "metadata": {},
   "source": [
    "A quick [search](https://sites.psu.edu/dftap/2019/03/29/exploring-process-energetic-and-tilt-angles-of-adsorption-of-oh-on-pt111/) (no peer reviewed, careful) suggest that the oxygen atoms stands on top of the Pt atom at a distance $d\\approx\t1.975 $ Å and the tilt angle between OH bond and the normal axis of the surface would be $\\theta \\approx 73.5°$."
   ]
  },
  {
   "cell_type": "code",
   "execution_count": 30,
   "id": "0303bc9c-8c59-4e70-925e-76da9a553070",
   "metadata": {},
   "outputs": [],
   "source": [
    "OHads_slab = fcc111(\"Pt\", size=(2,2,3), a=a0_Pt)\n",
    "OHads_slab.center(vacuum=5.0, axis=2)\n",
    "OHads_slab.pbc = True"
   ]
  },
  {
   "cell_type": "code",
   "execution_count": 31,
   "id": "d548fa45-568b-46f6-a5e1-06379bc1894a",
   "metadata": {},
   "outputs": [],
   "source": [
    "# Initialize the system with OH in the normal axis of the surface\n",
    "oh = Atoms('HO',\n",
    "            positions=[[0.768, 0.595, 0.000],\n",
    "                       [0.000, 0.000, 0.000]]) # from water geometry (PBE relaxation)\n",
    "\n",
    "oh.rotate('z', 104.46/2) # put the OH bond in the plane 111\n",
    "oh.rotate('x', 90)       # rotaciona a molécula em 90 graus em torno do eixo z\n",
    "oh.rotate('y', 73.5)     # rotate the bond in agreement with the angle from another study\n",
    "oh.rotate('z', 30)       # The study suggests the OH bond is towards hollow of the 111 surface\n",
    "\n",
    "add_adsorbate(OHads_slab,  adsorbate=oh, height=1.975, position = (4.20, 2.42), mol_index=1)"
   ]
  },
  {
   "cell_type": "code",
   "execution_count": 32,
   "id": "58e48562-1017-42d7-8384-86ee186322cb",
   "metadata": {},
   "outputs": [
    {
     "data": {
      "text/html": [
       "<html>\n",
       "    <head>\n",
       "        <title>ASE atomic visualization</title>\n",
       "        <link rel=\"stylesheet\" type=\"text/css\"             href=\"https://www.x3dom.org/release/x3dom.css\"></link>\n",
       "        <script type=\"text/javascript\"             src=\"https://www.x3dom.org/release/x3dom.js\"></script>\n",
       "    </head>\n",
       "    <body>\n",
       "        <X3D width=\"400px\"; height=\"300px\";>\n",
       "\n",
       "<!--Inserting Generated X3D Scene-->\n",
       "<scene>\n",
       "  <viewpoint position=\"0 0 29.161394071500983\">\n",
       "    <group/>\n",
       "  </viewpoint>\n",
       "  <transform translation=\"-2.8050926009670345 -2.429281452405217 -7.290348517875246\">\n",
       "    <group>\n",
       "      <group>\n",
       "        <transform translation=\"0 0 0\">\n",
       "          <shape>\n",
       "            <appearance>\n",
       "              <material diffuseColor=\"0 0 0\"/>\n",
       "            </appearance>\n",
       "            <lineset vertexCount=\"5\">\n",
       "              <coordinate point=\"0 0 0 5.610185201934069 0.0 0.0 8.415277802901103 4.858562904810434 0.0 2.8050926009670345 4.858562904810434 0.0 0 0 0\"/>\n",
       "            </lineset>\n",
       "          </shape>\n",
       "        </transform>\n",
       "        <transform translation=\"0.0 0.0 14.580697035750491\">\n",
       "          <shape>\n",
       "            <appearance>\n",
       "              <material diffuseColor=\"0 0 0\"/>\n",
       "            </appearance>\n",
       "            <lineset vertexCount=\"5\">\n",
       "              <coordinate point=\"0 0 0 5.610185201934069 0.0 0.0 8.415277802901103 4.858562904810434 0.0 2.8050926009670345 4.858562904810434 0.0 0 0 0\"/>\n",
       "            </lineset>\n",
       "          </shape>\n",
       "        </transform>\n",
       "        <transform translation=\"0 0 0\">\n",
       "          <shape>\n",
       "            <appearance>\n",
       "              <material diffuseColor=\"0 0 0\"/>\n",
       "            </appearance>\n",
       "            <lineset vertexCount=\"5\">\n",
       "              <coordinate point=\"0 0 0 5.610185201934069 0.0 0.0 5.610185201934069 0.0 14.580697035750491 0.0 0.0 14.580697035750491 0 0 0\"/>\n",
       "            </lineset>\n",
       "          </shape>\n",
       "        </transform>\n",
       "        <transform translation=\"2.8050926009670345 4.858562904810434 0.0\">\n",
       "          <shape>\n",
       "            <appearance>\n",
       "              <material diffuseColor=\"0 0 0\"/>\n",
       "            </appearance>\n",
       "            <lineset vertexCount=\"5\">\n",
       "              <coordinate point=\"0 0 0 5.610185201934069 0.0 0.0 5.610185201934069 0.0 14.580697035750491 0.0 0.0 14.580697035750491 0 0 0\"/>\n",
       "            </lineset>\n",
       "          </shape>\n",
       "        </transform>\n",
       "      </group>\n",
       "      <group>\n",
       "        <transform translation=\"1.4025463004835172 0.8097604841350723 5.0\">\n",
       "          <shape>\n",
       "            <appearance>\n",
       "              <material diffuseColor=\"0.816 0.816 0.878\"/>\n",
       "            </appearance>\n",
       "            <sphere radius=\"1.36\"/>\n",
       "          </shape>\n",
       "        </transform>\n",
       "        <transform translation=\"4.207638901450552 0.8097604841350723 5.0\">\n",
       "          <shape>\n",
       "            <appearance>\n",
       "              <material diffuseColor=\"0.816 0.816 0.878\"/>\n",
       "            </appearance>\n",
       "            <sphere radius=\"1.36\"/>\n",
       "          </shape>\n",
       "        </transform>\n",
       "        <transform translation=\"2.8050926009670345 3.239041936540289 5.0\">\n",
       "          <shape>\n",
       "            <appearance>\n",
       "              <material diffuseColor=\"0.816 0.816 0.878\"/>\n",
       "            </appearance>\n",
       "            <sphere radius=\"1.36\"/>\n",
       "          </shape>\n",
       "        </transform>\n",
       "        <transform translation=\"5.610185201934069 3.239041936540289 5.0\">\n",
       "          <shape>\n",
       "            <appearance>\n",
       "              <material diffuseColor=\"0.816 0.816 0.878\"/>\n",
       "            </appearance>\n",
       "            <sphere radius=\"1.36\"/>\n",
       "          </shape>\n",
       "        </transform>\n",
       "        <transform translation=\"-5.190463986332114e-17 1.6195209682701446 7.290348517875246\">\n",
       "          <shape>\n",
       "            <appearance>\n",
       "              <material diffuseColor=\"0.816 0.816 0.878\"/>\n",
       "            </appearance>\n",
       "            <sphere radius=\"1.36\"/>\n",
       "          </shape>\n",
       "        </transform>\n",
       "        <transform translation=\"2.8050926009670345 1.6195209682701446 7.290348517875246\">\n",
       "          <shape>\n",
       "            <appearance>\n",
       "              <material diffuseColor=\"0.816 0.816 0.878\"/>\n",
       "            </appearance>\n",
       "            <sphere radius=\"1.36\"/>\n",
       "          </shape>\n",
       "        </transform>\n",
       "        <transform translation=\"1.402546300483517 4.0488024206753614 7.290348517875246\">\n",
       "          <shape>\n",
       "            <appearance>\n",
       "              <material diffuseColor=\"0.816 0.816 0.878\"/>\n",
       "            </appearance>\n",
       "            <sphere radius=\"1.36\"/>\n",
       "          </shape>\n",
       "        </transform>\n",
       "        <transform translation=\"4.207638901450552 4.0488024206753614 7.290348517875246\">\n",
       "          <shape>\n",
       "            <appearance>\n",
       "              <material diffuseColor=\"0.816 0.816 0.878\"/>\n",
       "            </appearance>\n",
       "            <sphere radius=\"1.36\"/>\n",
       "          </shape>\n",
       "        </transform>\n",
       "        <transform translation=\"0.0 0.0 9.580697035750491\">\n",
       "          <shape>\n",
       "            <appearance>\n",
       "              <material diffuseColor=\"0.816 0.816 0.878\"/>\n",
       "            </appearance>\n",
       "            <sphere radius=\"1.36\"/>\n",
       "          </shape>\n",
       "        </transform>\n",
       "        <transform translation=\"2.8050926009670345 0.0 9.580697035750491\">\n",
       "          <shape>\n",
       "            <appearance>\n",
       "              <material diffuseColor=\"0.816 0.816 0.878\"/>\n",
       "            </appearance>\n",
       "            <sphere radius=\"1.36\"/>\n",
       "          </shape>\n",
       "        </transform>\n",
       "        <transform translation=\"1.4025463004835172 2.429281452405217 9.580697035750491\">\n",
       "          <shape>\n",
       "            <appearance>\n",
       "              <material diffuseColor=\"0.816 0.816 0.878\"/>\n",
       "            </appearance>\n",
       "            <sphere radius=\"1.36\"/>\n",
       "          </shape>\n",
       "        </transform>\n",
       "        <transform translation=\"4.207638901450552 2.429281452405217 9.580697035750491\">\n",
       "          <shape>\n",
       "            <appearance>\n",
       "              <material diffuseColor=\"0.816 0.816 0.878\"/>\n",
       "            </appearance>\n",
       "            <sphere radius=\"1.36\"/>\n",
       "          </shape>\n",
       "        </transform>\n",
       "        <transform translation=\"5.0067278034152505 2.88576451446455 11.831564156412608\">\n",
       "          <shape>\n",
       "            <appearance>\n",
       "              <material diffuseColor=\"1.0 1.0 1.0\"/>\n",
       "            </appearance>\n",
       "            <sphere radius=\"0.31\"/>\n",
       "          </shape>\n",
       "        </transform>\n",
       "        <transform translation=\"4.2 2.42 11.555697035750491\">\n",
       "          <shape>\n",
       "            <appearance>\n",
       "              <material diffuseColor=\"1.0 0.051 0.051\"/>\n",
       "            </appearance>\n",
       "            <sphere radius=\"0.66\"/>\n",
       "          </shape>\n",
       "        </transform>\n",
       "      </group>\n",
       "    </group>\n",
       "  </transform>\n",
       "</scene>\n",
       "<!--End of Inserted Scene-->\n",
       "\n",
       "        </X3D>\n",
       "    </body>\n",
       "</html>\n",
       "\n"
      ],
      "text/plain": [
       "<IPython.core.display.HTML object>"
      ]
     },
     "execution_count": 32,
     "metadata": {},
     "output_type": "execute_result"
    }
   ],
   "source": [
    "view(OHads_slab,viewer='x3d')"
   ]
  },
  {
   "cell_type": "code",
   "execution_count": 33,
   "id": "0c8829ff-682a-4ca8-a7be-53942585c7d3",
   "metadata": {
    "scrolled": true
   },
   "outputs": [
    {
     "name": "stdout",
     "output_type": "stream",
     "text": [
      "Optimized energy of OH in top position of Pt111: -77.906 eV\n",
      "CPU times: user 251 ms, sys: 85 ms, total: 336 ms\n",
      "Wall time: 38min 6s\n"
     ]
    }
   ],
   "source": [
    "%%time\n",
    "\n",
    "# fixando os átomos de Pt\n",
    "constraint = FixAtoms(mask=[atom.symbol=='Pt' for atom in OHads_slab])\n",
    "OHads_slab.set_constraint([constraint])\n",
    "\n",
    "calc_relax = Vasp(directory='Pt111_OH_relax',\n",
    "                xc='PBE',\n",
    "                kpts=[6, 6, 1],  # specifies k-points\n",
    "                encut=450,\n",
    "                ismear=0, sigma=0.05,\n",
    "                ediff=1e-6, ediffg=-0.01,\n",
    "                isif=0, ibrion=2, nsw=100, # ionic relaxation (ISIF=2: relax atoms position only)\n",
    "                atoms=OHads_slab\n",
    "                )\n",
    "calc_relax.calculate(OHads_slab) # demora por volta de ??? min\n",
    "\n",
    "E_Pt111_OH= OHads_slab.get_potential_energy()\n",
    "\n",
    "print(f'Optimized energy of OH in top position of Pt111: {E_Pt111_OH:.3f} eV')\n"
   ]
  },
  {
   "cell_type": "code",
   "execution_count": 34,
   "id": "add1743f-c35d-44c6-830b-fd9c3158d1f0",
   "metadata": {},
   "outputs": [
    {
     "name": "stdout",
     "output_type": "stream",
     "text": [
      "Vibrational frequencies of OH on Pt111 (cm⁻¹):\n",
      "f_v: 508.490 cm⁻¹, E_v: 0.063 eV\n",
      "f_v: 917.726 cm⁻¹, E_v: 0.114 eV\n",
      "f_v: 3642.160 cm⁻¹, E_v: 0.452 eV\n",
      "CPU times: user 265 ms, sys: 83.3 ms, total: 348 ms\n",
      "Wall time: 40min 53s\n"
     ]
    }
   ],
   "source": [
    "%%time\n",
    "\n",
    "calc_vib = Vasp(\n",
    "    directory='Pt111_OH_vib',\n",
    "    xc='PBE',\n",
    "    kpts=[6, 6, 1],\n",
    "    encut=450,\n",
    "    ismear=0, sigma=0.05,\n",
    "    ediff=1e-8,\n",
    "    ibrion=5,nfree=2, nsw=1,\n",
    "    lreal=False,lwave=False, lcharg=False,\n",
    "    atoms=OHads_slab\n",
    ")\n",
    "\n",
    "calc_vib.calculate(OHads_slab)\n",
    "\n",
    "vib_Pt111_oh = calc_vib.get_vibrations()\n",
    "\n",
    "# Frequencies (cm⁻¹)\n",
    "freqs = vib_Pt111_oh.get_frequencies()\n",
    "\n",
    "print(f'Vibrational frequencies of OH on Pt111 (cm⁻¹):')\n",
    "\n",
    "vib_energie_Pt111_oh = []\n",
    "for freq in freqs:\n",
    "    if freq.real > 200:\n",
    "        vib_energy = (freq.real * 1.23981e-4)  # Convert cm⁻¹ to eV\n",
    "        vib_energie_Pt111_oh.append(vib_energy)\n",
    "        print(f'f_v: {freq.real:.3f} cm⁻¹, E_v: {vib_energy:.3f} eV')"
   ]
  },
  {
   "cell_type": "code",
   "execution_count": null,
   "id": "b5150c1d-2637-41b4-98d4-9877e8f63a6d",
   "metadata": {},
   "outputs": [],
   "source": []
  },
  {
   "cell_type": "code",
   "execution_count": 35,
   "id": "29f415ee-25cd-4210-b289-460f05f25a0d",
   "metadata": {},
   "outputs": [],
   "source": [
    "oh_Pt111_thermo = IdealGasThermo(vib_energies=vib_energie_Pt111_oh,\n",
    "                        potentialenergy=E_Pt111_OH, atoms=OHads_slab,\n",
    "                        geometry='nonlinear', symmetrynumber=2, spin=0)\n",
    "\n",
    "G_oh_Pt111 = oh_Pt111_thermo.get_gibbs_energy(temperature=T, pressure=P, verbose=False)\n",
    "H_oh_Pt111 = oh_Pt111_thermo.get_enthalpy(temperature=T, verbose=False)"
   ]
  },
  {
   "cell_type": "code",
   "execution_count": 36,
   "id": "d1758396-fc46-44ae-b11d-9c7fdbadf30d",
   "metadata": {},
   "outputs": [
    {
     "name": "stdout",
     "output_type": "stream",
     "text": [
      "ΔH (OH) adsorption = -2.777 eV\n"
     ]
    }
   ],
   "source": [
    "Hads_oh = H_oh_Pt111 - H_oh - E_Pt111\n",
    "      \n",
    "print(f'ΔH (OH) adsorption = {Hads_oh:.3f} eV')"
   ]
  },
  {
   "cell_type": "code",
   "execution_count": null,
   "id": "6fdcba0b-4986-405b-8dcb-b0b0db79e373",
   "metadata": {},
   "outputs": [],
   "source": []
  },
  {
   "cell_type": "markdown",
   "id": "c10b9f15-d819-4ad7-999f-47848eb19353",
   "metadata": {},
   "source": [
    "### Water Adsorption\n",
    "\n",
    "$ H_2 O + * \\to H_2 O*$ "
   ]
  },
  {
   "cell_type": "markdown",
   "id": "36e9fe05-02d6-4821-8440-ce7499e9b1e5",
   "metadata": {},
   "source": [
    "Optimize geometry of $H_2 O$ molecule adsorbed on top of Pt111. To this later, we used a previous calculation to spare time in DFT relaxation."
   ]
  },
  {
   "cell_type": "code",
   "execution_count": 40,
   "id": "d8d9f87a-2fb7-4021-b589-15a20077fa5c",
   "metadata": {},
   "outputs": [],
   "source": [
    "# Read a previous VASP output and take the final configuration\n",
    "H2Oads_slab = read(\"inputs/XDATCAR_Pt111_H20_relax\")"
   ]
  },
  {
   "cell_type": "code",
   "execution_count": 41,
   "id": "43b0740d-0734-41ac-989c-a6f9920631e6",
   "metadata": {},
   "outputs": [
    {
     "data": {
      "text/html": [
       "<html>\n",
       "    <head>\n",
       "        <title>ASE atomic visualization</title>\n",
       "        <link rel=\"stylesheet\" type=\"text/css\"             href=\"https://www.x3dom.org/release/x3dom.css\"></link>\n",
       "        <script type=\"text/javascript\"             src=\"https://www.x3dom.org/release/x3dom.js\"></script>\n",
       "    </head>\n",
       "    <body>\n",
       "        <X3D width=\"400px\"; height=\"300px\";>\n",
       "\n",
       "<!--Inserting Generated X3D Scene-->\n",
       "<scene>\n",
       "  <viewpoint position=\"0 0 29.161394\">\n",
       "    <group/>\n",
       "  </viewpoint>\n",
       "  <transform translation=\"-2.8050925 -2.4292815 -7.2903485\">\n",
       "    <group>\n",
       "      <group>\n",
       "        <transform translation=\"0 0 0\">\n",
       "          <shape>\n",
       "            <appearance>\n",
       "              <material diffuseColor=\"0 0 0\"/>\n",
       "            </appearance>\n",
       "            <lineset vertexCount=\"5\">\n",
       "              <coordinate point=\"0 0 0 5.610185 0.0 0.0 8.415278 4.858563 0.0 2.805093 4.858563 0.0 0 0 0\"/>\n",
       "            </lineset>\n",
       "          </shape>\n",
       "        </transform>\n",
       "        <transform translation=\"0.0 0.0 14.580697\">\n",
       "          <shape>\n",
       "            <appearance>\n",
       "              <material diffuseColor=\"0 0 0\"/>\n",
       "            </appearance>\n",
       "            <lineset vertexCount=\"5\">\n",
       "              <coordinate point=\"0 0 0 5.610185 0.0 0.0 8.415278 4.858563 0.0 2.805093 4.858563 0.0 0 0 0\"/>\n",
       "            </lineset>\n",
       "          </shape>\n",
       "        </transform>\n",
       "        <transform translation=\"0 0 0\">\n",
       "          <shape>\n",
       "            <appearance>\n",
       "              <material diffuseColor=\"0 0 0\"/>\n",
       "            </appearance>\n",
       "            <lineset vertexCount=\"5\">\n",
       "              <coordinate point=\"0 0 0 5.610185 0.0 0.0 5.610185 0.0 14.580697 0.0 0.0 14.580697 0 0 0\"/>\n",
       "            </lineset>\n",
       "          </shape>\n",
       "        </transform>\n",
       "        <transform translation=\"2.805093 4.858563 0.0\">\n",
       "          <shape>\n",
       "            <appearance>\n",
       "              <material diffuseColor=\"0 0 0\"/>\n",
       "            </appearance>\n",
       "            <lineset vertexCount=\"5\">\n",
       "              <coordinate point=\"0 0 0 5.610185 0.0 0.0 5.610185 0.0 14.580697 0.0 0.0 14.580697 0 0 0\"/>\n",
       "            </lineset>\n",
       "          </shape>\n",
       "        </transform>\n",
       "      </group>\n",
       "      <group>\n",
       "        <transform translation=\"1.40254636138426 0.80976051619521 4.999999930033611\">\n",
       "          <shape>\n",
       "            <appearance>\n",
       "              <material diffuseColor=\"0.816 0.816 0.878\"/>\n",
       "            </appearance>\n",
       "            <sphere radius=\"1.36\"/>\n",
       "          </shape>\n",
       "        </transform>\n",
       "        <transform translation=\"4.20763886138426 0.80976051619521 4.999999930033611\">\n",
       "          <shape>\n",
       "            <appearance>\n",
       "              <material diffuseColor=\"0.816 0.816 0.878\"/>\n",
       "            </appearance>\n",
       "            <sphere radius=\"1.36\"/>\n",
       "          </shape>\n",
       "        </transform>\n",
       "        <transform translation=\"2.80509286138426 3.23904201619521 4.999999930033611\">\n",
       "          <shape>\n",
       "            <appearance>\n",
       "              <material diffuseColor=\"0.816 0.816 0.878\"/>\n",
       "            </appearance>\n",
       "            <sphere radius=\"1.36\"/>\n",
       "          </shape>\n",
       "        </transform>\n",
       "        <transform translation=\"5.610185361384261 3.23904201619521 4.999999930033611\">\n",
       "          <shape>\n",
       "            <appearance>\n",
       "              <material diffuseColor=\"0.816 0.816 0.878\"/>\n",
       "            </appearance>\n",
       "            <sphere radius=\"1.36\"/>\n",
       "          </shape>\n",
       "        </transform>\n",
       "        <transform translation=\"5.61018513861574 1.61952098380479 7.2903485\">\n",
       "          <shape>\n",
       "            <appearance>\n",
       "              <material diffuseColor=\"0.816 0.816 0.878\"/>\n",
       "            </appearance>\n",
       "            <sphere radius=\"1.36\"/>\n",
       "          </shape>\n",
       "        </transform>\n",
       "        <transform translation=\"2.80509263861574 1.61952098380479 7.2903485\">\n",
       "          <shape>\n",
       "            <appearance>\n",
       "              <material diffuseColor=\"0.816 0.816 0.878\"/>\n",
       "            </appearance>\n",
       "            <sphere radius=\"1.36\"/>\n",
       "          </shape>\n",
       "        </transform>\n",
       "        <transform translation=\"7.01273163861574 4.04880248380479 7.2903485\">\n",
       "          <shape>\n",
       "            <appearance>\n",
       "              <material diffuseColor=\"0.816 0.816 0.878\"/>\n",
       "            </appearance>\n",
       "            <sphere radius=\"1.36\"/>\n",
       "          </shape>\n",
       "        </transform>\n",
       "        <transform translation=\"4.20763913861574 4.04880248380479 7.2903485\">\n",
       "          <shape>\n",
       "            <appearance>\n",
       "              <material diffuseColor=\"0.816 0.816 0.878\"/>\n",
       "            </appearance>\n",
       "            <sphere radius=\"1.36\"/>\n",
       "          </shape>\n",
       "        </transform>\n",
       "        <transform translation=\"0.0 0.0 9.58069706996639\">\n",
       "          <shape>\n",
       "            <appearance>\n",
       "              <material diffuseColor=\"0.816 0.816 0.878\"/>\n",
       "            </appearance>\n",
       "            <sphere radius=\"1.36\"/>\n",
       "          </shape>\n",
       "        </transform>\n",
       "        <transform translation=\"2.8050925 0.0 9.58069706996639\">\n",
       "          <shape>\n",
       "            <appearance>\n",
       "              <material diffuseColor=\"0.816 0.816 0.878\"/>\n",
       "            </appearance>\n",
       "            <sphere radius=\"1.36\"/>\n",
       "          </shape>\n",
       "        </transform>\n",
       "        <transform translation=\"1.4025465 2.4292815 9.58069706996639\">\n",
       "          <shape>\n",
       "            <appearance>\n",
       "              <material diffuseColor=\"0.816 0.816 0.878\"/>\n",
       "            </appearance>\n",
       "            <sphere radius=\"1.36\"/>\n",
       "          </shape>\n",
       "        </transform>\n",
       "        <transform translation=\"4.207639 2.4292815 9.58069706996639\">\n",
       "          <shape>\n",
       "            <appearance>\n",
       "              <material diffuseColor=\"0.816 0.816 0.878\"/>\n",
       "            </appearance>\n",
       "            <sphere radius=\"1.36\"/>\n",
       "          </shape>\n",
       "        </transform>\n",
       "        <transform translation=\"3.04336818323839 2.3566896130457398 11.982949864882322\">\n",
       "          <shape>\n",
       "            <appearance>\n",
       "              <material diffuseColor=\"1.0 1.0 1.0\"/>\n",
       "            </appearance>\n",
       "            <sphere radius=\"0.31\"/>\n",
       "          </shape>\n",
       "        </transform>\n",
       "        <transform translation=\"4.00920659338441 3.5695246295211605 11.98078361072903\">\n",
       "          <shape>\n",
       "            <appearance>\n",
       "              <material diffuseColor=\"1.0 1.0 1.0\"/>\n",
       "            </appearance>\n",
       "            <sphere radius=\"0.31\"/>\n",
       "          </shape>\n",
       "        </transform>\n",
       "        <transform translation=\"3.9978096820297004 2.5877406171072 11.96444156553143\">\n",
       "          <shape>\n",
       "            <appearance>\n",
       "              <material diffuseColor=\"1.0 0.051 0.051\"/>\n",
       "            </appearance>\n",
       "            <sphere radius=\"0.66\"/>\n",
       "          </shape>\n",
       "        </transform>\n",
       "      </group>\n",
       "    </group>\n",
       "  </transform>\n",
       "</scene>\n",
       "<!--End of Inserted Scene-->\n",
       "\n",
       "        </X3D>\n",
       "    </body>\n",
       "</html>\n",
       "\n"
      ],
      "text/plain": [
       "<IPython.core.display.HTML object>"
      ]
     },
     "execution_count": 41,
     "metadata": {},
     "output_type": "execute_result"
    }
   ],
   "source": [
    "view(H2Oads_slab,viewer='x3d')"
   ]
  },
  {
   "cell_type": "code",
   "execution_count": 42,
   "id": "b87fe335-77ca-460e-8989-dd8a7bfe808f",
   "metadata": {},
   "outputs": [
    {
     "name": "stdout",
     "output_type": "stream",
     "text": [
      "Optimized energy of H2O in top position of Pt111: -82.354 eV\n"
     ]
    }
   ],
   "source": [
    "# fixando os átomos de Pt\n",
    "constraint = FixAtoms(mask=[atom.symbol=='Pt' for atom in H2Oads_slab])\n",
    "H2Oads_slab.set_constraint([constraint])\n",
    "\n",
    "calc_relax = Vasp(directory='Pt111_H2O_relax',\n",
    "                xc='PBE',\n",
    "                kpts=[6, 6, 1],  # specifies k-points\n",
    "                encut=450,\n",
    "                ismear=0, sigma=0.05,\n",
    "                ediff=1e-6, ediffg=-0.01,\n",
    "                isif=0, ibrion=2, nsw=100, # ionic relaxation (ISIF=2: relax atoms position only)\n",
    "                atoms=H2Oads_slab\n",
    "                )\n",
    "calc_relax.calculate(H2Oads_slab) # demora por volta de 260 min\n",
    "\n",
    "E_Pt111_H2O= H2Oads_slab.get_potential_energy()\n",
    "\n",
    "print(f'Optimized energy of H2O in top position of Pt111: {E_Pt111_H2O:.3f} eV')\n"
   ]
  },
  {
   "cell_type": "code",
   "execution_count": 43,
   "id": "72310299-55a9-455b-a9d1-1dc977d2bba0",
   "metadata": {},
   "outputs": [
    {
     "name": "stdout",
     "output_type": "stream",
     "text": [
      "Adsorption energy of H2O on Pt111: -0.211 eV\n"
     ]
    }
   ],
   "source": [
    "E_ads_Pt111_H2O = E_Pt111_H2O - E_Pt111 - E_h2o\n",
    "\n",
    "print(f'Adsorption energy of H2O on Pt111: {E_ads_Pt111_H2O:.3f} eV')"
   ]
  },
  {
   "cell_type": "code",
   "execution_count": null,
   "id": "aa521b11-926c-481f-9bef-51e2b56e09d3",
   "metadata": {},
   "outputs": [],
   "source": []
  },
  {
   "cell_type": "code",
   "execution_count": 44,
   "id": "f5136b11-070e-4174-88bb-5c2003fed5fc",
   "metadata": {},
   "outputs": [
    {
     "name": "stdout",
     "output_type": "stream",
     "text": [
      "Vibrational frequencies of H2O on Pt111 (cm⁻¹):\n",
      "f_v: 482.869 cm⁻¹, E_v: 0.060 eV\n",
      "f_v: 539.687 cm⁻¹, E_v: 0.067 eV\n",
      "f_v: 1551.532 cm⁻¹, E_v: 0.192 eV\n",
      "f_v: 3579.972 cm⁻¹, E_v: 0.444 eV\n",
      "f_v: 3680.169 cm⁻¹, E_v: 0.456 eV\n"
     ]
    }
   ],
   "source": [
    "calc_vib = Vasp(\n",
    "    directory='Pt111_H2O_vib',\n",
    "    xc='PBE',\n",
    "    kpts=[6, 6, 1],\n",
    "    encut=450,\n",
    "    ismear=0, sigma=0.05,\n",
    "    ediff=1e-8,\n",
    "    ibrion=5,nfree=2, nsw=1,           # finite differences with selective dynamics (Pt atoms fixed)\n",
    "    lreal=False,lwave=False, lcharg=False,\n",
    "    atoms=H2Oads_slab\n",
    ")\n",
    "\n",
    "calc_vib.calculate(H2Oads_slab)\n",
    "\n",
    "vib_Pt111_h2o = calc_vib.get_vibrations()\n",
    "\n",
    "# Frequencies (cm⁻¹)\n",
    "freqs = vib_Pt111_h2o.get_frequencies()\n",
    "\n",
    "print(f'Vibrational frequencies of H2O on Pt111 (cm⁻¹):')\n",
    "\n",
    "vib_energie_Pt111_h2o = []\n",
    "for freq in freqs:\n",
    "    if freq.real > 200:\n",
    "        vib_energy = (freq.real * 1.23981e-4)  # Convert cm⁻¹ to eV\n",
    "        vib_energie_Pt111_h2o.append(vib_energy)\n",
    "        print(f'f_v: {freq.real:.3f} cm⁻¹, E_v: {vib_energy:.3f} eV')"
   ]
  },
  {
   "cell_type": "code",
   "execution_count": 45,
   "id": "90e7a3a7-59eb-4db5-8222-31b4fd966b21",
   "metadata": {},
   "outputs": [],
   "source": [
    "h2o_Pt111_thermo = IdealGasThermo(vib_energies=vib_energie_Pt111_h2o,\n",
    "                        potentialenergy=E_Pt111_H2O, atoms=H2Oads_slab,\n",
    "                        geometry='nonlinear', symmetrynumber=2, spin=0)\n",
    "\n",
    "G_h2o_Pt111 = h2o_Pt111_thermo.get_gibbs_energy(temperature=T, pressure=P, verbose=False)\n",
    "H_h2o_Pt111 = h2o_Pt111_thermo.get_enthalpy(temperature=T, verbose=False)"
   ]
  },
  {
   "cell_type": "code",
   "execution_count": 46,
   "id": "df5f1861-326f-4fe7-ac07-ebcb00150765",
   "metadata": {},
   "outputs": [
    {
     "name": "stdout",
     "output_type": "stream",
     "text": [
      "ΔH h2o adsorption = -0.157 eV\n"
     ]
    }
   ],
   "source": [
    "Hads_h2o = H_h2o_Pt111 - H_h2o - E_Pt111\n",
    "      \n",
    "print(f'ΔH h2o adsorption = {Hads_h2o:.3f} eV')"
   ]
  },
  {
   "cell_type": "code",
   "execution_count": null,
   "id": "4fd1a71a-03a9-440e-9e8d-9577c49a47ba",
   "metadata": {},
   "outputs": [],
   "source": []
  },
  {
   "cell_type": "markdown",
   "id": "f4a3e982-fd66-45f5-9712-e6ee6ff690e2",
   "metadata": {},
   "source": [
    "### Adsorption of CO2 on Pt 111\n",
    "$ CO2 + * \\to CO2*$ "
   ]
  },
  {
   "cell_type": "code",
   "execution_count": 47,
   "id": "c6c0262a-3ae8-45b6-a260-0d87b98fbcd1",
   "metadata": {},
   "outputs": [
    {
     "name": "stdout",
     "output_type": "stream",
     "text": [
      "Optimized energy of CO2 in top position of Pt111: -90.896 eV\n"
     ]
    }
   ],
   "source": [
    "# Adsorvendo a molécula de CO2 na superfície Pt111\n",
    "\n",
    "CO2ads_slab = fcc111(\"Pt\", size=(2,2,3), a=a0_Pt)\n",
    "CO2ads_slab.center(vacuum=5.0, axis=2)\n",
    "CO2ads_slab.pbc = True\n",
    "\n",
    "co2 = Atoms('CO2',\n",
    "            positions=[[0.000, 0.000, 0.000],\n",
    "                       [1.177, 0.000, 0.000],\n",
    "                       [-1.177, 0.000, 0.000]]) # geometria otimizada com PBE\n",
    "\n",
    "add_adsorbate(CO2ads_slab,  adsorbate=co2, height=2.5, position ='ontop', mol_index=0 )\n",
    "\n",
    "# fixando os átomos de Pt\n",
    "constraint = FixAtoms(mask=[atom.symbol=='Pt' for atom in CO2ads_slab])\n",
    "CO2ads_slab.set_constraint([constraint])\n",
    "\n",
    "calc_relax = Vasp(directory='Pt111_CO2_relax',\n",
    "                xc='PBE',\n",
    "                kpts=[6, 6, 1],  # specifies k-points\n",
    "                encut=450,\n",
    "                ismear=0, sigma=0.05,\n",
    "                ediff=1e-6, ediffg=-0.01,\n",
    "                isif=0, ibrion=2, nsw=100, # ionic relaxation (ISIF=2: relax atoms position only)\n",
    "                atoms=CO2ads_slab\n",
    "                )\n",
    "calc_relax.calculate(CO2ads_slab) # demora por volta de 29 min\n",
    "\n",
    "E_Pt111_CO2= CO2ads_slab.get_potential_energy()\n",
    "\n",
    "print(f'Optimized energy of CO2 in top position of Pt111: {E_Pt111_CO2:.3f} eV')\n"
   ]
  },
  {
   "cell_type": "code",
   "execution_count": 48,
   "id": "a26b6dcf-84bd-4adf-8a07-e7ab8db5a5c8",
   "metadata": {},
   "outputs": [
    {
     "name": "stdout",
     "output_type": "stream",
     "text": [
      "Adsorption energy of CO2 on Pt111: -0.012 eV\n"
     ]
    }
   ],
   "source": [
    "E_ads_Pt111_CO2 = E_Pt111_CO2 - E_Pt111 - E_co2\n",
    "\n",
    "print(f'Adsorption energy of CO2 on Pt111: {E_ads_Pt111_CO2:.3f} eV')"
   ]
  },
  {
   "cell_type": "code",
   "execution_count": 49,
   "id": "d4d35e7d-6534-4364-ac04-482270a4c2c4",
   "metadata": {},
   "outputs": [
    {
     "name": "stdout",
     "output_type": "stream",
     "text": [
      "Vibrational frequencies of CO2 on Pt111 (cm⁻¹):\n",
      "f_v: 627.042 cm⁻¹, E_v: 0.078 eV\n",
      "f_v: 628.687 cm⁻¹, E_v: 0.078 eV\n",
      "f_v: 1318.436 cm⁻¹, E_v: 0.163 eV\n",
      "f_v: 2348.760 cm⁻¹, E_v: 0.291 eV\n"
     ]
    }
   ],
   "source": [
    "calc_vib = Vasp(\n",
    "    directory='Pt111_CO2_vib',\n",
    "    xc='PBE',\n",
    "    kpts=[6, 6, 1],\n",
    "    encut=450,\n",
    "    ismear=0, sigma=0.05,\n",
    "    ediff=1e-8,\n",
    "    ibrion=5,nfree=2, nsw=1,           # finite differences with selective dynamics (Pt atoms fixed)\n",
    "    lreal=False,lwave=False, lcharg=False,\n",
    "    atoms=CO2ads_slab\n",
    ")\n",
    "\n",
    "calc_vib.calculate(CO2ads_slab)\n",
    "\n",
    "vib_Pt111_co2 = calc_vib.get_vibrations()\n",
    "\n",
    "# Frequencies (cm⁻¹)\n",
    "freqs = vib_Pt111_co2.get_frequencies()\n",
    "\n",
    "print(f'Vibrational frequencies of CO2 on Pt111 (cm⁻¹):')\n",
    "\n",
    "vib_energie_Pt111_co2 = []\n",
    "for freq in freqs:\n",
    "    if freq.real > 200:\n",
    "        vib_energy = (freq.real * 1.23981e-4)  # Convert cm⁻¹ to eV\n",
    "        vib_energie_Pt111_co2.append(vib_energy)\n",
    "        print(f'f_v: {freq.real:.3f} cm⁻¹, E_v: {vib_energy:.3f} eV')"
   ]
  },
  {
   "cell_type": "code",
   "execution_count": 50,
   "id": "a2a3a035-f05d-4708-add1-c0c0b0ad7a83",
   "metadata": {},
   "outputs": [],
   "source": [
    "co2_Pt111_thermo = IdealGasThermo(vib_energies=vib_energie_Pt111_co2,\n",
    "                        potentialenergy=E_Pt111_CO2, atoms=CO2ads_slab,\n",
    "                        geometry='nonlinear', symmetrynumber=2, spin=0)\n",
    "\n",
    "G_co2_Pt111 = co2_Pt111_thermo.get_gibbs_energy(temperature=T, pressure=P, verbose=False)\n",
    "H_co2_Pt111 = co2_Pt111_thermo.get_enthalpy(temperature=T, verbose=False)"
   ]
  },
  {
   "cell_type": "code",
   "execution_count": 51,
   "id": "effd0357-9da5-48ca-ae32-d7cb4e30aeef",
   "metadata": {},
   "outputs": [
    {
     "name": "stdout",
     "output_type": "stream",
     "text": [
      "ΔH CO2 adsorption = -0.000 eV\n"
     ]
    }
   ],
   "source": [
    "Hads_co2 = H_co2_Pt111 - H_co2 - E_Pt111\n",
    "      \n",
    "print(f'ΔH CO2 adsorption = {Hads_co2:.3f} eV')"
   ]
  },
  {
   "cell_type": "code",
   "execution_count": null,
   "id": "28ee9820-8730-4511-91ac-b0ae3244e9b5",
   "metadata": {},
   "outputs": [],
   "source": []
  },
  {
   "cell_type": "code",
   "execution_count": null,
   "id": "a5b7e904-d061-46fb-8c93-5bc82eb00eba",
   "metadata": {},
   "outputs": [],
   "source": []
  },
  {
   "cell_type": "markdown",
   "id": "32ee9b56-8192-4141-be30-09c50dfc3bff",
   "metadata": {},
   "source": [
    "## Resultado Final"
   ]
  },
  {
   "cell_type": "markdown",
   "id": "142f6921-d655-476f-a493-b9030c4f6082",
   "metadata": {},
   "source": [
    "\n",
    "| Reação                                 | $\\Delta E$ (eV)  | $\\Delta H$ (eV) |\n",
    "|----------------------------------------|----------|------------|\n",
    "| $ COOH + ^* \\rightleftarrows COOH^*$   |          |      |\n",
    "| $ OH + * \\rightleftarrows OH*$         |          |      |\n",
    "| $ CO2 + * \\rightleftarrows CO2*$       |          |      |\n",
    "| $ H_2 O + * \\rightleftarrows H_2 0*$   |          |      |\n"
   ]
  },
  {
   "cell_type": "code",
   "execution_count": 53,
   "id": "0e3ca602-dadf-4ee5-aa6a-e0657e2c005b",
   "metadata": {},
   "outputs": [
    {
     "data": {
      "image/png": "[encoded data removed]",
      "text/plain": [
       "<Figure size 640x480 with 1 Axes>"
      ]
     },
     "metadata": {},
     "output_type": "display_data"
    }
   ],
   "source": [
    "from matplotlib import pyplot as plt\n",
    "\n",
    "plt.hlines(H_cooh+H_oh            , xmin=0, xmax=1, colors='black')\n",
    "plt.hlines(H_cooh_Pt111+H_oh      , xmin=1, xmax=2, colors='black')\n",
    "plt.hlines(H_cooh_Pt111+H_oh_Pt111, xmin=2, xmax=3, colors='black')\n",
    "plt.hlines(H_co2_Pt111+H_h2o_Pt111, xmin=3, xmax=4, colors='black')\n",
    "plt.hlines(H_co2_Pt111+H_h2o      , xmin=4, xmax=5, colors='black')\n",
    "plt.hlines(H_co2+H_h2o            , xmin=5, xmax=6, colors='black')\n",
    "\n",
    "plt.ylabel(r'$H$ (eV)')\n",
    "plt.xticks([0.5,1.5, 2.5, 3.5, 4.5, 5.5], ['COOH+OH','COOH(ads)+OH','COOH(ads)+OH(ads)','CO2(ads) + H2O(ads)', 'CO2(ads) + H2O', 'CO2 + H2O'], rotation=45)\n",
    "plt.title('Reaction of -COOH on -OH on Pt(111) surface')\n",
    "plt.grid(axis='y')"
   ]
  },
  {
   "cell_type": "code",
   "execution_count": null,
   "id": "8db972a9-ac57-456a-aa16-e8a11733e861",
   "metadata": {},
   "outputs": [],
   "source": []
  }
 ],
 "metadata": {
  "kernelspec": {
   "display_name": "Python 3 (ipykernel)",
   "language": "python",
   "name": "python3"
  },
  "language_info": {
   "codemirror_mode": {
    "name": "ipython",
    "version": 3
   },
   "file_extension": ".py",
   "mimetype": "text/x-python",
   "name": "python",
   "nbconvert_exporter": "python",
   "pygments_lexer": "ipython3",
   "version": "3.9.24"
  }
 },
 "nbformat": 4,
 "nbformat_minor": 5
}
