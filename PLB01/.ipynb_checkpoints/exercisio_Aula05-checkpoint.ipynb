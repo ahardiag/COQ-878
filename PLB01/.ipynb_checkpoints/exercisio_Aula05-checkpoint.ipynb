{
 "cells": [
  {
   "cell_type": "markdown",
   "id": "d4be88b4",
   "metadata": {},
   "source": [
    "# Cálculo de Energia Livre em Catálise usando VASP e ASE\n",
    "\n",
    "Autor: [Prof. Elvis do A. Soares](https://github.com/elvissoares) \n",
    "\n",
    "Contato: [elvis@peq.coppe.ufrj.br](mailto:elvis@peq.coppe.ufrj.br) - [Programa de Engenharia Química, PEQ/COPPE, UFRJ, Brasil](https://www.peq.coppe.ufrj.br/)\n",
    "\n",
    "---"
   ]
  },
  {
   "cell_type": "code",
   "execution_count": 1,
   "id": "fbb4801e",
   "metadata": {},
   "outputs": [],
   "source": [
    "import os\n",
    "# Definindo o path para os arquivos de potencial de pseudopotenciais do VASP\n",
    "# Certifique-se de que o caminho esteja correto para o seu sistema\n",
    "os.environ['VASP_PP_PATH'] = '/home/hardiagon/Programs/vasp-6.5.1/pp'\n",
    "os.environ['ASE_VASP_COMMAND'] = 'mpirun -np 1 vasp_std_gpu'\n",
    "os.environ['NO_STOP_MESSAGE'] = '1' # to avoid warning from mpirun\n",
    "\n",
    "# Importando o VASP calculator do ASE\n",
    "from ase.calculators.vasp import Vasp\n",
    "\n",
    "from ase import Atoms\n",
    "from ase.io import write, read\n",
    "from ase.visualize import view\n",
    "\n",
    "import numpy as np"
   ]
  },
  {
   "cell_type": "markdown",
   "id": "bc2d5987-e500-43a6-b717-d86aecb2b9d9",
   "metadata": {},
   "source": [
    "# Outra reação\n",
    "\n",
    "$ COOH (ads)+ OH (ads) \\to CO_2 (ads) + H_2O (ads)$ "
   ]
  },
  {
   "cell_type": "markdown",
   "id": "3b3f201f-225a-4297-9dce-c56896b2a952",
   "metadata": {},
   "source": [
    "Relaxaçao da molecula de acido formico"
   ]
  },
  {
   "cell_type": "code",
   "execution_count": 2,
   "id": "db038a1c-7a73-4f9e-a9a8-e062d396fc42",
   "metadata": {},
   "outputs": [],
   "source": [
    "o2ch2 = read(\"Conformer3D_COMPOUND_CID_284.sdf\")"
   ]
  },
  {
   "cell_type": "code",
   "execution_count": 4,
   "id": "e9e449b6-e8e4-4ed4-8323-62d4a31dae2e",
   "metadata": {},
   "outputs": [
    {
     "data": {
      "text/html": [
       "<html>\n",
       "    <head>\n",
       "        <title>ASE atomic visualization</title>\n",
       "        <link rel=\"stylesheet\" type=\"text/css\"             href=\"https://www.x3dom.org/release/x3dom.css\"></link>\n",
       "        <script type=\"text/javascript\"             src=\"https://www.x3dom.org/release/x3dom.js\"></script>\n",
       "    </head>\n",
       "    <body>\n",
       "        <X3D width=\"400px\"; height=\"300px\";>\n",
       "\n",
       "<!--Inserting Generated X3D Scene-->\n",
       "<scene>\n",
       "  <viewpoint position=\"0 0 5.2989999999999995\">\n",
       "    <group/>\n",
       "  </viewpoint>\n",
       "  <transform translation=\"-0.0 -0.0 -0.0\">\n",
       "    <group>\n",
       "      <group>\n",
       "        <transform translation=\"0 0 0\">\n",
       "          <shape>\n",
       "            <appearance>\n",
       "              <material diffuseColor=\"0 0 0\"/>\n",
       "            </appearance>\n",
       "            <lineset vertexCount=\"5\">\n",
       "              <coordinate point=\"0 0 0 0.0 0.0 0.0 0.0 0.0 0.0 0.0 0.0 0.0 0 0 0\"/>\n",
       "            </lineset>\n",
       "          </shape>\n",
       "        </transform>\n",
       "        <transform translation=\"0.0 0.0 0.0\">\n",
       "          <shape>\n",
       "            <appearance>\n",
       "              <material diffuseColor=\"0 0 0\"/>\n",
       "            </appearance>\n",
       "            <lineset vertexCount=\"5\">\n",
       "              <coordinate point=\"0 0 0 0.0 0.0 0.0 0.0 0.0 0.0 0.0 0.0 0.0 0 0 0\"/>\n",
       "            </lineset>\n",
       "          </shape>\n",
       "        </transform>\n",
       "        <transform translation=\"0 0 0\">\n",
       "          <shape>\n",
       "            <appearance>\n",
       "              <material diffuseColor=\"0 0 0\"/>\n",
       "            </appearance>\n",
       "            <lineset vertexCount=\"5\">\n",
       "              <coordinate point=\"0 0 0 0.0 0.0 0.0 0.0 0.0 0.0 0.0 0.0 0.0 0 0 0\"/>\n",
       "            </lineset>\n",
       "          </shape>\n",
       "        </transform>\n",
       "        <transform translation=\"0.0 0.0 0.0\">\n",
       "          <shape>\n",
       "            <appearance>\n",
       "              <material diffuseColor=\"0 0 0\"/>\n",
       "            </appearance>\n",
       "            <lineset vertexCount=\"5\">\n",
       "              <coordinate point=\"0 0 0 0.0 0.0 0.0 0.0 0.0 0.0 0.0 0.0 0.0 0 0 0\"/>\n",
       "            </lineset>\n",
       "          </shape>\n",
       "        </transform>\n",
       "      </group>\n",
       "      <group>\n",
       "        <transform translation=\"-1.1685 0.1825 0.0\">\n",
       "          <shape>\n",
       "            <appearance>\n",
       "              <material diffuseColor=\"1.0 0.051 0.051\"/>\n",
       "            </appearance>\n",
       "            <sphere radius=\"0.66\"/>\n",
       "          </shape>\n",
       "        </transform>\n",
       "        <transform translation=\"1.1146 0.2103 0.0\">\n",
       "          <shape>\n",
       "            <appearance>\n",
       "              <material diffuseColor=\"1.0 0.051 0.051\"/>\n",
       "            </appearance>\n",
       "            <sphere radius=\"0.66\"/>\n",
       "          </shape>\n",
       "        </transform>\n",
       "        <transform translation=\"0.0538 -0.3927 0.0\">\n",
       "          <shape>\n",
       "            <appearance>\n",
       "              <material diffuseColor=\"0.565 0.565 0.565\"/>\n",
       "            </appearance>\n",
       "            <sphere radius=\"0.76\"/>\n",
       "          </shape>\n",
       "        </transform>\n",
       "        <transform translation=\"-0.0511 -1.4875 0.0002\">\n",
       "          <shape>\n",
       "            <appearance>\n",
       "              <material diffuseColor=\"1.0 1.0 1.0\"/>\n",
       "            </appearance>\n",
       "            <sphere radius=\"0.31\"/>\n",
       "          </shape>\n",
       "        </transform>\n",
       "        <transform translation=\"-1.1142 1.162 0.0\">\n",
       "          <shape>\n",
       "            <appearance>\n",
       "              <material diffuseColor=\"1.0 1.0 1.0\"/>\n",
       "            </appearance>\n",
       "            <sphere radius=\"0.31\"/>\n",
       "          </shape>\n",
       "        </transform>\n",
       "      </group>\n",
       "    </group>\n",
       "  </transform>\n",
       "</scene>\n",
       "<!--End of Inserted Scene-->\n",
       "\n",
       "        </X3D>\n",
       "    </body>\n",
       "</html>\n",
       "\n"
      ],
      "text/plain": [
       "<IPython.core.display.HTML object>"
      ]
     },
     "execution_count": 4,
     "metadata": {},
     "output_type": "execute_result"
    }
   ],
   "source": [
    "view(o2ch2,viewer='x3d')"
   ]
  },
  {
   "cell_type": "code",
   "execution_count": 6,
   "id": "ef4f30a3-c88f-43dd-b1c7-d557750715a7",
   "metadata": {},
   "outputs": [
    {
     "data": {
      "text/plain": [
       "(array([8, 8, 6, 1, 1]),\n",
       " array([[-1.1685e+00,  1.8250e-01,  0.0000e+00],\n",
       "        [ 1.1146e+00,  2.1030e-01,  0.0000e+00],\n",
       "        [ 5.3800e-02, -3.9270e-01,  0.0000e+00],\n",
       "        [-5.1100e-02, -1.4875e+00,  2.0000e-04],\n",
       "        [-1.1142e+00,  1.1620e+00,  0.0000e+00]]))"
      ]
     },
     "execution_count": 6,
     "metadata": {},
     "output_type": "execute_result"
    }
   ],
   "source": [
    "cooh = o2ch2.copy()\n",
    "cooh.get_atomic_numbers(),cooh.get_positions()"
   ]
  },
  {
   "cell_type": "code",
   "execution_count": 7,
   "id": "e5cfdf46-bbda-495b-9c77-e13c6224790e",
   "metadata": {},
   "outputs": [
    {
     "name": "stderr",
     "output_type": "stream",
     "text": [
      "/tmp/ipykernel_3891/1006092051.py:2: FutureWarning: Please use len(self) or, if your atoms are distributed, self.get_global_number_of_atoms.\n",
      "  cooh.get_number_of_atoms()\n"
     ]
    },
    {
     "data": {
      "text/plain": [
       "4"
      ]
     },
     "execution_count": 7,
     "metadata": {},
     "output_type": "execute_result"
    }
   ],
   "source": [
    "cooh.pop(3)\n",
    "cooh.get_number_of_atoms()"
   ]
  },
  {
   "cell_type": "code",
   "execution_count": 8,
   "id": "73a1f802-5f06-4be1-80f4-0c1e77eba639",
   "metadata": {},
   "outputs": [
    {
     "data": {
      "text/html": [
       "<html>\n",
       "    <head>\n",
       "        <title>ASE atomic visualization</title>\n",
       "        <link rel=\"stylesheet\" type=\"text/css\"             href=\"https://www.x3dom.org/release/x3dom.css\"></link>\n",
       "        <script type=\"text/javascript\"             src=\"https://www.x3dom.org/release/x3dom.js\"></script>\n",
       "    </head>\n",
       "    <body>\n",
       "        <X3D width=\"400px\"; height=\"300px\";>\n",
       "\n",
       "<!--Inserting Generated X3D Scene-->\n",
       "<scene>\n",
       "  <viewpoint position=\"0 0 4.5662\">\n",
       "    <group/>\n",
       "  </viewpoint>\n",
       "  <transform translation=\"-0.0 -0.0 -0.0\">\n",
       "    <group>\n",
       "      <group>\n",
       "        <transform translation=\"0 0 0\">\n",
       "          <shape>\n",
       "            <appearance>\n",
       "              <material diffuseColor=\"0 0 0\"/>\n",
       "            </appearance>\n",
       "            <lineset vertexCount=\"5\">\n",
       "              <coordinate point=\"0 0 0 0.0 0.0 0.0 0.0 0.0 0.0 0.0 0.0 0.0 0 0 0\"/>\n",
       "            </lineset>\n",
       "          </shape>\n",
       "        </transform>\n",
       "        <transform translation=\"0.0 0.0 0.0\">\n",
       "          <shape>\n",
       "            <appearance>\n",
       "              <material diffuseColor=\"0 0 0\"/>\n",
       "            </appearance>\n",
       "            <lineset vertexCount=\"5\">\n",
       "              <coordinate point=\"0 0 0 0.0 0.0 0.0 0.0 0.0 0.0 0.0 0.0 0.0 0 0 0\"/>\n",
       "            </lineset>\n",
       "          </shape>\n",
       "        </transform>\n",
       "        <transform translation=\"0 0 0\">\n",
       "          <shape>\n",
       "            <appearance>\n",
       "              <material diffuseColor=\"0 0 0\"/>\n",
       "            </appearance>\n",
       "            <lineset vertexCount=\"5\">\n",
       "              <coordinate point=\"0 0 0 0.0 0.0 0.0 0.0 0.0 0.0 0.0 0.0 0.0 0 0 0\"/>\n",
       "            </lineset>\n",
       "          </shape>\n",
       "        </transform>\n",
       "        <transform translation=\"0.0 0.0 0.0\">\n",
       "          <shape>\n",
       "            <appearance>\n",
       "              <material diffuseColor=\"0 0 0\"/>\n",
       "            </appearance>\n",
       "            <lineset vertexCount=\"5\">\n",
       "              <coordinate point=\"0 0 0 0.0 0.0 0.0 0.0 0.0 0.0 0.0 0.0 0.0 0 0 0\"/>\n",
       "            </lineset>\n",
       "          </shape>\n",
       "        </transform>\n",
       "      </group>\n",
       "      <group>\n",
       "        <transform translation=\"-1.1685 0.1825 0.0\">\n",
       "          <shape>\n",
       "            <appearance>\n",
       "              <material diffuseColor=\"1.0 0.051 0.051\"/>\n",
       "            </appearance>\n",
       "            <sphere radius=\"0.66\"/>\n",
       "          </shape>\n",
       "        </transform>\n",
       "        <transform translation=\"1.1146 0.2103 0.0\">\n",
       "          <shape>\n",
       "            <appearance>\n",
       "              <material diffuseColor=\"1.0 0.051 0.051\"/>\n",
       "            </appearance>\n",
       "            <sphere radius=\"0.66\"/>\n",
       "          </shape>\n",
       "        </transform>\n",
       "        <transform translation=\"0.0538 -0.3927 0.0\">\n",
       "          <shape>\n",
       "            <appearance>\n",
       "              <material diffuseColor=\"0.565 0.565 0.565\"/>\n",
       "            </appearance>\n",
       "            <sphere radius=\"0.76\"/>\n",
       "          </shape>\n",
       "        </transform>\n",
       "        <transform translation=\"-1.1142 1.162 0.0\">\n",
       "          <shape>\n",
       "            <appearance>\n",
       "              <material diffuseColor=\"1.0 1.0 1.0\"/>\n",
       "            </appearance>\n",
       "            <sphere radius=\"0.31\"/>\n",
       "          </shape>\n",
       "        </transform>\n",
       "      </group>\n",
       "    </group>\n",
       "  </transform>\n",
       "</scene>\n",
       "<!--End of Inserted Scene-->\n",
       "\n",
       "        </X3D>\n",
       "    </body>\n",
       "</html>\n",
       "\n"
      ],
      "text/plain": [
       "<IPython.core.display.HTML object>"
      ]
     },
     "execution_count": 8,
     "metadata": {},
     "output_type": "execute_result"
    }
   ],
   "source": [
    "view(cooh,viewer='x3d')"
   ]
  },
  {
   "cell_type": "code",
   "execution_count": 9,
   "id": "65010b05-8179-4b2d-aa12-94b849e152d4",
   "metadata": {},
   "outputs": [
    {
     "data": {
      "text/plain": [
       "array([-0.02975027,  0.06084331,  0.        ])"
      ]
     },
     "execution_count": 9,
     "metadata": {},
     "output_type": "execute_result"
    }
   ],
   "source": [
    "cooh.get_center_of_mass()"
   ]
  },
  {
   "cell_type": "code",
   "execution_count": 10,
   "id": "8c8c323f-3c27-4ab9-beeb-bd2dea582f2b",
   "metadata": {},
   "outputs": [
    {
     "data": {
      "text/plain": [
       "array([7.13874973, 6.45354331, 6.        ])"
      ]
     },
     "execution_count": 10,
     "metadata": {},
     "output_type": "execute_result"
    }
   ],
   "source": [
    "cooh.center(vacuum=6.0)\n",
    "cooh.pbc = True\n",
    "cooh.get_center_of_mass()"
   ]
  },
  {
   "cell_type": "code",
   "execution_count": 11,
   "id": "3a1f75ab-a0dd-4f3b-8da7-e49ae73e1e94",
   "metadata": {},
   "outputs": [
    {
     "name": "stdout",
     "output_type": "stream",
     "text": [
      "Optimized energy of COOH: -23.932 eV\n",
      "CPU times: user 56.9 ms, sys: 19 ms, total: 75.9 ms\n",
      "Wall time: 2min 46s\n"
     ]
    }
   ],
   "source": [
    "%%time\n",
    "calc_relax = Vasp(\n",
    "    directory='cooh_relax',\n",
    "    xc='PBE',\n",
    "    encut=450,\n",
    "    ismear=0, sigma=0.05,  # smearing : smooth the heavidide function in evalutation of expectation, for numerical stability\n",
    "    ediff=1e-6, ediffg=-0.01, # related to stop criteria for gradient descent algorithm\n",
    "    isif=2, ibrion=2, nsw=100, # calculate stress and forces, update only positions\n",
    "    nelm=100, # max numebr of SCF steps\n",
    "    lwave=True, lcharg=True, lvtot=True, # output options\n",
    "    atoms=cooh\n",
    ")\n",
    "calc_relax.calculate(cooh) # demora por 3 minutos\n",
    "\n",
    "E_cooh = cooh.get_potential_energy()\n",
    "\n",
    "print(f'Optimized energy of COOH: {E_cooh:.3f} eV')"
   ]
  },
  {
   "cell_type": "code",
   "execution_count": 13,
   "id": "2d52a6c6-3982-43bd-bf1f-879a8c920d62",
   "metadata": {},
   "outputs": [
    {
     "name": "stdout",
     "output_type": "stream",
     "text": [
      "Vibrational frequencies of COOH (cm⁻¹):\n",
      "f_v: 554.126 cm⁻¹, E_v: 0.069 eV\n",
      "f_v: 563.983 cm⁻¹, E_v: 0.070 eV\n",
      "f_v: 1002.487 cm⁻¹, E_v: 0.124 eV\n",
      "f_v: 1243.784 cm⁻¹, E_v: 0.154 eV\n",
      "f_v: 1797.924 cm⁻¹, E_v: 0.223 eV\n",
      "f_v: 3360.788 cm⁻¹, E_v: 0.417 eV\n",
      "CPU times: user 123 ms, sys: 19.6 ms, total: 142 ms\n",
      "Wall time: 5min 32s\n"
     ]
    }
   ],
   "source": [
    "%%time\n",
    "calc_vib = Vasp(\n",
    "    directory='cooh_vib',\n",
    "    xc='PBE',\n",
    "    encut=450,\n",
    "    ismear=0, sigma=0.05,\n",
    "    ediff=1e-8,\n",
    "    ibrion=6,           # finite differences with symmetry\n",
    "    lreal=False,\n",
    "    lwave=False, lcharg=False,\n",
    "    atoms=cooh\n",
    ")\n",
    "\n",
    "calc_vib.calculate(cooh)\n",
    "\n",
    "vib_cooh = calc_vib.get_vibrations()\n",
    "\n",
    "# Frequencies (cm⁻¹)\n",
    "freqs = vib_cooh.get_frequencies()\n",
    "\n",
    "print(f'Vibrational frequencies of COOH (cm⁻¹):')\n",
    "vib_energies_cooh = []\n",
    "for freq in freqs:\n",
    "    if freq.real > 200:\n",
    "        vib_energy = (freq.real * 1.23981e-4)  # Convert cm⁻¹ to eV\n",
    "        vib_energies_cooh.append(vib_energy)\n",
    "        print(f'f_v: {freq.real:.3f} cm⁻¹, E_v: {vib_energy:.3f} eV')"
   ]
  },
  {
   "cell_type": "code",
   "execution_count": null,
   "id": "83d8d7dc-93f7-4bb8-b516-c1436eada65d",
   "metadata": {},
   "outputs": [],
   "source": []
  },
  {
   "cell_type": "code",
   "execution_count": null,
   "id": "1811d5bb-89f3-42d6-b956-ed38f0eb2e11",
   "metadata": {},
   "outputs": [],
   "source": []
  },
  {
   "cell_type": "markdown",
   "id": "3eba8103-24c7-4b05-a200-d23a6292d964",
   "metadata": {},
   "source": [
    "# TO DELETE AT THE END"
   ]
  },
  {
   "cell_type": "markdown",
   "id": "5b08e9cd",
   "metadata": {},
   "source": [
    "# Water Gas Shift Reaction\n",
    "\n",
    "$H_2 O + CO \\to CO_2 + H_2$ \n",
    "\n",
    "Valores experimentais\n",
    "\n",
    "$\\Delta G_r = -28.6\\ \\text{kJ/mol}$\n",
    "\n",
    "$\\Delta H_r = -41.2\\ \\text{kJ/mol}$"
   ]
  },
  {
   "cell_type": "markdown",
   "id": "bb8fa2fe-1c2b-4225-8d35-e2cc3f7ba69d",
   "metadata": {},
   "source": [
    "Relaxaçao da molecula de agua"
   ]
  },
  {
   "cell_type": "code",
   "execution_count": 5,
   "id": "b922b828",
   "metadata": {},
   "outputs": [
    {
     "name": "stdout",
     "output_type": "stream",
     "text": [
      "Optimized energy of H2O: -14.219 eV\n"
     ]
    }
   ],
   "source": [
    "h2o = Atoms('H2O',\n",
    "            positions=[[-0.768, 0.000, 0.595],\n",
    "                       [0.768, 0.000, 0.595],\n",
    "                       [0.000, 0.000, 0.000]]) # geometria otimizada com PBE\n",
    "h2o.center(vacuum=6.0)  \n",
    "h2o.pbc = True\n",
    "\n",
    "calc_relax = Vasp(\n",
    "    directory='h2o_relax',\n",
    "    xc='PBE',\n",
    "    encut=450,\n",
    "    ismear=0, sigma=0.05, # smearing : smooth the heavidide function in evalutation of expectation, for numerical stability\n",
    "    ediff=1e-6, ediffg=-0.01, # related to stop criteria for gradient descent algorithm\n",
    "    isif=2, ibrion=2, nsw=100, \n",
    "    nelm=100, # max number of SCF steps\n",
    "    lwave=True, lcharg=True, lvtot=True, \n",
    "    atoms=h2o\n",
    ")\n",
    "calc_relax.calculate(h2o) # demora por volta de 10 s\n",
    "\n",
    "E_h2o = h2o.get_potential_energy()\n",
    "\n",
    "print(f'Optimized energy of H2O: {E_h2o:.3f} eV')"
   ]
  },
  {
   "cell_type": "markdown",
   "id": "e47d1b7d-2385-41a2-8b97-aefc8e435b47",
   "metadata": {},
   "source": [
    "Calculo dos modos vibracionais"
   ]
  },
  {
   "cell_type": "code",
   "execution_count": 18,
   "id": "bf7cf56f",
   "metadata": {},
   "outputs": [
    {
     "ename": "KeyboardInterrupt",
     "evalue": "",
     "output_type": "error",
     "traceback": [
      "\u001b[0;31m---------------------------------------------------------------------------\u001b[0m",
      "\u001b[0;31mKeyboardInterrupt\u001b[0m                         Traceback (most recent call last)",
      "Cell \u001b[0;32mIn[18], line 13\u001b[0m\n\u001b[1;32m      1\u001b[0m calc_vib \u001b[38;5;241m=\u001b[39m Vasp(\n\u001b[1;32m      2\u001b[0m     directory\u001b[38;5;241m=\u001b[39m\u001b[38;5;124m'\u001b[39m\u001b[38;5;124mo2ch2_vib\u001b[39m\u001b[38;5;124m'\u001b[39m,\n\u001b[1;32m      3\u001b[0m     xc\u001b[38;5;241m=\u001b[39m\u001b[38;5;124m'\u001b[39m\u001b[38;5;124mPBE\u001b[39m\u001b[38;5;124m'\u001b[39m,\n\u001b[0;32m   (...)\u001b[0m\n\u001b[1;32m     10\u001b[0m     atoms\u001b[38;5;241m=\u001b[39mo2ch2\n\u001b[1;32m     11\u001b[0m )\n\u001b[0;32m---> 13\u001b[0m \u001b[43mcalc_vib\u001b[49m\u001b[38;5;241;43m.\u001b[39;49m\u001b[43mcalculate\u001b[49m\u001b[43m(\u001b[49m\u001b[43mo2ch2\u001b[49m\u001b[43m)\u001b[49m\n\u001b[1;32m     15\u001b[0m vib_o2ch2 \u001b[38;5;241m=\u001b[39m calc_vib\u001b[38;5;241m.\u001b[39mget_vibrations()\n\u001b[1;32m     17\u001b[0m \u001b[38;5;66;03m# Frequencies (cm⁻¹)\u001b[39;00m\n",
      "File \u001b[0;32m~/Programs/miniforge3/envs/ase/lib/python3.9/site-packages/ase/calculators/vasp/vasp.py:337\u001b[0m, in \u001b[0;36mVasp.calculate\u001b[0;34m(self, atoms, properties, system_changes)\u001b[0m\n\u001b[1;32m    334\u001b[0m \u001b[38;5;28mself\u001b[39m\u001b[38;5;241m.\u001b[39mwrite_input(\u001b[38;5;28mself\u001b[39m\u001b[38;5;241m.\u001b[39matoms, properties, system_changes)\n\u001b[1;32m    336\u001b[0m \u001b[38;5;28;01mwith\u001b[39;00m \u001b[38;5;28mself\u001b[39m\u001b[38;5;241m.\u001b[39m_txt_outstream() \u001b[38;5;28;01mas\u001b[39;00m out:\n\u001b[0;32m--> 337\u001b[0m     errorcode \u001b[38;5;241m=\u001b[39m \u001b[38;5;28;43mself\u001b[39;49m\u001b[38;5;241;43m.\u001b[39;49m\u001b[43m_run\u001b[49m\u001b[43m(\u001b[49m\u001b[43mcommand\u001b[49m\u001b[38;5;241;43m=\u001b[39;49m\u001b[43mcommand\u001b[49m\u001b[43m,\u001b[49m\n\u001b[1;32m    338\u001b[0m \u001b[43m                          \u001b[49m\u001b[43mout\u001b[49m\u001b[38;5;241;43m=\u001b[39;49m\u001b[43mout\u001b[49m\u001b[43m,\u001b[49m\n\u001b[1;32m    339\u001b[0m \u001b[43m                          \u001b[49m\u001b[43mdirectory\u001b[49m\u001b[38;5;241;43m=\u001b[39;49m\u001b[38;5;28;43mself\u001b[39;49m\u001b[38;5;241;43m.\u001b[39;49m\u001b[43mdirectory\u001b[49m\u001b[43m)\u001b[49m\n\u001b[1;32m    341\u001b[0m \u001b[38;5;28;01mif\u001b[39;00m errorcode:\n\u001b[1;32m    342\u001b[0m     \u001b[38;5;28;01mraise\u001b[39;00m calculator\u001b[38;5;241m.\u001b[39mCalculationFailed(\n\u001b[1;32m    343\u001b[0m         \u001b[38;5;124m'\u001b[39m\u001b[38;5;132;01m{}\u001b[39;00m\u001b[38;5;124m in \u001b[39m\u001b[38;5;132;01m{}\u001b[39;00m\u001b[38;5;124m returned an error: \u001b[39m\u001b[38;5;132;01m{:d}\u001b[39;00m\u001b[38;5;124m'\u001b[39m\u001b[38;5;241m.\u001b[39mformat(\n\u001b[1;32m    344\u001b[0m             \u001b[38;5;28mself\u001b[39m\u001b[38;5;241m.\u001b[39mname, Path(\u001b[38;5;28mself\u001b[39m\u001b[38;5;241m.\u001b[39mdirectory)\u001b[38;5;241m.\u001b[39mresolve(), errorcode))\n",
      "File \u001b[0;32m~/Programs/miniforge3/envs/ase/lib/python3.9/site-packages/ase/calculators/vasp/vasp.py:356\u001b[0m, in \u001b[0;36mVasp._run\u001b[0;34m(self, command, out, directory)\u001b[0m\n\u001b[1;32m    354\u001b[0m \u001b[38;5;28;01mif\u001b[39;00m directory \u001b[38;5;129;01mis\u001b[39;00m \u001b[38;5;28;01mNone\u001b[39;00m:\n\u001b[1;32m    355\u001b[0m     directory \u001b[38;5;241m=\u001b[39m \u001b[38;5;28mself\u001b[39m\u001b[38;5;241m.\u001b[39mdirectory\n\u001b[0;32m--> 356\u001b[0m errorcode \u001b[38;5;241m=\u001b[39m \u001b[43msubprocess\u001b[49m\u001b[38;5;241;43m.\u001b[39;49m\u001b[43mcall\u001b[49m\u001b[43m(\u001b[49m\u001b[43mcommand\u001b[49m\u001b[43m,\u001b[49m\n\u001b[1;32m    357\u001b[0m \u001b[43m                            \u001b[49m\u001b[43mshell\u001b[49m\u001b[38;5;241;43m=\u001b[39;49m\u001b[38;5;28;43;01mTrue\u001b[39;49;00m\u001b[43m,\u001b[49m\n\u001b[1;32m    358\u001b[0m \u001b[43m                            \u001b[49m\u001b[43mstdout\u001b[49m\u001b[38;5;241;43m=\u001b[39;49m\u001b[43mout\u001b[49m\u001b[43m,\u001b[49m\n\u001b[1;32m    359\u001b[0m \u001b[43m                            \u001b[49m\u001b[43mcwd\u001b[49m\u001b[38;5;241;43m=\u001b[39;49m\u001b[43mdirectory\u001b[49m\u001b[43m)\u001b[49m\n\u001b[1;32m    360\u001b[0m \u001b[38;5;28;01mreturn\u001b[39;00m errorcode\n",
      "File \u001b[0;32m~/Programs/miniforge3/envs/ase/lib/python3.9/subprocess.py:351\u001b[0m, in \u001b[0;36mcall\u001b[0;34m(timeout, *popenargs, **kwargs)\u001b[0m\n\u001b[1;32m    349\u001b[0m \u001b[38;5;28;01mwith\u001b[39;00m Popen(\u001b[38;5;241m*\u001b[39mpopenargs, \u001b[38;5;241m*\u001b[39m\u001b[38;5;241m*\u001b[39mkwargs) \u001b[38;5;28;01mas\u001b[39;00m p:\n\u001b[1;32m    350\u001b[0m     \u001b[38;5;28;01mtry\u001b[39;00m:\n\u001b[0;32m--> 351\u001b[0m         \u001b[38;5;28;01mreturn\u001b[39;00m \u001b[43mp\u001b[49m\u001b[38;5;241;43m.\u001b[39;49m\u001b[43mwait\u001b[49m\u001b[43m(\u001b[49m\u001b[43mtimeout\u001b[49m\u001b[38;5;241;43m=\u001b[39;49m\u001b[43mtimeout\u001b[49m\u001b[43m)\u001b[49m\n\u001b[1;32m    352\u001b[0m     \u001b[38;5;28;01mexcept\u001b[39;00m:  \u001b[38;5;66;03m# Including KeyboardInterrupt, wait handled that.\u001b[39;00m\n\u001b[1;32m    353\u001b[0m         p\u001b[38;5;241m.\u001b[39mkill()\n",
      "File \u001b[0;32m~/Programs/miniforge3/envs/ase/lib/python3.9/subprocess.py:1189\u001b[0m, in \u001b[0;36mPopen.wait\u001b[0;34m(self, timeout)\u001b[0m\n\u001b[1;32m   1187\u001b[0m     endtime \u001b[38;5;241m=\u001b[39m _time() \u001b[38;5;241m+\u001b[39m timeout\n\u001b[1;32m   1188\u001b[0m \u001b[38;5;28;01mtry\u001b[39;00m:\n\u001b[0;32m-> 1189\u001b[0m     \u001b[38;5;28;01mreturn\u001b[39;00m \u001b[38;5;28;43mself\u001b[39;49m\u001b[38;5;241;43m.\u001b[39;49m\u001b[43m_wait\u001b[49m\u001b[43m(\u001b[49m\u001b[43mtimeout\u001b[49m\u001b[38;5;241;43m=\u001b[39;49m\u001b[43mtimeout\u001b[49m\u001b[43m)\u001b[49m\n\u001b[1;32m   1190\u001b[0m \u001b[38;5;28;01mexcept\u001b[39;00m \u001b[38;5;167;01mKeyboardInterrupt\u001b[39;00m:\n\u001b[1;32m   1191\u001b[0m     \u001b[38;5;66;03m# https://bugs.python.org/issue25942\u001b[39;00m\n\u001b[1;32m   1192\u001b[0m     \u001b[38;5;66;03m# The first keyboard interrupt waits briefly for the child to\u001b[39;00m\n\u001b[1;32m   1193\u001b[0m     \u001b[38;5;66;03m# exit under the common assumption that it also received the ^C\u001b[39;00m\n\u001b[1;32m   1194\u001b[0m     \u001b[38;5;66;03m# generated SIGINT and will exit rapidly.\u001b[39;00m\n\u001b[1;32m   1195\u001b[0m     \u001b[38;5;28;01mif\u001b[39;00m timeout \u001b[38;5;129;01mis\u001b[39;00m \u001b[38;5;129;01mnot\u001b[39;00m \u001b[38;5;28;01mNone\u001b[39;00m:\n",
      "File \u001b[0;32m~/Programs/miniforge3/envs/ase/lib/python3.9/subprocess.py:1933\u001b[0m, in \u001b[0;36mPopen._wait\u001b[0;34m(self, timeout)\u001b[0m\n\u001b[1;32m   1931\u001b[0m \u001b[38;5;28;01mif\u001b[39;00m \u001b[38;5;28mself\u001b[39m\u001b[38;5;241m.\u001b[39mreturncode \u001b[38;5;129;01mis\u001b[39;00m \u001b[38;5;129;01mnot\u001b[39;00m \u001b[38;5;28;01mNone\u001b[39;00m:\n\u001b[1;32m   1932\u001b[0m     \u001b[38;5;28;01mbreak\u001b[39;00m  \u001b[38;5;66;03m# Another thread waited.\u001b[39;00m\n\u001b[0;32m-> 1933\u001b[0m (pid, sts) \u001b[38;5;241m=\u001b[39m \u001b[38;5;28;43mself\u001b[39;49m\u001b[38;5;241;43m.\u001b[39;49m\u001b[43m_try_wait\u001b[49m\u001b[43m(\u001b[49m\u001b[38;5;241;43m0\u001b[39;49m\u001b[43m)\u001b[49m\n\u001b[1;32m   1934\u001b[0m \u001b[38;5;66;03m# Check the pid and loop as waitpid has been known to\u001b[39;00m\n\u001b[1;32m   1935\u001b[0m \u001b[38;5;66;03m# return 0 even without WNOHANG in odd situations.\u001b[39;00m\n\u001b[1;32m   1936\u001b[0m \u001b[38;5;66;03m# http://bugs.python.org/issue14396.\u001b[39;00m\n\u001b[1;32m   1937\u001b[0m \u001b[38;5;28;01mif\u001b[39;00m pid \u001b[38;5;241m==\u001b[39m \u001b[38;5;28mself\u001b[39m\u001b[38;5;241m.\u001b[39mpid:\n",
      "File \u001b[0;32m~/Programs/miniforge3/envs/ase/lib/python3.9/subprocess.py:1891\u001b[0m, in \u001b[0;36mPopen._try_wait\u001b[0;34m(self, wait_flags)\u001b[0m\n\u001b[1;32m   1889\u001b[0m \u001b[38;5;250m\u001b[39m\u001b[38;5;124;03m\"\"\"All callers to this function MUST hold self._waitpid_lock.\"\"\"\u001b[39;00m\n\u001b[1;32m   1890\u001b[0m \u001b[38;5;28;01mtry\u001b[39;00m:\n\u001b[0;32m-> 1891\u001b[0m     (pid, sts) \u001b[38;5;241m=\u001b[39m \u001b[43mos\u001b[49m\u001b[38;5;241;43m.\u001b[39;49m\u001b[43mwaitpid\u001b[49m\u001b[43m(\u001b[49m\u001b[38;5;28;43mself\u001b[39;49m\u001b[38;5;241;43m.\u001b[39;49m\u001b[43mpid\u001b[49m\u001b[43m,\u001b[49m\u001b[43m \u001b[49m\u001b[43mwait_flags\u001b[49m\u001b[43m)\u001b[49m\n\u001b[1;32m   1892\u001b[0m \u001b[38;5;28;01mexcept\u001b[39;00m \u001b[38;5;167;01mChildProcessError\u001b[39;00m:\n\u001b[1;32m   1893\u001b[0m     \u001b[38;5;66;03m# This happens if SIGCLD is set to be ignored or waiting\u001b[39;00m\n\u001b[1;32m   1894\u001b[0m     \u001b[38;5;66;03m# for child processes has otherwise been disabled for our\u001b[39;00m\n\u001b[1;32m   1895\u001b[0m     \u001b[38;5;66;03m# process.  This child is dead, we can't get the status.\u001b[39;00m\n\u001b[1;32m   1896\u001b[0m     pid \u001b[38;5;241m=\u001b[39m \u001b[38;5;28mself\u001b[39m\u001b[38;5;241m.\u001b[39mpid\n",
      "\u001b[0;31mKeyboardInterrupt\u001b[0m: "
     ]
    }
   ],
   "source": [
    "calc_vib = Vasp(\n",
    "    directory='h2o_vib',\n",
    "    xc='PBE',\n",
    "    encut=450,\n",
    "    ismear=0, sigma=0.05,\n",
    "    ediff=1e-8,\n",
    "    ibrion=6,           # finite differences with symmetry\n",
    "    lreal=False,\n",
    "    lwave=False, lcharg=False,\n",
    "    atoms=h2o\n",
    ")\n",
    "\n",
    "calc_vib.calculate(h2o)\n",
    "\n",
    "vib_water = calc_vib.get_vibrations()\n",
    "\n",
    "# Frequencies (cm⁻¹)\n",
    "freqs = vib_water.get_frequencies()\n",
    "\n",
    "print(f'Vibrational frequencies of H2O (cm⁻¹):')\n",
    "vib_energies_h2o = []\n",
    "for freq in freqs:\n",
    "    if freq.real > 200:\n",
    "        vib_energy = (freq.real * 1.23981e-4)  # Convert cm⁻¹ to eV\n",
    "        vib_energies_h2o.append(vib_energy)\n",
    "        print(f'f_v: {freq.real:.3f} cm⁻¹, E_v: {vib_energy:.3f} eV')"
   ]
  },
  {
   "cell_type": "markdown",
   "id": "452f6ce2-da2b-4a49-821a-3cc00f651349",
   "metadata": {},
   "source": [
    "Aqui a gente usa differenças finitas em vez do metodo de perturbação. Porque ? Porque as vibraçoes do solido são tao pequena, que não vão estar importante para esse estudo da adsorbção da molecula de agua perto da interfacia. Para não egar em conto as vibrção dos phonons, é necessario usar outra metodo com diferenças finitas."
   ]
  },
  {
   "cell_type": "code",
   "execution_count": 7,
   "id": "0b24ffab",
   "metadata": {},
   "outputs": [
    {
     "name": "stdout",
     "output_type": "stream",
     "text": [
      "Optimized energy of CO: -14.780 eV\n"
     ]
    }
   ],
   "source": [
    "co = Atoms('CO',\n",
    "            positions=[[0.000, 0.000, 0.000],\n",
    "                       [0.000, 0.000, 1.144]]) # geometria otimizada com PBE\n",
    "co.center(vacuum=6.0)  \n",
    "co.pbc = True\n",
    "\n",
    "calc_relax = Vasp(\n",
    "    directory='co_relax',\n",
    "    xc='PBE',\n",
    "    encut=450,\n",
    "    ismear=0, sigma=0.05,\n",
    "    ediff=1e-6, ediffg=-0.01,\n",
    "    isif=2, ibrion=2, nsw=100,\n",
    "    nelm=100,\n",
    "    lwave=True, lcharg=True, lvtot=True,\n",
    "    atoms=co\n",
    ")\n",
    "calc_relax.calculate(co) # demora por volta de 10 s\n",
    "\n",
    "E_co = co.get_potential_energy()\n",
    "\n",
    "print(f'Optimized energy of CO: {E_co:.3f} eV')"
   ]
  },
  {
   "cell_type": "code",
   "execution_count": 8,
   "id": "be71feeb",
   "metadata": {},
   "outputs": [
    {
     "name": "stdout",
     "output_type": "stream",
     "text": [
      "Vibrational frequencies of CO (cm⁻¹):\n",
      "f_v: 2125.655 cm⁻¹, E_v: 0.264 eV\n"
     ]
    }
   ],
   "source": [
    "calc_vib = Vasp(\n",
    "    directory='co_vib',\n",
    "    xc='PBE',\n",
    "    encut=450,\n",
    "    ismear=0, sigma=0.05,\n",
    "    ediff=1e-8,\n",
    "    ibrion=6,           # finite differences with symmetry\n",
    "    lreal=False,\n",
    "    lwave=False, lcharg=False,\n",
    "    atoms=co\n",
    ")\n",
    "\n",
    "calc_vib.calculate(co)\n",
    "\n",
    "vib_co = calc_vib.get_vibrations()\n",
    "\n",
    "# Frequencies (cm⁻¹)\n",
    "freqs = vib_co.get_frequencies()\n",
    "\n",
    "print(f'Vibrational frequencies of CO (cm⁻¹):')\n",
    "vib_energies_co = []\n",
    "for freq in freqs:\n",
    "    if freq.real > 200:\n",
    "        vib_energy = (freq.real * 1.23981e-4)  # Convert cm⁻¹ to eV\n",
    "        vib_energies_co.append(vib_energy)\n",
    "        print(f'f_v: {freq.real:.3f} cm⁻¹, E_v: {vib_energy:.3f} eV')"
   ]
  },
  {
   "cell_type": "code",
   "execution_count": 9,
   "id": "278094b0",
   "metadata": {},
   "outputs": [
    {
     "name": "stdout",
     "output_type": "stream",
     "text": [
      "Optimized energy of CO2: -22.960 eV\n"
     ]
    }
   ],
   "source": [
    "co2 = Atoms('CO2',\n",
    "            positions=[[0.000, 0.000, 0.000],\n",
    "                       [0.000, 0.000, 1.177],\n",
    "                       [0.000, 0.000, -1.177]]) # geometria otimizada com PBE\n",
    "co2.center(vacuum=6.0)  \n",
    "co2.pbc = True\n",
    "\n",
    "calc_relax = Vasp(\n",
    "    directory='co2_relax',\n",
    "    xc='PBE',\n",
    "    encut=450,\n",
    "    ismear=0, sigma=0.05,\n",
    "    ediff=1e-6, ediffg=-0.01,\n",
    "    isif=2, ibrion=2, nsw=100,\n",
    "    nelm=100,\n",
    "    lwave=True, lcharg=True, lvtot=True,\n",
    "    atoms=co2\n",
    ")\n",
    "calc_relax.calculate(co2) # demora por volta de 10 s\n",
    "\n",
    "E_co2 = co2.get_potential_energy()\n",
    "\n",
    "print(f'Optimized energy of CO2: {E_co2:.3f} eV')"
   ]
  },
  {
   "cell_type": "code",
   "execution_count": 10,
   "id": "b40f17fb",
   "metadata": {},
   "outputs": [
    {
     "name": "stdout",
     "output_type": "stream",
     "text": [
      "Vibrational frequencies of CO2 (cm⁻¹):\n",
      "f_v: 631.471 cm⁻¹, E_v: 0.078 eV\n",
      "f_v: 631.471 cm⁻¹, E_v: 0.078 eV\n",
      "f_v: 1317.646 cm⁻¹, E_v: 0.163 eV\n",
      "f_v: 2365.938 cm⁻¹, E_v: 0.293 eV\n"
     ]
    }
   ],
   "source": [
    "calc_vib = Vasp(\n",
    "    directory='co2_vib',\n",
    "    xc='PBE',\n",
    "    encut=450,\n",
    "    ismear=0, sigma=0.05,\n",
    "    ediff=1e-8,\n",
    "    ibrion=6,           # finite differences with symmetry\n",
    "    lreal=False,\n",
    "    lwave=False, lcharg=False,\n",
    "    atoms=co2\n",
    ")\n",
    "\n",
    "calc_vib.calculate(co2)\n",
    "\n",
    "vib_co2 = calc_vib.get_vibrations()\n",
    "\n",
    "# Frequencies (cm⁻¹)\n",
    "freqs = vib_co2.get_frequencies()\n",
    "\n",
    "print(f'Vibrational frequencies of CO2 (cm⁻¹):')\n",
    "vib_energies_co2 = []\n",
    "for freq in freqs:\n",
    "    if freq.real > 200:\n",
    "        vib_energy = (freq.real * 1.23981e-4)  # Convert cm⁻¹ to eV\n",
    "        vib_energies_co2.append(vib_energy)\n",
    "        print(f'f_v: {freq.real:.3f} cm⁻¹, E_v: {vib_energy:.3f} eV')"
   ]
  },
  {
   "cell_type": "code",
   "execution_count": 11,
   "id": "aeb9a829",
   "metadata": {},
   "outputs": [
    {
     "name": "stdout",
     "output_type": "stream",
     "text": [
      "Optimized energy of H2: -6.766 eV\n"
     ]
    }
   ],
   "source": [
    "h2 = Atoms('H2',\n",
    "            positions=[[0.000, 0.000, 0.000],\n",
    "                       [0.000, 0.000, 0.740]]) # geometria otimizada com PBE\n",
    "h2.center(vacuum=6.0)  \n",
    "h2.pbc = True\n",
    "\n",
    "calc_relax = Vasp(\n",
    "    directory='h2_relax',\n",
    "    xc='PBE',\n",
    "    encut=450,\n",
    "    ismear=0, sigma=0.05,\n",
    "    ediff=1e-6, ediffg=-0.01,\n",
    "    isif=2, ibrion=2, nsw=100,\n",
    "    nelm=100,\n",
    "    lwave=True, lcharg=True, lvtot=True,\n",
    "    atoms=h2\n",
    ")\n",
    "calc_relax.calculate(h2) # demora por volta de 10 s\n",
    "\n",
    "E_h2 = h2.get_potential_energy()\n",
    "\n",
    "print(f'Optimized energy of H2: {E_h2:.3f} eV')"
   ]
  },
  {
   "cell_type": "code",
   "execution_count": 12,
   "id": "9b47b27e",
   "metadata": {},
   "outputs": [
    {
     "name": "stdout",
     "output_type": "stream",
     "text": [
      "Vibrational frequencies of H2 (cm⁻¹):\n",
      "f_v: 4320.547 cm⁻¹, E_v: 0.536 eV\n"
     ]
    }
   ],
   "source": [
    "calc_vib = Vasp(\n",
    "    directory='h2_vib',\n",
    "    xc='PBE',\n",
    "    encut=450,\n",
    "    ismear=0, sigma=0.05,\n",
    "    ediff=1e-8,\n",
    "    ibrion=6,           # finite differences with symmetry\n",
    "    lreal=False,\n",
    "    lwave=False, lcharg=False,\n",
    "    atoms=h2\n",
    ")\n",
    "\n",
    "calc_vib.calculate(h2)\n",
    "\n",
    "vib_h2 = calc_vib.get_vibrations()\n",
    "\n",
    "# Frequencies (cm⁻¹)\n",
    "freqs = vib_h2.get_frequencies()\n",
    "\n",
    "print(f'Vibrational frequencies of H2 (cm⁻¹):')\n",
    "vib_energies_h2 = []\n",
    "for freq in freqs:\n",
    "    if freq.real > 200:\n",
    "        vib_energy = (freq.real * 1.23981e-4)  # Convert cm⁻¹ to eV\n",
    "        vib_energies_h2.append(vib_energy)\n",
    "        print(f'f_v: {freq.real:.3f} cm⁻¹, E_v: {vib_energy:.3f} eV')"
   ]
  },
  {
   "cell_type": "markdown",
   "id": "7727ff12",
   "metadata": {},
   "source": [
    "Calculando energia livre de Gibbs e Entalpia"
   ]
  },
  {
   "cell_type": "code",
   "execution_count": 13,
   "id": "4e5e332a",
   "metadata": {},
   "outputs": [
    {
     "name": "stdout",
     "output_type": "stream",
     "text": [
      "Water-gas shift reaction: CO + H2O -> CO2 + H2\n",
      "at T=298.15 K and P=101325.0 Pa:\n",
      "ΔG = -0.727 eV = -70.153 kJ/mol\n",
      "ΔH = -0.857 eV = -82.650 kJ/mol\n"
     ]
    }
   ],
   "source": [
    "from ase.thermochemistry import IdealGasThermo\n",
    "\n",
    "h2o_thermo = IdealGasThermo(vib_energies=vib_energies_h2o,\n",
    "                        potentialenergy=E_h2o, atoms=h2o,\n",
    "                        geometry='nonlinear', symmetrynumber=2, spin=0)\n",
    "\n",
    "co_thermo = IdealGasThermo(vib_energies=vib_energies_co,\n",
    "                        potentialenergy=E_co, atoms=co,\n",
    "                        geometry='linear', symmetrynumber=1, spin=0)\n",
    "\n",
    "h2_thermo = IdealGasThermo(vib_energies=vib_energies_h2,\n",
    "                        potentialenergy=E_h2, atoms=h2,\n",
    "                        geometry='linear', symmetrynumber=2, spin=0)\n",
    "\n",
    "co2_thermo = IdealGasThermo(vib_energies=vib_energies_co2,\n",
    "                        potentialenergy=E_co2, atoms=co2,\n",
    "                        geometry='linear', symmetrynumber=2, spin=0)\n",
    "\n",
    "\n",
    "P = 101325. # Pa\n",
    "T = 298.15 # K\n",
    "\n",
    "G_h2o = h2o_thermo.get_gibbs_energy(temperature=T, pressure=P, verbose=False)\n",
    "H_h2o = h2o_thermo.get_enthalpy(temperature=T, verbose=False)\n",
    "\n",
    "G_co = co_thermo.get_gibbs_energy(temperature=T, pressure=P, verbose=False)\n",
    "H_co = co_thermo.get_enthalpy(temperature=T, verbose=False)\n",
    "\n",
    "G_h2 = h2_thermo.get_gibbs_energy(temperature=T, pressure=P, verbose=False)\n",
    "H_h2 = h2_thermo.get_enthalpy(temperature=T, verbose=False)\n",
    "\n",
    "G_co2 = co2_thermo.get_gibbs_energy(temperature=T, pressure=P, verbose=False)\n",
    "H_co2 = co2_thermo.get_enthalpy(temperature=T, verbose=False)\n",
    "\n",
    "# Cálculo da variação de energia livre de Gibbs e entalpia para a reação WGS\n",
    "# CO + H2O -> CO2 + H2\n",
    "Gwgs = G_co2 + G_h2 - (G_co + G_h2o)\n",
    "Hwgs = H_co2 + H_h2 - (H_co + H_h2o)\n",
    "\n",
    "print('Water-gas shift reaction: CO + H2O -> CO2 + H2')\n",
    "print(f'at T={T} K and P={P} Pa:')\n",
    "print(f'ΔG = {Gwgs:.3f} eV = {Gwgs*96.485:.3f} kJ/mol')\n",
    "print(f'ΔH = {Hwgs:.3f} eV = {Hwgs*96.485:.3f} kJ/mol')\n"
   ]
  },
  {
   "cell_type": "markdown",
   "id": "68065364-5e11-4031-b263-29a6f27270a6",
   "metadata": {},
   "source": [
    "Os valores do ΔG e ΔH não representa os valores experimentais. Isso vem do escolhe da base (PBE). Mas as variaçãoes com temperatura são razoaveis."
   ]
  },
  {
   "cell_type": "markdown",
   "id": "88979892",
   "metadata": {},
   "source": [
    "# Reação de WGS com Catalisador de Pt(111)\n",
    "\n",
    "Reações de Adsorção\n",
    "\n",
    "$ H_2 O + ^* \\rightleftarrows H_2 O^*$ (1)\n",
    "\n",
    "$ CO + * \\to CO*$ (2) \n",
    "\n",
    "$ CO2 + * \\to CO2*$ (3) \n",
    "\n",
    "$ H2 + * \\to 2 H*$ (4) \n",
    "\n",
    "\n",
    "**Ref:** \n",
    "- Grabow, L. C., Gokhale, A. A., Evans, S. T., Dumesic, J. A., & Mavrikakis, M. (2008). _Mechanism of the water gas shift reaction on Pt: First principles, experiments, and microkinetic modeling._ The Journal of Physical Chemistry C, 112(12), 4608-4617. https://pubs.acs.org/doi/pdf/10.1021/jp7099702\n",
    "- Gokhale, A. A., Dumesic, J. A., & Mavrikakis, M. (2008). _On the mechanism of low-temperature water gas shift reaction on copper._ Journal of the American Chemical Society, 130(4), 1402-1414. https://pubs.acs.org/doi/pdf/10.1021/ja0768237"
   ]
  },
  {
   "cell_type": "markdown",
   "id": "741c5f8f",
   "metadata": {},
   "source": [
    "## Equilibrando Geometria do Catalisador"
   ]
  },
  {
   "cell_type": "markdown",
   "id": "610bdded",
   "metadata": {},
   "source": [
    "Cristal bulk de Pt"
   ]
  },
  {
   "cell_type": "code",
   "execution_count": 14,
   "id": "d526ec6d",
   "metadata": {},
   "outputs": [
    {
     "name": "stdout",
     "output_type": "stream",
     "text": [
      "Optimized energy of Pt: -24.458 eV\n",
      "Lattice length: 3.967 Å\n"
     ]
    }
   ],
   "source": [
    "from ase.lattice.cubic import FaceCenteredCubic\n",
    "\n",
    "# bulk system\n",
    "Pt_crystal = FaceCenteredCubic(size=(1, 1, 1), symbol='Pt', latticeconstant=3.967, pbc=True)\n",
    "\n",
    "calc_relax = Vasp(directory='Pt_relax',\n",
    "                xc='PBE',\n",
    "                kpts=[6, 6, 6],  # specifies k-points\n",
    "                encut=450,\n",
    "                ismear=0, sigma=0.05,\n",
    "                ediff=1e-6, ediffg=-0.01,\n",
    "                isif=7, ibrion=2, nsw=100, # ionic relaxation (ISIF=7: relax cell volume only)\n",
    "                atoms=Pt_crystal\n",
    "                )\n",
    "calc_relax.calculate(Pt_crystal) # demora por volta de 2 s\n",
    "\n",
    "E_Pt = Pt_crystal.get_potential_energy()\n",
    "\n",
    "a0_Pt = Pt_crystal.cell.cellpar()[0]\n",
    "\n",
    "print(f'Optimized energy of Pt: {E_Pt:.3f} eV')\n",
    "print(f\"Lattice length: {a0_Pt:.3f} Å\")"
   ]
  },
  {
   "cell_type": "markdown",
   "id": "94b7feb5",
   "metadata": {},
   "source": [
    "Superfície Pt111"
   ]
  },
  {
   "cell_type": "code",
   "execution_count": 15,
   "id": "1de89dcf",
   "metadata": {},
   "outputs": [
    {
     "name": "stdout",
     "output_type": "stream",
     "text": [
      "Optimized energy of Pt111: -67.924 eV\n"
     ]
    }
   ],
   "source": [
    "from ase.build import fcc111\n",
    "\n",
    "# Superfície Pt111\n",
    "Pt111_slab = fcc111(\"Pt\", size=(2,2,3), a=a0_Pt)\n",
    "Pt111_slab.center(vacuum=5.0, axis=2) # adicionar vacuo pela direção z\n",
    "Pt111_slab.pbc = True\n",
    "\n",
    "calc_relax = Vasp(directory='Pt111_slab_relax',\n",
    "                xc='PBE',\n",
    "                kpts=[6, 6, 1],  # specifies k-points\n",
    "                encut=450,\n",
    "                ismear=0, sigma=0.05,\n",
    "                ediff=1e-6, ediffg=-0.01,\n",
    "                ibrion=-1, # just SCF (no ionic relaxation)\n",
    "                atoms=Pt111_slab\n",
    "                )\n",
    "calc_relax.calculate(Pt111_slab) # demora por volta de 12 s\n",
    "\n",
    "E_Pt111 = Pt111_slab.get_potential_energy()\n",
    "\n",
    "print(f'Optimized energy of Pt111: {E_Pt111:.3f} eV')"
   ]
  },
  {
   "cell_type": "markdown",
   "id": "9f617291-a56b-4699-9938-7aba230b63a4",
   "metadata": {},
   "source": [
    "O tamanho do vacuo poderia ser otimizado. O tamanho da caixa total tem a ver como o numero de onda plana que vão ser usadas. \n",
    "Outros parametros pode ser estar otimizados como os k points, a forma da funcional, e tal ..."
   ]
  },
  {
   "cell_type": "markdown",
   "id": "62c59185",
   "metadata": {},
   "source": [
    "## Reação 1: Water Adsorption\n",
    "\n",
    "$ H_2 O + * \\to H_2 O*$ "
   ]
  },
  {
   "cell_type": "markdown",
   "id": "d6e095f3",
   "metadata": {},
   "source": [
    "Calculando equilíbrio da geometria da molécula $H_2 O$ adsorvida na superfície Pt111"
   ]
  },
  {
   "cell_type": "code",
   "execution_count": 16,
   "id": "06acd055",
   "metadata": {},
   "outputs": [
    {
     "name": "stdout",
     "output_type": "stream",
     "text": [
      "Optimized energy of H2O in top position of Pt111: -82.353 eV\n"
     ]
    }
   ],
   "source": [
    "from ase.constraints import FixAtoms\n",
    "from ase.build import add_adsorbate\n",
    "# Adsorvendo a molécula de H2O na superfície Pt111\n",
    "\n",
    "H2Oads_slab = fcc111(\"Pt\", size=(2,2,3), a=a0_Pt)\n",
    "H2Oads_slab.center(vacuum=5.0, axis=2)\n",
    "H2Oads_slab.pbc = True\n",
    "\n",
    "h2o = Atoms('H2O',\n",
    "            positions=[[-0.768, 0.595, 0.000],\n",
    "                       [0.768, 0.595, 0.000],\n",
    "                       [0.000, 0.000, 0.000]]) # geometria otimizada com PBE\n",
    "\n",
    "h2o.rotate('z', 104.46/2) # rotaciona a molécula em 60 graus em torno do eixo z\n",
    "\n",
    "add_adsorbate(H2Oads_slab,  adsorbate=h2o, height=2.45, position = (4.50, 2.18), mol_index=2 )\n",
    "\n",
    "# fixando os átomos de Pt\n",
    "constraint = FixAtoms(mask=[atom.symbol=='Pt' for atom in H2Oads_slab])\n",
    "H2Oads_slab.set_constraint([constraint])\n",
    "\n",
    "calc_relax = Vasp(directory='Pt111_H2O_relax',\n",
    "                xc='PBE',\n",
    "                kpts=[6, 6, 1],  # specifies k-points\n",
    "                encut=450,\n",
    "                ismear=0, sigma=0.05,\n",
    "                ediff=1e-6, ediffg=-0.01,\n",
    "                isif=0, ibrion=2, nsw=100, # ionic relaxation (ISIF=2: relax atoms position only)\n",
    "                atoms=H2Oads_slab\n",
    "                )\n",
    "calc_relax.calculate(H2Oads_slab) # demora por volta de 260 min\n",
    "\n",
    "E_Pt111_H2O= H2Oads_slab.get_potential_energy()\n",
    "\n",
    "print(f'Optimized energy of H2O in top position of Pt111: {E_Pt111_H2O:.3f} eV')\n"
   ]
  },
  {
   "cell_type": "code",
   "execution_count": 17,
   "id": "c4c976e7",
   "metadata": {},
   "outputs": [
    {
     "name": "stdout",
     "output_type": "stream",
     "text": [
      "Adsorption energy of H2O on Pt111: -0.209 eV\n"
     ]
    }
   ],
   "source": [
    "E_ads_Pt111_H2O = E_Pt111_H2O - E_Pt111 - E_h2o\n",
    "\n",
    "print(f'Adsorption energy of H2O on Pt111: {E_ads_Pt111_H2O:.3f} eV')"
   ]
  },
  {
   "cell_type": "markdown",
   "id": "540e2514-3c91-457d-92da-a4f39cb4ed13",
   "metadata": {},
   "source": [
    "**RESTART FROM HERE**"
   ]
  },
  {
   "cell_type": "code",
   "execution_count": 18,
   "id": "2166223f",
   "metadata": {},
   "outputs": [
    {
     "ename": "KeyboardInterrupt",
     "evalue": "",
     "output_type": "error",
     "traceback": [
      "\u001b[0;31m---------------------------------------------------------------------------\u001b[0m",
      "\u001b[0;31mKeyboardInterrupt\u001b[0m                         Traceback (most recent call last)",
      "Cell \u001b[0;32mIn[18], line 13\u001b[0m\n\u001b[1;32m      1\u001b[0m calc_vib \u001b[38;5;241m=\u001b[39m Vasp(\n\u001b[1;32m      2\u001b[0m     directory\u001b[38;5;241m=\u001b[39m\u001b[38;5;124m'\u001b[39m\u001b[38;5;124mPt111_H2O_vib\u001b[39m\u001b[38;5;124m'\u001b[39m,\n\u001b[1;32m      3\u001b[0m     xc\u001b[38;5;241m=\u001b[39m\u001b[38;5;124m'\u001b[39m\u001b[38;5;124mPBE\u001b[39m\u001b[38;5;124m'\u001b[39m,\n\u001b[0;32m   (...)\u001b[0m\n\u001b[1;32m     10\u001b[0m     atoms\u001b[38;5;241m=\u001b[39mH2Oads_slab\n\u001b[1;32m     11\u001b[0m )\n\u001b[0;32m---> 13\u001b[0m \u001b[43mcalc_vib\u001b[49m\u001b[38;5;241;43m.\u001b[39;49m\u001b[43mcalculate\u001b[49m\u001b[43m(\u001b[49m\u001b[43mH2Oads_slab\u001b[49m\u001b[43m)\u001b[49m\n\u001b[1;32m     15\u001b[0m vib_Pt111_h2o \u001b[38;5;241m=\u001b[39m calc_vib\u001b[38;5;241m.\u001b[39mget_vibrations()\n\u001b[1;32m     17\u001b[0m \u001b[38;5;66;03m# Frequencies (cm⁻¹)\u001b[39;00m\n",
      "File \u001b[0;32m~/Programs/miniforge3/envs/ase/lib/python3.9/site-packages/ase/calculators/vasp/vasp.py:337\u001b[0m, in \u001b[0;36mVasp.calculate\u001b[0;34m(self, atoms, properties, system_changes)\u001b[0m\n\u001b[1;32m    334\u001b[0m \u001b[38;5;28mself\u001b[39m\u001b[38;5;241m.\u001b[39mwrite_input(\u001b[38;5;28mself\u001b[39m\u001b[38;5;241m.\u001b[39matoms, properties, system_changes)\n\u001b[1;32m    336\u001b[0m \u001b[38;5;28;01mwith\u001b[39;00m \u001b[38;5;28mself\u001b[39m\u001b[38;5;241m.\u001b[39m_txt_outstream() \u001b[38;5;28;01mas\u001b[39;00m out:\n\u001b[0;32m--> 337\u001b[0m     errorcode \u001b[38;5;241m=\u001b[39m \u001b[38;5;28;43mself\u001b[39;49m\u001b[38;5;241;43m.\u001b[39;49m\u001b[43m_run\u001b[49m\u001b[43m(\u001b[49m\u001b[43mcommand\u001b[49m\u001b[38;5;241;43m=\u001b[39;49m\u001b[43mcommand\u001b[49m\u001b[43m,\u001b[49m\n\u001b[1;32m    338\u001b[0m \u001b[43m                          \u001b[49m\u001b[43mout\u001b[49m\u001b[38;5;241;43m=\u001b[39;49m\u001b[43mout\u001b[49m\u001b[43m,\u001b[49m\n\u001b[1;32m    339\u001b[0m \u001b[43m                          \u001b[49m\u001b[43mdirectory\u001b[49m\u001b[38;5;241;43m=\u001b[39;49m\u001b[38;5;28;43mself\u001b[39;49m\u001b[38;5;241;43m.\u001b[39;49m\u001b[43mdirectory\u001b[49m\u001b[43m)\u001b[49m\n\u001b[1;32m    341\u001b[0m \u001b[38;5;28;01mif\u001b[39;00m errorcode:\n\u001b[1;32m    342\u001b[0m     \u001b[38;5;28;01mraise\u001b[39;00m calculator\u001b[38;5;241m.\u001b[39mCalculationFailed(\n\u001b[1;32m    343\u001b[0m         \u001b[38;5;124m'\u001b[39m\u001b[38;5;132;01m{}\u001b[39;00m\u001b[38;5;124m in \u001b[39m\u001b[38;5;132;01m{}\u001b[39;00m\u001b[38;5;124m returned an error: \u001b[39m\u001b[38;5;132;01m{:d}\u001b[39;00m\u001b[38;5;124m'\u001b[39m\u001b[38;5;241m.\u001b[39mformat(\n\u001b[1;32m    344\u001b[0m             \u001b[38;5;28mself\u001b[39m\u001b[38;5;241m.\u001b[39mname, Path(\u001b[38;5;28mself\u001b[39m\u001b[38;5;241m.\u001b[39mdirectory)\u001b[38;5;241m.\u001b[39mresolve(), errorcode))\n",
      "File \u001b[0;32m~/Programs/miniforge3/envs/ase/lib/python3.9/site-packages/ase/calculators/vasp/vasp.py:356\u001b[0m, in \u001b[0;36mVasp._run\u001b[0;34m(self, command, out, directory)\u001b[0m\n\u001b[1;32m    354\u001b[0m \u001b[38;5;28;01mif\u001b[39;00m directory \u001b[38;5;129;01mis\u001b[39;00m \u001b[38;5;28;01mNone\u001b[39;00m:\n\u001b[1;32m    355\u001b[0m     directory \u001b[38;5;241m=\u001b[39m \u001b[38;5;28mself\u001b[39m\u001b[38;5;241m.\u001b[39mdirectory\n\u001b[0;32m--> 356\u001b[0m errorcode \u001b[38;5;241m=\u001b[39m \u001b[43msubprocess\u001b[49m\u001b[38;5;241;43m.\u001b[39;49m\u001b[43mcall\u001b[49m\u001b[43m(\u001b[49m\u001b[43mcommand\u001b[49m\u001b[43m,\u001b[49m\n\u001b[1;32m    357\u001b[0m \u001b[43m                            \u001b[49m\u001b[43mshell\u001b[49m\u001b[38;5;241;43m=\u001b[39;49m\u001b[38;5;28;43;01mTrue\u001b[39;49;00m\u001b[43m,\u001b[49m\n\u001b[1;32m    358\u001b[0m \u001b[43m                            \u001b[49m\u001b[43mstdout\u001b[49m\u001b[38;5;241;43m=\u001b[39;49m\u001b[43mout\u001b[49m\u001b[43m,\u001b[49m\n\u001b[1;32m    359\u001b[0m \u001b[43m                            \u001b[49m\u001b[43mcwd\u001b[49m\u001b[38;5;241;43m=\u001b[39;49m\u001b[43mdirectory\u001b[49m\u001b[43m)\u001b[49m\n\u001b[1;32m    360\u001b[0m \u001b[38;5;28;01mreturn\u001b[39;00m errorcode\n",
      "File \u001b[0;32m~/Programs/miniforge3/envs/ase/lib/python3.9/subprocess.py:351\u001b[0m, in \u001b[0;36mcall\u001b[0;34m(timeout, *popenargs, **kwargs)\u001b[0m\n\u001b[1;32m    349\u001b[0m \u001b[38;5;28;01mwith\u001b[39;00m Popen(\u001b[38;5;241m*\u001b[39mpopenargs, \u001b[38;5;241m*\u001b[39m\u001b[38;5;241m*\u001b[39mkwargs) \u001b[38;5;28;01mas\u001b[39;00m p:\n\u001b[1;32m    350\u001b[0m     \u001b[38;5;28;01mtry\u001b[39;00m:\n\u001b[0;32m--> 351\u001b[0m         \u001b[38;5;28;01mreturn\u001b[39;00m \u001b[43mp\u001b[49m\u001b[38;5;241;43m.\u001b[39;49m\u001b[43mwait\u001b[49m\u001b[43m(\u001b[49m\u001b[43mtimeout\u001b[49m\u001b[38;5;241;43m=\u001b[39;49m\u001b[43mtimeout\u001b[49m\u001b[43m)\u001b[49m\n\u001b[1;32m    352\u001b[0m     \u001b[38;5;28;01mexcept\u001b[39;00m:  \u001b[38;5;66;03m# Including KeyboardInterrupt, wait handled that.\u001b[39;00m\n\u001b[1;32m    353\u001b[0m         p\u001b[38;5;241m.\u001b[39mkill()\n",
      "File \u001b[0;32m~/Programs/miniforge3/envs/ase/lib/python3.9/subprocess.py:1189\u001b[0m, in \u001b[0;36mPopen.wait\u001b[0;34m(self, timeout)\u001b[0m\n\u001b[1;32m   1187\u001b[0m     endtime \u001b[38;5;241m=\u001b[39m _time() \u001b[38;5;241m+\u001b[39m timeout\n\u001b[1;32m   1188\u001b[0m \u001b[38;5;28;01mtry\u001b[39;00m:\n\u001b[0;32m-> 1189\u001b[0m     \u001b[38;5;28;01mreturn\u001b[39;00m \u001b[38;5;28;43mself\u001b[39;49m\u001b[38;5;241;43m.\u001b[39;49m\u001b[43m_wait\u001b[49m\u001b[43m(\u001b[49m\u001b[43mtimeout\u001b[49m\u001b[38;5;241;43m=\u001b[39;49m\u001b[43mtimeout\u001b[49m\u001b[43m)\u001b[49m\n\u001b[1;32m   1190\u001b[0m \u001b[38;5;28;01mexcept\u001b[39;00m \u001b[38;5;167;01mKeyboardInterrupt\u001b[39;00m:\n\u001b[1;32m   1191\u001b[0m     \u001b[38;5;66;03m# https://bugs.python.org/issue25942\u001b[39;00m\n\u001b[1;32m   1192\u001b[0m     \u001b[38;5;66;03m# The first keyboard interrupt waits briefly for the child to\u001b[39;00m\n\u001b[1;32m   1193\u001b[0m     \u001b[38;5;66;03m# exit under the common assumption that it also received the ^C\u001b[39;00m\n\u001b[1;32m   1194\u001b[0m     \u001b[38;5;66;03m# generated SIGINT and will exit rapidly.\u001b[39;00m\n\u001b[1;32m   1195\u001b[0m     \u001b[38;5;28;01mif\u001b[39;00m timeout \u001b[38;5;129;01mis\u001b[39;00m \u001b[38;5;129;01mnot\u001b[39;00m \u001b[38;5;28;01mNone\u001b[39;00m:\n",
      "File \u001b[0;32m~/Programs/miniforge3/envs/ase/lib/python3.9/subprocess.py:1933\u001b[0m, in \u001b[0;36mPopen._wait\u001b[0;34m(self, timeout)\u001b[0m\n\u001b[1;32m   1931\u001b[0m \u001b[38;5;28;01mif\u001b[39;00m \u001b[38;5;28mself\u001b[39m\u001b[38;5;241m.\u001b[39mreturncode \u001b[38;5;129;01mis\u001b[39;00m \u001b[38;5;129;01mnot\u001b[39;00m \u001b[38;5;28;01mNone\u001b[39;00m:\n\u001b[1;32m   1932\u001b[0m     \u001b[38;5;28;01mbreak\u001b[39;00m  \u001b[38;5;66;03m# Another thread waited.\u001b[39;00m\n\u001b[0;32m-> 1933\u001b[0m (pid, sts) \u001b[38;5;241m=\u001b[39m \u001b[38;5;28;43mself\u001b[39;49m\u001b[38;5;241;43m.\u001b[39;49m\u001b[43m_try_wait\u001b[49m\u001b[43m(\u001b[49m\u001b[38;5;241;43m0\u001b[39;49m\u001b[43m)\u001b[49m\n\u001b[1;32m   1934\u001b[0m \u001b[38;5;66;03m# Check the pid and loop as waitpid has been known to\u001b[39;00m\n\u001b[1;32m   1935\u001b[0m \u001b[38;5;66;03m# return 0 even without WNOHANG in odd situations.\u001b[39;00m\n\u001b[1;32m   1936\u001b[0m \u001b[38;5;66;03m# http://bugs.python.org/issue14396.\u001b[39;00m\n\u001b[1;32m   1937\u001b[0m \u001b[38;5;28;01mif\u001b[39;00m pid \u001b[38;5;241m==\u001b[39m \u001b[38;5;28mself\u001b[39m\u001b[38;5;241m.\u001b[39mpid:\n",
      "File \u001b[0;32m~/Programs/miniforge3/envs/ase/lib/python3.9/subprocess.py:1891\u001b[0m, in \u001b[0;36mPopen._try_wait\u001b[0;34m(self, wait_flags)\u001b[0m\n\u001b[1;32m   1889\u001b[0m \u001b[38;5;250m\u001b[39m\u001b[38;5;124;03m\"\"\"All callers to this function MUST hold self._waitpid_lock.\"\"\"\u001b[39;00m\n\u001b[1;32m   1890\u001b[0m \u001b[38;5;28;01mtry\u001b[39;00m:\n\u001b[0;32m-> 1891\u001b[0m     (pid, sts) \u001b[38;5;241m=\u001b[39m \u001b[43mos\u001b[49m\u001b[38;5;241;43m.\u001b[39;49m\u001b[43mwaitpid\u001b[49m\u001b[43m(\u001b[49m\u001b[38;5;28;43mself\u001b[39;49m\u001b[38;5;241;43m.\u001b[39;49m\u001b[43mpid\u001b[49m\u001b[43m,\u001b[49m\u001b[43m \u001b[49m\u001b[43mwait_flags\u001b[49m\u001b[43m)\u001b[49m\n\u001b[1;32m   1892\u001b[0m \u001b[38;5;28;01mexcept\u001b[39;00m \u001b[38;5;167;01mChildProcessError\u001b[39;00m:\n\u001b[1;32m   1893\u001b[0m     \u001b[38;5;66;03m# This happens if SIGCLD is set to be ignored or waiting\u001b[39;00m\n\u001b[1;32m   1894\u001b[0m     \u001b[38;5;66;03m# for child processes has otherwise been disabled for our\u001b[39;00m\n\u001b[1;32m   1895\u001b[0m     \u001b[38;5;66;03m# process.  This child is dead, we can't get the status.\u001b[39;00m\n\u001b[1;32m   1896\u001b[0m     pid \u001b[38;5;241m=\u001b[39m \u001b[38;5;28mself\u001b[39m\u001b[38;5;241m.\u001b[39mpid\n",
      "\u001b[0;31mKeyboardInterrupt\u001b[0m: "
     ]
    }
   ],
   "source": [
    "calc_vib = Vasp(\n",
    "    directory='Pt111_H2O_vib',\n",
    "    xc='PBE',\n",
    "    kpts=[6, 6, 1],\n",
    "    encut=450,\n",
    "    ismear=0, sigma=0.05,\n",
    "    ediff=1e-8,\n",
    "    ibrion=5,nfree=2, nsw=1,           # finite differences with selective dynamics (Pt atoms fixed)\n",
    "    lreal=False,lwave=False, lcharg=False,\n",
    "    atoms=H2Oads_slab\n",
    ")\n",
    "\n",
    "calc_vib.calculate(H2Oads_slab)\n",
    "\n",
    "vib_Pt111_h2o = calc_vib.get_vibrations()\n",
    "\n",
    "# Frequencies (cm⁻¹)\n",
    "freqs = vib_Pt111_h2o.get_frequencies()\n",
    "\n",
    "print(f'Vibrational frequencies of H2O on Pt111 (cm⁻¹):')\n",
    "\n",
    "vib_energie_Pt111_h2o = []\n",
    "for freq in freqs:\n",
    "    if freq.real > 200:\n",
    "        vib_energy = (freq.real * 1.23981e-4)  # Convert cm⁻¹ to eV\n",
    "        vib_energie_Pt111_h2o.append(vib_energy)\n",
    "        print(f'f_v: {freq.real:.3f} cm⁻¹, E_v: {vib_energy:.3f} eV')"
   ]
  },
  {
   "cell_type": "markdown",
   "id": "7285fb91-baf8-4bb0-9145-612b88884c55",
   "metadata": {},
   "source": [
    "A gente pode observar que as frequenças de vibrações são menores que no bulk, isso tem a ver com a frequença esta com $\\frac{1}{m}$ e a massa é maior com adiçao de platino."
   ]
  },
  {
   "cell_type": "code",
   "execution_count": null,
   "id": "0dfd0a57",
   "metadata": {},
   "outputs": [],
   "source": [
    "h2o_Pt111_thermo = IdealGasThermo(vib_energies=vib_energie_Pt111_h2o,\n",
    "                        potentialenergy=E_Pt111_H2O, atoms=H2Oads_slab,\n",
    "                        geometry='nonlinear', symmetrynumber=2, spin=0)\n",
    "\n",
    "G_h2o_Pt111 = h2o_Pt111_thermo.get_gibbs_energy(temperature=T, pressure=P, verbose=False)\n",
    "H_h2o_Pt111 = h2o_Pt111_thermo.get_enthalpy(temperature=T, verbose=False)"
   ]
  },
  {
   "cell_type": "code",
   "execution_count": null,
   "id": "2484c19f",
   "metadata": {},
   "outputs": [],
   "source": [
    "Hads_h2o = H_h2o_Pt111 - H_h2o - E_Pt111\n",
    "      \n",
    "print(f'ΔH h2o adsorption = {Hads_h2o:.3f} eV')"
   ]
  },
  {
   "cell_type": "markdown",
   "id": "cc5b4504",
   "metadata": {},
   "source": [
    "## Reação 2: CO Adsorption\n",
    "\n",
    "$ CO + * \\to CO*$ "
   ]
  },
  {
   "cell_type": "code",
   "execution_count": null,
   "id": "2228954d",
   "metadata": {},
   "outputs": [],
   "source": [
    "# Adsorvendo a molécula de H2O na superfície Pt111\n",
    "\n",
    "COads_slab = fcc111(\"Pt\", size=(2,2,3), a=a0_Pt)\n",
    "COads_slab.center(vacuum=5.0, axis=2)\n",
    "COads_slab.pbc = True\n",
    "\n",
    "co = Atoms('CO',\n",
    "            positions=[[0.000, 0.000, 0.000],\n",
    "                       [0.000, 0.000, 1.20]]) # geometria otimizada com PBE\n",
    "\n",
    "add_adsorbate(COads_slab,  adsorbate=co, height=2.13, position ='hcp', mol_index=0 )\n",
    "\n",
    "# fixando os átomos de Pt\n",
    "constraint = FixAtoms(mask=[atom.symbol=='Pt' for atom in COads_slab])\n",
    "COads_slab.set_constraint([constraint])\n",
    "\n",
    "calc_relax = Vasp(directory='Pt111_CO_relax',\n",
    "                xc='PBE',\n",
    "                kpts=[6, 6, 1],  # specifies k-points\n",
    "                encut=450,\n",
    "                ismear=0, sigma=0.05,\n",
    "                ediff=1e-6, ediffg=-0.01,\n",
    "                isif=0, ibrion=2, nsw=100, # ionic relaxation (ISIF=2: relax atoms position only)\n",
    "                atoms=COads_slab\n",
    "                )\n",
    "calc_relax.calculate(COads_slab) # demora por volta de 14 min\n",
    "\n",
    "E_Pt111_CO= COads_slab.get_potential_energy()\n",
    "\n",
    "print(f'Optimized energy of CO in top position of Pt111: {E_Pt111_CO:.3f} eV')\n"
   ]
  },
  {
   "cell_type": "code",
   "execution_count": null,
   "id": "4141a16b",
   "metadata": {},
   "outputs": [],
   "source": [
    "E_ads_Pt111_CO = E_Pt111_CO - E_Pt111 - E_co\n",
    "\n",
    "print(f'Adsorption energy of CO on Pt111: {E_ads_Pt111_CO:.3f} eV')"
   ]
  },
  {
   "cell_type": "code",
   "execution_count": null,
   "id": "398b4515",
   "metadata": {},
   "outputs": [],
   "source": [
    "calc_vib = Vasp(\n",
    "    directory='Pt111_CO_vib',\n",
    "    xc='PBE',\n",
    "    kpts=[6, 6, 1],\n",
    "    encut=450,\n",
    "    ismear=0, sigma=0.05,\n",
    "    ediff=1e-8,\n",
    "    ibrion=5,nfree=2, nsw=1,           # finite differences with selective dynamics (Pt atoms fixed)\n",
    "    lreal=False,lwave=False, lcharg=False,\n",
    "    atoms=COads_slab\n",
    ")\n",
    "\n",
    "calc_vib.calculate(COads_slab)\n",
    "\n",
    "vib_Pt111_co = calc_vib.get_vibrations()\n",
    "\n",
    "# Frequencies (cm⁻¹)\n",
    "freqs = vib_Pt111_co.get_frequencies()\n",
    "\n",
    "print(f'Vibrational frequencies of CO on Pt111 (cm⁻¹):')\n",
    "\n",
    "vib_energie_Pt111_co = []\n",
    "for freq in freqs:\n",
    "    if freq.real > 200:\n",
    "        vib_energy = (freq.real * 1.23981e-4)  # Convert cm⁻¹ to eV\n",
    "        vib_energie_Pt111_co.append(vib_energy)\n",
    "        print(f'f_v: {freq.real:.3f} cm⁻¹, E_v: {vib_energy:.3f} eV')"
   ]
  },
  {
   "cell_type": "markdown",
   "id": "cf81372a-b1e7-4201-a54c-f9e87cbf9211",
   "metadata": {},
   "source": [
    "Uma observaçõe esquisita aqui é aque a simetria do systema não parece estar respeitada. A gente espera 3 modos similares com mesma energia, e um outro modo de energia differente. Talvez tem a ver com um problema na resolução de diagonalização que mistura modos. Modos misturados tem energia como combinação linear tambem."
   ]
  },
  {
   "cell_type": "code",
   "execution_count": null,
   "id": "9e481ed2",
   "metadata": {},
   "outputs": [],
   "source": [
    "co_Pt111_thermo = IdealGasThermo(vib_energies=vib_energie_Pt111_co,\n",
    "                        potentialenergy=E_Pt111_CO, atoms=COads_slab,\n",
    "                        geometry='nonlinear', symmetrynumber=2, spin=0)\n",
    "\n",
    "G_co_Pt111 = co_Pt111_thermo.get_gibbs_energy(temperature=T, pressure=P, verbose=False)\n",
    "H_co_Pt111 = co_Pt111_thermo.get_enthalpy(temperature=T, verbose=False)"
   ]
  },
  {
   "cell_type": "code",
   "execution_count": null,
   "id": "eea18027",
   "metadata": {},
   "outputs": [],
   "source": [
    "Hads_co = H_co_Pt111 - H_co - E_Pt111\n",
    "      \n",
    "print(f'ΔH co adsorption = {Hads_co:.3f} eV')"
   ]
  },
  {
   "cell_type": "markdown",
   "id": "8882ab3a",
   "metadata": {},
   "source": [
    "## Reação 3: CO2 Adsorption\n",
    "\n",
    "$ CO2 + * \\to CO2*$ "
   ]
  },
  {
   "cell_type": "code",
   "execution_count": null,
   "id": "96b0648a",
   "metadata": {},
   "outputs": [],
   "source": [
    "# Adsorvendo a molécula de CO2 na superfície Pt111\n",
    "\n",
    "CO2ads_slab = fcc111(\"Pt\", size=(2,2,3), a=a0_Pt)\n",
    "CO2ads_slab.center(vacuum=5.0, axis=2)\n",
    "CO2ads_slab.pbc = True\n",
    "\n",
    "co2 = Atoms('CO2',\n",
    "            positions=[[0.000, 0.000, 0.000],\n",
    "                       [1.177, 0.000, 0.000],\n",
    "                       [-1.177, 0.000, 0.000]]) # geometria otimizada com PBE\n",
    "\n",
    "add_adsorbate(CO2ads_slab,  adsorbate=co2, height=2.5, position ='ontop', mol_index=0 )\n",
    "\n",
    "# fixando os átomos de Pt\n",
    "constraint = FixAtoms(mask=[atom.symbol=='Pt' for atom in CO2ads_slab])\n",
    "CO2ads_slab.set_constraint([constraint])\n",
    "\n",
    "calc_relax = Vasp(directory='Pt111_CO2_relax',\n",
    "                xc='PBE',\n",
    "                kpts=[6, 6, 1],  # specifies k-points\n",
    "                encut=450,\n",
    "                ismear=0, sigma=0.05,\n",
    "                ediff=1e-6, ediffg=-0.01,\n",
    "                isif=0, ibrion=2, nsw=100, # ionic relaxation (ISIF=2: relax atoms position only)\n",
    "                atoms=CO2ads_slab\n",
    "                )\n",
    "calc_relax.calculate(CO2ads_slab) # demora por volta de 29 min\n",
    "\n",
    "E_Pt111_CO2= CO2ads_slab.get_potential_energy()\n",
    "\n",
    "print(f'Optimized energy of CO2 in top position of Pt111: {E_Pt111_CO2:.3f} eV')\n"
   ]
  },
  {
   "cell_type": "code",
   "execution_count": null,
   "id": "42264bec",
   "metadata": {},
   "outputs": [],
   "source": [
    "E_ads_Pt111_CO2 = E_Pt111_CO2 - E_Pt111 - E_co2\n",
    "\n",
    "print(f'Adsorption energy of CO2 on Pt111: {E_ads_Pt111_CO2:.3f} eV')"
   ]
  },
  {
   "cell_type": "code",
   "execution_count": null,
   "id": "f5c05161",
   "metadata": {},
   "outputs": [],
   "source": [
    "calc_vib = Vasp(\n",
    "    directory='Pt111_CO2_vib',\n",
    "    xc='PBE',\n",
    "    kpts=[6, 6, 1],\n",
    "    encut=450,\n",
    "    ismear=0, sigma=0.05,\n",
    "    ediff=1e-8,\n",
    "    ibrion=5,nfree=2, nsw=1,           # finite differences with selective dynamics (Pt atoms fixed)\n",
    "    lreal=False,lwave=False, lcharg=False,\n",
    "    atoms=CO2ads_slab\n",
    ")\n",
    "\n",
    "calc_vib.calculate(CO2ads_slab)\n",
    "\n",
    "vib_Pt111_co2 = calc_vib.get_vibrations()\n",
    "\n",
    "# Frequencies (cm⁻¹)\n",
    "freqs = vib_Pt111_co2.get_frequencies()\n",
    "\n",
    "print(f'Vibrational frequencies of CO2 on Pt111 (cm⁻¹):')\n",
    "\n",
    "vib_energie_Pt111_co2 = []\n",
    "for freq in freqs:\n",
    "    if freq.real > 200:\n",
    "        vib_energy = (freq.real * 1.23981e-4)  # Convert cm⁻¹ to eV\n",
    "        vib_energie_Pt111_co2.append(vib_energy)\n",
    "        print(f'f_v: {freq.real:.3f} cm⁻¹, E_v: {vib_energy:.3f} eV')"
   ]
  },
  {
   "cell_type": "code",
   "execution_count": null,
   "id": "7ebd8fef",
   "metadata": {},
   "outputs": [],
   "source": [
    "co2_Pt111_thermo = IdealGasThermo(vib_energies=vib_energie_Pt111_co2,\n",
    "                        potentialenergy=E_Pt111_CO2, atoms=CO2ads_slab,\n",
    "                        geometry='nonlinear', symmetrynumber=2, spin=0)\n",
    "\n",
    "G_co2_Pt111 = co2_Pt111_thermo.get_gibbs_energy(temperature=T, pressure=P, verbose=False)\n",
    "H_co2_Pt111 = co2_Pt111_thermo.get_enthalpy(temperature=T, verbose=False)"
   ]
  },
  {
   "cell_type": "code",
   "execution_count": null,
   "id": "0493873a",
   "metadata": {},
   "outputs": [],
   "source": [
    "Hads_co2 = H_co2_Pt111 - H_co2 - E_Pt111\n",
    "      \n",
    "print(f'ΔH CO2 adsorption = {Hads_co2:.3f} eV')"
   ]
  },
  {
   "cell_type": "markdown",
   "id": "a74247a7",
   "metadata": {},
   "source": [
    "## Reação 4: H2 Adsorption\n",
    "\n",
    "$ H2 + * \\to 2 H*$ "
   ]
  },
  {
   "cell_type": "code",
   "execution_count": null,
   "id": "f0c7b4f3",
   "metadata": {},
   "outputs": [],
   "source": [
    "from ase import Atom\n",
    "# Adsorvendo átomo de H na superfície Pt111\n",
    "\n",
    "H2ads_slab = fcc111(\"Pt\", size=(2,2,3), a=a0_Pt)\n",
    "H2ads_slab.center(vacuum=5.0, axis=2)\n",
    "H2ads_slab.pbc = True\n",
    "\n",
    "h = Atom('H', position=[0.000, 0.000, 0.000], magmom=1.0) # os eletrons não estão aparelhadaos, e tem que adicionar o spin.\n",
    "\n",
    "add_adsorbate(H2ads_slab,  adsorbate=h, height=0.94, position ='fcc')\n",
    "\n",
    "# fixando os átomos de Pt\n",
    "constraint = FixAtoms(mask=[atom.symbol=='Pt' for atom in H2ads_slab])\n",
    "H2ads_slab.set_constraint([constraint])\n",
    "\n",
    "calc_relax = Vasp(directory='Pt111_H_relax',\n",
    "                xc='PBE',\n",
    "                kpts=[6, 6, 1],  # specifies k-points\n",
    "                encut=450,\n",
    "                ismear=0, sigma=0.05,\n",
    "                ediff=1e-6, ediffg=-0.01,\n",
    "                isif=0, ibrion=2, nsw=100, # ionic relaxation (ISIF=2: relax atoms position only)\n",
    "                atoms=H2ads_slab\n",
    "                )\n",
    "calc_relax.calculate(H2ads_slab) # demora por volta de 29 min\n",
    "\n",
    "E_Pt111_H = H2ads_slab.get_potential_energy()\n",
    "\n",
    "print(f'Optimized energy of H in fcc position of Pt111: {E_Pt111_H:.3f} eV')\n"
   ]
  },
  {
   "cell_type": "code",
   "execution_count": null,
   "id": "82f2c230",
   "metadata": {},
   "outputs": [],
   "source": [
    "E_ads_Pt111_H2 = 2*(E_Pt111_H - E_Pt111) - E_h2\n",
    "\n",
    "print(f'Adsorption energy of H2 on Pt111: {E_ads_Pt111_H2:.3f} eV')"
   ]
  },
  {
   "cell_type": "code",
   "execution_count": null,
   "id": "d4849f34",
   "metadata": {},
   "outputs": [],
   "source": [
    "calc_vib = Vasp(\n",
    "    directory='Pt111_H_vib',\n",
    "    xc='PBE',\n",
    "    kpts=[6, 6, 1],\n",
    "    encut=450,\n",
    "    ismear=0, sigma=0.05,\n",
    "    ediff=1e-8,\n",
    "    ibrion=5,nfree=2, nsw=1,           # finite differences with selective dynamics (Pt atoms fixed)\n",
    "    lreal=False,lwave=False, lcharg=False,\n",
    "    atoms=H2ads_slab\n",
    ")\n",
    "\n",
    "calc_vib.calculate(H2ads_slab)\n",
    "\n",
    "vib_Pt111_h = calc_vib.get_vibrations()\n",
    "\n",
    "# Frequencies (cm⁻¹)\n",
    "freqs = vib_Pt111_h.get_frequencies()\n",
    "\n",
    "print(f'Vibrational frequencies of H on Pt111 (cm⁻¹):')\n",
    "\n",
    "vib_energie_Pt111_h = []\n",
    "for freq in freqs:\n",
    "    if freq.real > 200:\n",
    "        vib_energy = (freq.real * 1.23981e-4)  # Convert cm⁻¹ to eV\n",
    "        vib_energie_Pt111_h.append(vib_energy)\n",
    "        print(f'f_v: {freq.real:.3f} cm⁻¹, E_v: {vib_energy:.3f} eV')"
   ]
  },
  {
   "cell_type": "code",
   "execution_count": null,
   "id": "f77bddf6",
   "metadata": {},
   "outputs": [],
   "source": [
    "h_Pt111_thermo = IdealGasThermo(vib_energies=vib_energie_Pt111_h,\n",
    "                        potentialenergy=E_Pt111_H, atoms=H2ads_slab,\n",
    "                        geometry='nonlinear', symmetrynumber=2, spin=0)\n",
    "\n",
    "G_h_Pt111 = h_Pt111_thermo.get_gibbs_energy(temperature=T, pressure=P, verbose=False)\n",
    "H_h_Pt111 = h_Pt111_thermo.get_enthalpy(temperature=T, verbose=False)"
   ]
  },
  {
   "cell_type": "code",
   "execution_count": null,
   "id": "0097e7b3",
   "metadata": {},
   "outputs": [],
   "source": [
    "Hads_h2 = 2*(H_h_Pt111- E_Pt111) - H_h2 \n",
    "\n",
    "print(f'ΔH H2 adsorption = {Hads_h2:.3f} eV')"
   ]
  },
  {
   "cell_type": "markdown",
   "id": "f47631e4-ec53-4791-9fa9-ea0275195009",
   "metadata": {},
   "source": [
    "Os ΔH e ΔE são diferente porque tem o punto ZTV na temperatura 0 e também uma differença com a integraçao da capacidade termica ($C_p$)"
   ]
  },
  {
   "cell_type": "markdown",
   "id": "c61ec082",
   "metadata": {},
   "source": [
    "## Resultado Final"
   ]
  },
  {
   "cell_type": "markdown",
   "id": "ef07eba7",
   "metadata": {},
   "source": [
    "\n",
    "| Reação                                 | $\\Delta E$ (eV)  | $\\Delta H$ (eV) |\n",
    "|----------------------------------------|----------|------------|\n",
    "| $ H_2 O + ^* \\rightleftarrows H_2 O^*$ |  -0.210  | -0.156     |\n",
    "| $ CO + * \\rightleftarrows CO*$         |  -1.753  | -1.671     |\n",
    "| $ CO2 + * \\rightleftarrows CO2*$       |  -0.012  | -0.001     |\n",
    "| $ H2 + * \\rightleftarrows 2 H*$        |  -0.905  | -0.767     |\n"
   ]
  },
  {
   "cell_type": "code",
   "execution_count": null,
   "id": "981434f7",
   "metadata": {},
   "outputs": [],
   "source": [
    "from matplotlib import pyplot as plt\n",
    "\n",
    "plt.hlines(H_h2o+H_co, xmin=0, xmax=1, colors='black')\n",
    "plt.hlines(H_h2o_Pt111+H_co, xmin=1, xmax=2, colors='black')\n",
    "plt.hlines(H_h2o_Pt111+H_co_Pt111, xmin=2, xmax=3, colors='black')\n",
    "plt.hlines(H_co2_Pt111+2*H_h_Pt111, xmin=3, xmax=4, colors='black')\n",
    "plt.hlines(H_co2_Pt111+H_h2, xmin=4, xmax=5, colors='black')\n",
    "plt.hlines(H_co2+H_h2, xmin=5, xmax=6, colors='black')\n",
    "\n",
    "plt.ylabel(r'$H$ (eV)')\n",
    "plt.xticks([0.5,1.5, 2.5, 3.5, 4.5, 5.5], ['H2O+CO','H2O(ads)+CO','H2O(ads)+CO(ads)','CO2(ads) + H2(ads)', 'CO2(ads) + H2', 'CO2 + H2'], rotation=45)\n",
    "plt.title('Water-gas shift reaction on Pt(111) surface')\n",
    "plt.grid(axis='y')"
   ]
  },
  {
   "cell_type": "code",
   "execution_count": null,
   "id": "7af44173",
   "metadata": {},
   "outputs": [],
   "source": []
  },
  {
   "cell_type": "code",
   "execution_count": null,
   "id": "ee01bae8-aabc-4942-925a-7aecb4126763",
   "metadata": {},
   "outputs": [],
   "source": []
  }
 ],
 "metadata": {
  "kernelspec": {
   "display_name": "Python 3 (ipykernel)",
   "language": "python",
   "name": "python3"
  },
  "language_info": {
   "codemirror_mode": {
    "name": "ipython",
    "version": 3
   },
   "file_extension": ".py",
   "mimetype": "text/x-python",
   "name": "python",
   "nbconvert_exporter": "python",
   "pygments_lexer": "ipython3",
   "version": "3.9.23"
  }
 },
 "nbformat": 4,
 "nbformat_minor": 5
}
